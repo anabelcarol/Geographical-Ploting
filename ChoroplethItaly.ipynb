{
 "cells": [
  {
   "cell_type": "markdown",
   "metadata": {
    "colab_type": "text",
    "id": "P3mxOlk5dcQU"
   },
   "source": [
    "# Make a choropleth map using plotly and geojson regions\n"
   ]
  },
  {
   "cell_type": "markdown",
   "metadata": {
    "colab_type": "text",
    "id": "h9m9zhaEh9IG"
   },
   "source": [
    "(optional) connect to google drive"
   ]
  },
  {
   "cell_type": "code",
   "execution_count": 0,
   "metadata": {
    "colab": {
     "base_uri": "https://localhost:8080/",
     "height": 122
    },
    "colab_type": "code",
    "id": "bGin07Ehh8Al",
    "outputId": "fb4b080f-4ed9-46a6-fc82-51765ba84048"
   },
   "outputs": [
    {
     "name": "stdout",
     "output_type": "stream",
     "text": [
      "Go to this URL in a browser: https://accounts.google.com/o/oauth2/auth?client_id=947318989803-6bn6qk8qdgf4n4g3pfee6491hc0brc4i.apps.googleusercontent.com&redirect_uri=urn%3aietf%3awg%3aoauth%3a2.0%3aoob&response_type=code&scope=email%20https%3a%2f%2fwww.googleapis.com%2fauth%2fdocs.test%20https%3a%2f%2fwww.googleapis.com%2fauth%2fdrive%20https%3a%2f%2fwww.googleapis.com%2fauth%2fdrive.photos.readonly%20https%3a%2f%2fwww.googleapis.com%2fauth%2fpeopleapi.readonly\n",
      "\n",
      "Enter your authorization code:\n",
      "··········\n",
      "Mounted at /content/drive\n"
     ]
    }
   ],
   "source": [
    "#from google.colab import drive\n",
    "#drive.mount('/content/drive')"
   ]
  },
  {
   "cell_type": "code",
   "execution_count": 0,
   "metadata": {
    "colab": {
     "base_uri": "https://localhost:8080/",
     "height": 1000
    },
    "colab_type": "code",
    "id": "rtvX5DCTvGvD",
    "outputId": "041bc300-24ba-415e-caf3-a5d742bd135b"
   },
   "outputs": [
    {
     "name": "stdout",
     "output_type": "stream",
     "text": [
      "Collecting plotly==4.8.1\n",
      "\u001b[?25l  Downloading https://files.pythonhosted.org/packages/70/56/eabdc7b7187cdb9d6121f6de2831ad5b85f7d002fa4bfe0476dbdb554bf6/plotly-4.8.1-py2.py3-none-any.whl (11.5MB)\n",
      "\u001b[K     |████████████████████████████████| 11.5MB 49kB/s \n",
      "\u001b[?25hRequirement already satisfied: six in /usr/local/lib/python3.6/dist-packages (from plotly==4.8.1) (1.12.0)\n",
      "Requirement already satisfied: retrying>=1.3.3 in /usr/local/lib/python3.6/dist-packages (from plotly==4.8.1) (1.3.3)\n",
      "Installing collected packages: plotly\n",
      "  Found existing installation: plotly 4.4.1\n",
      "    Uninstalling plotly-4.4.1:\n",
      "      Successfully uninstalled plotly-4.4.1\n",
      "Successfully installed plotly-4.8.1\n",
      "Collecting jupyterlab\n",
      "\u001b[?25l  Downloading https://files.pythonhosted.org/packages/c1/d0/c033ad5022ce3d562731cb19ec9c7cf9432075b727fcaf09e024f05516ed/jupyterlab-2.1.3-py3-none-any.whl (7.6MB)\n",
      "\u001b[K     |████████████████████████████████| 7.6MB 24kB/s \n",
      "\u001b[?25hCollecting ipywidgets==7.5\n",
      "\u001b[?25l  Downloading https://files.pythonhosted.org/packages/86/c2/20a3514f87fc063b4853673966e85c091843de659374d6e1dd046319815a/ipywidgets-7.5.0-py2.py3-none-any.whl (121kB)\n",
      "\u001b[K     |████████████████████████████████| 122kB 44.7MB/s \n",
      "\u001b[?25hRequirement already satisfied: jinja2>=2.10 in /usr/local/lib/python3.6/dist-packages (from jupyterlab) (2.11.2)\n",
      "Requirement already satisfied: notebook>=4.3.1 in /usr/local/lib/python3.6/dist-packages (from jupyterlab) (5.2.2)\n",
      "Requirement already satisfied: tornado!=6.0.0,!=6.0.1,!=6.0.2 in /usr/local/lib/python3.6/dist-packages (from jupyterlab) (4.5.3)\n",
      "Collecting jupyterlab-server<2.0,>=1.1.0\n",
      "  Downloading https://files.pythonhosted.org/packages/e9/7b/08d35a18a6aa02203b9c58a370fdc82619d312039394cbc5ccd1434dff3f/jupyterlab_server-1.1.5-py3-none-any.whl\n",
      "Requirement already satisfied: ipython>=4.0.0; python_version >= \"3.3\" in /usr/local/lib/python3.6/dist-packages (from ipywidgets==7.5) (5.5.0)\n",
      "Requirement already satisfied: traitlets>=4.3.1 in /usr/local/lib/python3.6/dist-packages (from ipywidgets==7.5) (4.3.3)\n",
      "Requirement already satisfied: ipykernel>=4.5.1 in /usr/local/lib/python3.6/dist-packages (from ipywidgets==7.5) (4.10.1)\n",
      "Requirement already satisfied: nbformat>=4.2.0 in /usr/local/lib/python3.6/dist-packages (from ipywidgets==7.5) (5.0.6)\n",
      "Requirement already satisfied: widgetsnbextension~=3.5.0 in /usr/local/lib/python3.6/dist-packages (from ipywidgets==7.5) (3.5.1)\n",
      "Requirement already satisfied: MarkupSafe>=0.23 in /usr/local/lib/python3.6/dist-packages (from jinja2>=2.10->jupyterlab) (1.1.1)\n",
      "Requirement already satisfied: nbconvert in /usr/local/lib/python3.6/dist-packages (from notebook>=4.3.1->jupyterlab) (5.6.1)\n",
      "Requirement already satisfied: jupyter-core in /usr/local/lib/python3.6/dist-packages (from notebook>=4.3.1->jupyterlab) (4.6.3)\n",
      "Requirement already satisfied: ipython-genutils in /usr/local/lib/python3.6/dist-packages (from notebook>=4.3.1->jupyterlab) (0.2.0)\n",
      "Requirement already satisfied: jupyter-client in /usr/local/lib/python3.6/dist-packages (from notebook>=4.3.1->jupyterlab) (5.3.4)\n",
      "Requirement already satisfied: terminado>=0.3.3; sys_platform != \"win32\" in /usr/local/lib/python3.6/dist-packages (from notebook>=4.3.1->jupyterlab) (0.8.3)\n",
      "Collecting jsonschema>=3.0.1\n",
      "\u001b[?25l  Downloading https://files.pythonhosted.org/packages/c5/8f/51e89ce52a085483359217bc72cdbf6e75ee595d5b1d4b5ade40c7e018b8/jsonschema-3.2.0-py2.py3-none-any.whl (56kB)\n",
      "\u001b[K     |████████████████████████████████| 61kB 9.7MB/s \n",
      "\u001b[?25hCollecting json5\n",
      "  Downloading https://files.pythonhosted.org/packages/2b/81/22bf51a5bc60dde18bb6164fd597f18ee683de8670e141364d9c432dd3cf/json5-0.9.5-py2.py3-none-any.whl\n",
      "Requirement already satisfied: requests in /usr/local/lib/python3.6/dist-packages (from jupyterlab-server<2.0,>=1.1.0->jupyterlab) (2.23.0)\n",
      "Requirement already satisfied: decorator in /usr/local/lib/python3.6/dist-packages (from ipython>=4.0.0; python_version >= \"3.3\"->ipywidgets==7.5) (4.4.2)\n",
      "Requirement already satisfied: pygments in /usr/local/lib/python3.6/dist-packages (from ipython>=4.0.0; python_version >= \"3.3\"->ipywidgets==7.5) (2.1.3)\n",
      "Requirement already satisfied: pexpect; sys_platform != \"win32\" in /usr/local/lib/python3.6/dist-packages (from ipython>=4.0.0; python_version >= \"3.3\"->ipywidgets==7.5) (4.8.0)\n",
      "Requirement already satisfied: setuptools>=18.5 in /usr/local/lib/python3.6/dist-packages (from ipython>=4.0.0; python_version >= \"3.3\"->ipywidgets==7.5) (46.4.0)\n",
      "Requirement already satisfied: pickleshare in /usr/local/lib/python3.6/dist-packages (from ipython>=4.0.0; python_version >= \"3.3\"->ipywidgets==7.5) (0.7.5)\n",
      "Requirement already satisfied: prompt-toolkit<2.0.0,>=1.0.4 in /usr/local/lib/python3.6/dist-packages (from ipython>=4.0.0; python_version >= \"3.3\"->ipywidgets==7.5) (1.0.18)\n",
      "Requirement already satisfied: simplegeneric>0.8 in /usr/local/lib/python3.6/dist-packages (from ipython>=4.0.0; python_version >= \"3.3\"->ipywidgets==7.5) (0.8.1)\n",
      "Requirement already satisfied: six in /usr/local/lib/python3.6/dist-packages (from traitlets>=4.3.1->ipywidgets==7.5) (1.12.0)\n",
      "Requirement already satisfied: entrypoints>=0.2.2 in /usr/local/lib/python3.6/dist-packages (from nbconvert->notebook>=4.3.1->jupyterlab) (0.3)\n",
      "Requirement already satisfied: defusedxml in /usr/local/lib/python3.6/dist-packages (from nbconvert->notebook>=4.3.1->jupyterlab) (0.6.0)\n",
      "Requirement already satisfied: pandocfilters>=1.4.1 in /usr/local/lib/python3.6/dist-packages (from nbconvert->notebook>=4.3.1->jupyterlab) (1.4.2)\n",
      "Requirement already satisfied: mistune<2,>=0.8.1 in /usr/local/lib/python3.6/dist-packages (from nbconvert->notebook>=4.3.1->jupyterlab) (0.8.4)\n",
      "Requirement already satisfied: bleach in /usr/local/lib/python3.6/dist-packages (from nbconvert->notebook>=4.3.1->jupyterlab) (3.1.5)\n",
      "Requirement already satisfied: testpath in /usr/local/lib/python3.6/dist-packages (from nbconvert->notebook>=4.3.1->jupyterlab) (0.4.4)\n",
      "Requirement already satisfied: python-dateutil>=2.1 in /usr/local/lib/python3.6/dist-packages (from jupyter-client->notebook>=4.3.1->jupyterlab) (2.8.1)\n",
      "Requirement already satisfied: pyzmq>=13 in /usr/local/lib/python3.6/dist-packages (from jupyter-client->notebook>=4.3.1->jupyterlab) (19.0.1)\n",
      "Requirement already satisfied: ptyprocess; os_name != \"nt\" in /usr/local/lib/python3.6/dist-packages (from terminado>=0.3.3; sys_platform != \"win32\"->notebook>=4.3.1->jupyterlab) (0.6.0)\n",
      "Requirement already satisfied: importlib-metadata; python_version < \"3.8\" in /usr/local/lib/python3.6/dist-packages (from jsonschema>=3.0.1->jupyterlab-server<2.0,>=1.1.0->jupyterlab) (1.6.0)\n",
      "Requirement already satisfied: pyrsistent>=0.14.0 in /usr/local/lib/python3.6/dist-packages (from jsonschema>=3.0.1->jupyterlab-server<2.0,>=1.1.0->jupyterlab) (0.16.0)\n",
      "Requirement already satisfied: attrs>=17.4.0 in /usr/local/lib/python3.6/dist-packages (from jsonschema>=3.0.1->jupyterlab-server<2.0,>=1.1.0->jupyterlab) (19.3.0)\n",
      "Requirement already satisfied: certifi>=2017.4.17 in /usr/local/lib/python3.6/dist-packages (from requests->jupyterlab-server<2.0,>=1.1.0->jupyterlab) (2020.4.5.1)\n",
      "Requirement already satisfied: urllib3!=1.25.0,!=1.25.1,<1.26,>=1.21.1 in /usr/local/lib/python3.6/dist-packages (from requests->jupyterlab-server<2.0,>=1.1.0->jupyterlab) (1.24.3)\n",
      "Requirement already satisfied: chardet<4,>=3.0.2 in /usr/local/lib/python3.6/dist-packages (from requests->jupyterlab-server<2.0,>=1.1.0->jupyterlab) (3.0.4)\n",
      "Requirement already satisfied: idna<3,>=2.5 in /usr/local/lib/python3.6/dist-packages (from requests->jupyterlab-server<2.0,>=1.1.0->jupyterlab) (2.9)\n",
      "Requirement already satisfied: wcwidth in /usr/local/lib/python3.6/dist-packages (from prompt-toolkit<2.0.0,>=1.0.4->ipython>=4.0.0; python_version >= \"3.3\"->ipywidgets==7.5) (0.1.9)\n",
      "Requirement already satisfied: webencodings in /usr/local/lib/python3.6/dist-packages (from bleach->nbconvert->notebook>=4.3.1->jupyterlab) (0.5.1)\n",
      "Requirement already satisfied: packaging in /usr/local/lib/python3.6/dist-packages (from bleach->nbconvert->notebook>=4.3.1->jupyterlab) (20.4)\n",
      "Requirement already satisfied: zipp>=0.5 in /usr/local/lib/python3.6/dist-packages (from importlib-metadata; python_version < \"3.8\"->jsonschema>=3.0.1->jupyterlab-server<2.0,>=1.1.0->jupyterlab) (3.1.0)\n",
      "Requirement already satisfied: pyparsing>=2.0.2 in /usr/local/lib/python3.6/dist-packages (from packaging->bleach->nbconvert->notebook>=4.3.1->jupyterlab) (2.4.7)\n",
      "Installing collected packages: jsonschema, json5, jupyterlab-server, jupyterlab, ipywidgets\n",
      "  Found existing installation: jsonschema 2.6.0\n",
      "    Uninstalling jsonschema-2.6.0:\n",
      "      Successfully uninstalled jsonschema-2.6.0\n",
      "  Found existing installation: ipywidgets 7.5.1\n",
      "    Uninstalling ipywidgets-7.5.1:\n",
      "      Successfully uninstalled ipywidgets-7.5.1\n",
      "Successfully installed ipywidgets-7.5.0 json5-0.9.5 jsonschema-3.2.0 jupyterlab-2.1.3 jupyterlab-server-1.1.5\n"
     ]
    },
    {
     "data": {
      "application/vnd.colab-display-data+json": {
       "pip_warning": {
        "packages": [
         "ipywidgets"
        ]
       }
      }
     },
     "metadata": {
      "tags": []
     },
     "output_type": "display_data"
    },
    {
     "name": "stdout",
     "output_type": "stream",
     "text": [
      "An error occured.\n",
      "ValueError: Please install nodejs >=10.0.0 before continuing. nodejs may be installed using conda or directly from the nodejs website.\n",
      "See the log file for details:  /tmp/jupyterlab-debug-uqnls9fy.log\n",
      "An error occured.\n",
      "ValueError: Please install nodejs >=10.0.0 before continuing. nodejs may be installed using conda or directly from the nodejs website.\n",
      "See the log file for details:  /tmp/jupyterlab-debug-f4ur2ak7.log\n",
      "Collecting plotly-geo==1.0.0\n",
      "\u001b[?25l  Downloading https://files.pythonhosted.org/packages/be/c6/be7d476e8c14c318c7b80329317d5dd5d1b876c393c9f8c0363b0dd188b8/plotly_geo-1.0.0-py3-none-any.whl (23.7MB)\n",
      "\u001b[K     |████████████████████████████████| 23.7MB 1.5MB/s \n",
      "\u001b[?25hInstalling collected packages: plotly-geo\n",
      "Successfully installed plotly-geo-1.0.0\n"
     ]
    }
   ],
   "source": [
    "# plotly.py may be installed using pip...\n",
    "#!pip install plotly==4.8.1\n",
    "\n",
    "\n",
    "#*********************\n",
    "#JupyterLab Support (Python 3.5+)\n",
    "#For use in JupyterLab, install the jupyterlab and ipywidgets packages using pip...\n",
    "#!pip install jupyterlab \"ipywidgets==7.5\"\n",
    "#Then run the following commands to install the required JupyterLab extensions (note that this will require node to be installed):\n",
    "\n",
    "# Basic JupyterLab renderer support\n",
    "#!jupyter labextension install jupyterlab-plotly@4.8.1\n",
    "# OPTIONAL: Jupyter widgets extension for FigureWidget support\n",
    "#!jupyter labextension install @jupyter-widgets/jupyterlab-manager plotlywidget@4.8.1\n",
    "\n",
    "#*********************\n",
    "#Static Image Export\n",
    "#plotly.py supports static image export using the to_image and write_image functions in the plotly.io package. This functionality requires the installation of the plotly orca command line utility and the psutil Python package.\n",
    "#!pip install psutil\n",
    "\n",
    "#*********************\n",
    "#Extended Geo Support\n",
    "#Some plotly.py features rely on fairly large geographic shape files. The county choropleth figure factory is one such example. These shape files are distributed as a separate plotly-geo package. This package can be installed using pip...\n",
    "#!pip install plotly-geo==1.0.0"
   ]
  },
  {
   "cell_type": "code",
   "execution_count": 0,
   "metadata": {
    "colab": {
     "base_uri": "https://localhost:8080/",
     "height": 85
    },
    "colab_type": "code",
    "id": "K9aHmk6Ud-qX",
    "outputId": "6920deb3-2ce9-4e74-e4fe-69711e4d2db4"
   },
   "outputs": [
    {
     "name": "stdout",
     "output_type": "stream",
     "text": [
      "Collecting fuzzywuzzy\n",
      "  Downloading https://files.pythonhosted.org/packages/43/ff/74f23998ad2f93b945c0309f825be92e04e0348e062026998b5eefef4c33/fuzzywuzzy-0.18.0-py2.py3-none-any.whl\n",
      "Installing collected packages: fuzzywuzzy\n",
      "Successfully installed fuzzywuzzy-0.18.0\n"
     ]
    }
   ],
   "source": [
    "#!pip install fuzzywuzzy"
   ]
  },
  {
   "cell_type": "code",
   "execution_count": 0,
   "metadata": {
    "colab": {
     "base_uri": "https://localhost:8080/",
     "height": 170
    },
    "colab_type": "code",
    "id": "OWB17kc1fAF6",
    "outputId": "b501af10-a37c-4ae2-cc81-7c9f68ccc398"
   },
   "outputs": [
    {
     "name": "stdout",
     "output_type": "stream",
     "text": [
      "Requirement already satisfied: chart-studio==1.0.0 in /usr/local/lib/python3.6/dist-packages (1.0.0)\n",
      "Requirement already satisfied: requests in /usr/local/lib/python3.6/dist-packages (from chart-studio==1.0.0) (2.23.0)\n",
      "Requirement already satisfied: plotly in /usr/local/lib/python3.6/dist-packages (from chart-studio==1.0.0) (4.8.1)\n",
      "Requirement already satisfied: six in /usr/local/lib/python3.6/dist-packages (from chart-studio==1.0.0) (1.12.0)\n",
      "Requirement already satisfied: retrying>=1.3.3 in /usr/local/lib/python3.6/dist-packages (from chart-studio==1.0.0) (1.3.3)\n",
      "Requirement already satisfied: chardet<4,>=3.0.2 in /usr/local/lib/python3.6/dist-packages (from requests->chart-studio==1.0.0) (3.0.4)\n",
      "Requirement already satisfied: urllib3!=1.25.0,!=1.25.1,<1.26,>=1.21.1 in /usr/local/lib/python3.6/dist-packages (from requests->chart-studio==1.0.0) (1.24.3)\n",
      "Requirement already satisfied: idna<3,>=2.5 in /usr/local/lib/python3.6/dist-packages (from requests->chart-studio==1.0.0) (2.9)\n",
      "Requirement already satisfied: certifi>=2017.4.17 in /usr/local/lib/python3.6/dist-packages (from requests->chart-studio==1.0.0) (2020.4.5.1)\n"
     ]
    }
   ],
   "source": [
    "# Chart Studio support\n",
    "#The chart-studio package can be used to upload plotly figures to Plotly's Chart Studio Cloud or On-Prem service. This package can be installed using pip...\n",
    "\n",
    "# !pip install chart_studio\n",
    "#!pip install chart-studio==1.0.0"
   ]
  },
  {
   "cell_type": "markdown",
   "metadata": {
    "colab_type": "text",
    "id": "vbVMpCc4iSh-"
   },
   "source": [
    "Import Libraries"
   ]
  },
  {
   "cell_type": "code",
   "execution_count": 1,
   "metadata": {
    "colab": {
     "base_uri": "https://localhost:8080/",
     "height": 71
    },
    "colab_type": "code",
    "id": "vh-rLJN5dcQV",
    "outputId": "ae69ed10-f1af-4f2d-f17f-b1140e25597e"
   },
   "outputs": [
    {
     "ename": "ModuleNotFoundError",
     "evalue": "No module named 'fuzzywuzzy'",
     "output_type": "error",
     "traceback": [
      "\u001b[0;31m---------------------------------------------------------------------------\u001b[0m",
      "\u001b[0;31mModuleNotFoundError\u001b[0m                       Traceback (most recent call last)",
      "\u001b[0;32m<ipython-input-1-721de471232c>\u001b[0m in \u001b[0;36m<module>\u001b[0;34m\u001b[0m\n\u001b[1;32m      2\u001b[0m \u001b[0;32mimport\u001b[0m \u001b[0mnumpy\u001b[0m \u001b[0;32mas\u001b[0m \u001b[0mnp\u001b[0m\u001b[0;34m\u001b[0m\u001b[0;34m\u001b[0m\u001b[0m\n\u001b[1;32m      3\u001b[0m \u001b[0;32mimport\u001b[0m \u001b[0mpandas\u001b[0m \u001b[0;32mas\u001b[0m \u001b[0mpd\u001b[0m\u001b[0;34m\u001b[0m\u001b[0;34m\u001b[0m\u001b[0m\n\u001b[0;32m----> 4\u001b[0;31m \u001b[0;32mfrom\u001b[0m \u001b[0mfuzzywuzzy\u001b[0m \u001b[0;32mimport\u001b[0m \u001b[0mfuzz\u001b[0m\u001b[0;34m,\u001b[0m \u001b[0mprocess\u001b[0m\u001b[0;34m\u001b[0m\u001b[0;34m\u001b[0m\u001b[0m\n\u001b[0m\u001b[1;32m      5\u001b[0m \u001b[0;32mfrom\u001b[0m \u001b[0mmatplotlib\u001b[0m\u001b[0;34m.\u001b[0m\u001b[0mcolors\u001b[0m \u001b[0;32mimport\u001b[0m \u001b[0mNormalize\u001b[0m\u001b[0;34m\u001b[0m\u001b[0;34m\u001b[0m\u001b[0m\n\u001b[1;32m      6\u001b[0m \u001b[0;32mfrom\u001b[0m \u001b[0mmatplotlib\u001b[0m \u001b[0;32mimport\u001b[0m \u001b[0mcm\u001b[0m\u001b[0;34m\u001b[0m\u001b[0;34m\u001b[0m\u001b[0m\n",
      "\u001b[0;31mModuleNotFoundError\u001b[0m: No module named 'fuzzywuzzy'"
     ]
    }
   ],
   "source": [
    "import json\n",
    "import numpy as np\n",
    "import pandas as pd\n",
    "from fuzzywuzzy import fuzz, process\n",
    "from matplotlib.colors import Normalize\n",
    "from matplotlib import cm\n",
    "from itertools import product\n",
    "import copy\n",
    "\n",
    "from plotly.offline import init_notebook_mode, iplot\n",
    "init_notebook_mode(connected=True)\n",
    "\n",
    "\n",
    "import chart_studio.plotly as py\n",
    "import plotly.graph_objs as go\n",
    "\n",
    "MAPBOX_APIKEY = \"pk.eyJ1IjoiYW5hYmVsY2Fyb2wiLCJhIjoiY2p5NHU5aWE5MDBuaDNtcTA1Z25ndmJ4YSJ9.6uDUV1_ZSXY9clXNpPraUQ\"\n",
    "# %matplotlib inline"
   ]
  },
  {
   "cell_type": "markdown",
   "metadata": {
    "colab_type": "text",
    "id": "aEGgUFcNdcQb"
   },
   "source": [
    "# Environmental Indicators"
   ]
  },
  {
   "cell_type": "markdown",
   "metadata": {
    "colab_type": "text",
    "id": "DY4yp5WeiXAd"
   },
   "source": [
    "Getting the data"
   ]
  },
  {
   "cell_type": "markdown",
   "metadata": {
    "colab_type": "text",
    "id": "SSEVZrUjdcQc"
   },
   "source": [
    "# Differentiated Waste Collection"
   ]
  },
  {
   "cell_type": "code",
   "execution_count": null,
   "metadata": {
    "colab": {
     "base_uri": "https://localhost:8080/",
     "height": 136
    },
    "colab_type": "code",
    "id": "VTL8vjRbdcQe",
    "outputId": "ca166476-4898-4196-ba84-6a6c9e3e95e3"
   },
   "outputs": [],
   "source": [
    "un = pd.read_csv('/content/drive/My Drive/Colab Notebooks/Choropleth_Italy/ProduzioneRD_regioni_2017.csv', index_col=0)\n",
    "un = un['Value']/100.\n",
    "un.index.name = 'Region'\n",
    "un.head()"
   ]
  },
  {
   "cell_type": "markdown",
   "metadata": {
    "colab_type": "text",
    "id": "bqgc1geRdcQk"
   },
   "source": [
    "Load the geojson"
   ]
  },
  {
   "cell_type": "code",
   "execution_count": null,
   "metadata": {
    "colab": {},
    "colab_type": "code",
    "id": "DMnLb8GKdcQl"
   },
   "outputs": [],
   "source": [
    "with open('/content/drive/My Drive/Colab Notebooks/Choropleth_Italy/regioni.geojson') as f:\n",
    "     geojson = json.load(f)"
   ]
  },
  {
   "cell_type": "markdown",
   "metadata": {
    "colab_type": "text",
    "id": "dYabaZtbdcQp"
   },
   "source": [
    "Count the number of provinces and get the province name"
   ]
  },
  {
   "cell_type": "code",
   "execution_count": null,
   "metadata": {
    "colab": {
     "base_uri": "https://localhost:8080/",
     "height": 34
    },
    "colab_type": "code",
    "id": "P5hS_DwhdcQr",
    "outputId": "bc60cc10-eb47-4492-946b-ade99dcf32bd"
   },
   "outputs": [],
   "source": [
    "n_provinces = len(geojson['features'])\n",
    "province_names = [geojson['features'][k]['properties']['NOME_REG'] for k in range(n_provinces)]\n",
    "print(\"there are {} regions \".format(n_provinces))"
   ]
  },
  {
   "cell_type": "markdown",
   "metadata": {
    "colab_type": "text",
    "id": "2la2Isc-dcQv"
   },
   "source": [
    "Center of each province"
   ]
  },
  {
   "cell_type": "code",
   "execution_count": null,
   "metadata": {
    "colab": {},
    "colab_type": "code",
    "id": "TJk3N_bBdcQv"
   },
   "outputs": [],
   "source": [
    "def get_centers():\n",
    "    lon, lat =[], []\n",
    "\n",
    "    for k in range(n_provinces):\n",
    "        geometry = geojson['features'][k]['geometry']\n",
    "\n",
    "        if geometry['type'] == 'Polygon':\n",
    "            coords=np.array(geometry['coordinates'][0])\n",
    "        elif geometry['type'] == 'MultiPolygon':\n",
    "            coords=np.array(geometry['coordinates'][0][0])\n",
    "\n",
    "        lon.append(sum(coords[:,0]) / len(coords[:,0]))\n",
    "        lat.append(sum(coords[:,1]) / len(coords[:,1]))\n",
    "            \n",
    "    return lon, lat"
   ]
  },
  {
   "cell_type": "markdown",
   "metadata": {
    "colab_type": "text",
    "id": "zmMXHFIPdcQz"
   },
   "source": [
    "Match province names with dataframe metric"
   ]
  },
  {
   "cell_type": "code",
   "execution_count": null,
   "metadata": {
    "colab": {},
    "colab_type": "code",
    "id": "b9if-vTAdcQz"
   },
   "outputs": [],
   "source": [
    "def match_regions(list1, list2):\n",
    "    \"\"\"\n",
    "    Match the region names of self.metric with the region names of the geojson\n",
    "    using fuzzy matching.\n",
    "\n",
    "    Return a dict with {'old_name': 'new_name'}\n",
    "    \"\"\"\n",
    "    matched = [process.extract(list1[i], list2, limit=1, scorer=fuzz.partial_ratio)[0][0] for i in range(0,len(list1))]\n",
    "\n",
    "    return {key: value for (key, value) in zip(list1, matched)}\n",
    "\n",
    "match_dict = match_regions(un.index, province_names)"
   ]
  },
  {
   "cell_type": "markdown",
   "metadata": {
    "colab_type": "text",
    "id": "VcxFnFrrdcQ5"
   },
   "source": [
    "reindex and rename the dataframe"
   ]
  },
  {
   "cell_type": "code",
   "execution_count": null,
   "metadata": {
    "colab": {
     "base_uri": "https://localhost:8080/",
     "height": 136
    },
    "colab_type": "code",
    "id": "9UYmVmM6dcQ6",
    "outputId": "69fafb30-9dee-4cf2-9f34-fa285670438b"
   },
   "outputs": [],
   "source": [
    "df_tmp = un.copy()\n",
    "df_tmp.index = df_tmp.index.map(match_dict) # rename\n",
    "df_tmp = df_tmp[~df_tmp.index.duplicated(keep=False)] # drop duplicates\n",
    "                                                      # from fuzzy match gone wrong\n",
    "#give the same index order as the geojson\n",
    "df_reindexed = df_tmp.reindex(index = province_names)\n",
    "df_reindexed.head()"
   ]
  },
  {
   "cell_type": "markdown",
   "metadata": {
    "colab_type": "text",
    "id": "xyL86gksdcQ-"
   },
   "source": [
    "Make the sources:"
   ]
  },
  {
   "cell_type": "code",
   "execution_count": null,
   "metadata": {
    "colab": {},
    "colab_type": "code",
    "id": "cfJcaY0ZdcQ_"
   },
   "outputs": [],
   "source": [
    "def make_sources(downsample = 10):\n",
    "    sources = []\n",
    "    geojson_copy = copy.deepcopy(geojson['features'])\n",
    "    \n",
    "    for feature in geojson_copy:\n",
    "        \n",
    "        if downsample > 0:\n",
    "            coords = np.array(feature['geometry']['coordinates'][0][0])\n",
    "            coords = coords[::downsample]\n",
    "            feature['geometry']['coordinates'] = [[coords]]\n",
    "            \n",
    "        sources.append(dict(type = 'FeatureCollection', \n",
    "                            features = [feature])\n",
    "                      )\n",
    "    return sources"
   ]
  },
  {
   "cell_type": "markdown",
   "metadata": {
    "colab_type": "text",
    "id": "qEnwg86_dcRB"
   },
   "source": [
    "Define the colours, the colorscale and the hover text"
   ]
  },
  {
   "cell_type": "code",
   "execution_count": null,
   "metadata": {
    "colab": {},
    "colab_type": "code",
    "id": "c-RJgnSadcRB"
   },
   "outputs": [],
   "source": [
    "def scalarmappable(cmap, cmin, cmax):\n",
    "        colormap = cm.get_cmap(cmap)\n",
    "        norm = Normalize(vmin=cmin, vmax=cmax)\n",
    "        return cm.ScalarMappable(norm=norm, cmap=colormap)\n",
    "    \n",
    "def get_scatter_colors(sm, df):\n",
    "    grey = 'rgba(128,128,128,1)'\n",
    "    return ['rgba' + str(sm.to_rgba(m, bytes = True, alpha = 1)) if not np.isnan(m) else grey for m in df]\n",
    "\n",
    "def get_colorscale(sm, df, cmin, cmax):\n",
    "    xrange = np.linspace(0, 1, len(df))\n",
    "    values = np.linspace(cmin, cmax, len(df))\n",
    "\n",
    "    return [[i, 'rgba' + str(sm.to_rgba(v, bytes = True))] for i,v in zip(xrange, values) ]\n",
    " \n",
    "def get_hover_text(df) :\n",
    "    text_value = (df*100).round(2).astype(str) + \" [Kg/citizen*year] \"\n",
    "    with_data = '<b>{}</b> <br> {} Differentiated Waste'\n",
    "    no_data = '<b>{}</b> <br> no data'\n",
    "    \n",
    "    return [with_data.format(p,v) if v != 'nan%' else no_data.format(p) for p,v in zip(df.index, text_value)]"
   ]
  },
  {
   "cell_type": "markdown",
   "metadata": {
    "colab_type": "text",
    "id": "1y7MhCr_dcRD"
   },
   "source": [
    "### Ready to make map"
   ]
  },
  {
   "cell_type": "markdown",
   "metadata": {
    "colab_type": "text",
    "id": "He3A7j0udcRD"
   },
   "source": [
    "Run all the functions"
   ]
  },
  {
   "cell_type": "code",
   "execution_count": null,
   "metadata": {
    "colab": {},
    "colab_type": "code",
    "id": "eOMFC57tdcRD"
   },
   "outputs": [],
   "source": [
    "colormap = 'Blues'\n",
    "cmin = df_reindexed.min()\n",
    "cmax = df_reindexed.max()\n",
    "\n",
    "sources = make_sources(downsample=10)\n",
    "lons, lats = get_centers()\n",
    "\n",
    "sm = scalarmappable(colormap, cmin, cmax)\n",
    "scatter_colors = get_scatter_colors(sm, df_reindexed)\n",
    "colorscale = get_colorscale(sm, df_reindexed, cmin, cmax)\n",
    "hover_text = get_hover_text(df_reindexed)\n",
    "\n",
    "tickformat = \".0%\""
   ]
  },
  {
   "cell_type": "markdown",
   "metadata": {
    "colab_type": "text",
    "id": "BbrmZYjbdcRF"
   },
   "source": [
    "The scattermapbox data"
   ]
  },
  {
   "cell_type": "code",
   "execution_count": null,
   "metadata": {
    "colab": {},
    "colab_type": "code",
    "id": "ckbR7TywdcRF"
   },
   "outputs": [],
   "source": [
    "data = dict(type='scattermapbox',\n",
    "             lat=lats,\n",
    "             lon=lons,\n",
    "             mode='markers',\n",
    "             text=hover_text,\n",
    "             marker=dict(size=1,\n",
    "                         color=scatter_colors,\n",
    "                         showscale = True,\n",
    "                         cmin = df_reindexed.min(),\n",
    "                         cmax = df_reindexed.max(),\n",
    "                         colorscale = colorscale,\n",
    "                         colorbar = dict(tickformat = tickformat )\n",
    "                         ),\n",
    "             showlegend=False,\n",
    "             hoverinfo='text'\n",
    "             )"
   ]
  },
  {
   "cell_type": "markdown",
   "metadata": {
    "colab_type": "text",
    "id": "s0u4IE_jdcRH"
   },
   "source": [
    "The borders"
   ]
  },
  {
   "cell_type": "code",
   "execution_count": null,
   "metadata": {
    "colab": {},
    "colab_type": "code",
    "id": "NIVhP42XdcRH"
   },
   "outputs": [],
   "source": [
    "layers=([dict(sourcetype = 'geojson',\n",
    "        source =sources[k],\n",
    "        below=\"\",\n",
    "        type = 'line',\n",
    "        line = dict(width = 1),\n",
    "        color = 'black',\n",
    "        ) for k in range(n_provinces)] +\n",
    "\n",
    "        [dict(sourcetype = 'geojson',\n",
    "             source =sources[k],\n",
    "             below=\"water\",\n",
    "             type = 'fill',\n",
    "             color = scatter_colors[k],\n",
    "             opacity=0.8\n",
    "            ) for k in range(n_provinces)]\n",
    "        )"
   ]
  },
  {
   "cell_type": "markdown",
   "metadata": {
    "colab_type": "text",
    "id": "zzVyMvvhdcRJ"
   },
   "source": [
    "The layout"
   ]
  },
  {
   "cell_type": "code",
   "execution_count": null,
   "metadata": {
    "colab": {},
    "colab_type": "code",
    "id": "b3rdGTXwdcRJ"
   },
   "outputs": [],
   "source": [
    "data_url = \"https://www.catasto-rifiuti.isprambiente.it/index.php?pg=&width=1440&height=900\"\n",
    "\n",
    "layout = dict(title=\"Differentiated Waste Collection (2017)<br> \" + \n",
    "                    \"\"\"using <a href={}>open data</a> by the \"\"\".format(data_url) +\n",
    "                      \"ISPRA Ambiente\",\n",
    "      autosize=False,\n",
    "      width=700,\n",
    "      height=800,\n",
    "      hovermode='closest',\n",
    "      hoverdistance = 30,\n",
    "\n",
    "      mapbox=dict(accesstoken=MAPBOX_APIKEY,\n",
    "                  layers=layers,\n",
    "                  bearing=0,\n",
    "                  center=dict(\n",
    "                  lat=41.871941,\n",
    "                  lon=12.567380),\n",
    "                  pitch=0,\n",
    "                  zoom=4.9,\n",
    "                  style = 'light'\n",
    "            )\n",
    "      )"
   ]
  },
  {
   "cell_type": "code",
   "execution_count": null,
   "metadata": {
    "colab": {
     "base_uri": "https://localhost:8080/",
     "height": 817
    },
    "colab_type": "code",
    "id": "H6JVdiUHdcRL",
    "outputId": "3db9f2e2-5a2e-47db-e995-da04fa290019"
   },
   "outputs": [],
   "source": [
    "#fig = dict(data=[data], layout=layout)\n",
    "#iplot(fig)\n",
    "\n",
    "fig=go.Figure(data=[data], layout=layout)\n",
    "fig.show()"
   ]
  },
  {
   "cell_type": "markdown",
   "metadata": {
    "colab_type": "text",
    "id": "7IDQT09wdcRN"
   },
   "source": [
    "which gives the plot below ( that I am rendering from an iframe from my plotly account) "
   ]
  },
  {
   "cell_type": "code",
   "execution_count": null,
   "metadata": {
    "colab": {},
    "colab_type": "code",
    "id": "E5RVE3vedcRN"
   },
   "outputs": [],
   "source": [
    "#from IPython.display import HTML\n",
    "#HTML('<iframe width=\"900\" height=\"800\" frameborder=\"0\" scrolling=\"no\" src=\"//plot.ly/~vincenzo.pota/24.embed\"></iframe>')"
   ]
  },
  {
   "cell_type": "markdown",
   "metadata": {
    "colab_type": "text",
    "id": "DOl9cZ2gdcRP"
   },
   "source": [
    "# Urban Waste Collection"
   ]
  },
  {
   "cell_type": "code",
   "execution_count": null,
   "metadata": {
    "colab": {
     "base_uri": "https://localhost:8080/",
     "height": 136
    },
    "colab_type": "code",
    "id": "mE87tERudcRP",
    "outputId": "8a625248-179b-42c3-e644-abd254c65164"
   },
   "outputs": [],
   "source": [
    "un = pd.read_csv('/content/drive/My Drive/Colab Notebooks/Choropleth_Italy/ProduzioneRU_regioni_2017.csv', index_col=0)\n",
    "un = un['Value']/100.\n",
    "un.index.name = 'Regioni'\n",
    "un.head()"
   ]
  },
  {
   "cell_type": "code",
   "execution_count": null,
   "metadata": {
    "colab": {
     "base_uri": "https://localhost:8080/",
     "height": 834
    },
    "colab_type": "code",
    "id": "mRPpB7U3dcRR",
    "outputId": "e3f712ee-2043-4ac1-e8cf-4830c625acfc"
   },
   "outputs": [],
   "source": [
    "with open('/content/drive/My Drive/Colab Notebooks/Choropleth_Italy/regioni.geojson') as f:\n",
    "     geojson = json.load(f)\n",
    "\n",
    "n_provinces = len(geojson['features'])\n",
    "province_names = [geojson['features'][k]['properties']['NOME_REG'] for k in range(n_provinces)]\n",
    "print(\"there are {} regions \".format(n_provinces))\n",
    " \n",
    "\n",
    "def get_centers():\n",
    "    lon, lat =[], []\n",
    "    for k in range(n_provinces):\n",
    "        geometry = geojson['features'][k]['geometry']\n",
    "        if geometry['type'] == 'Polygon':\n",
    "            coords=np.array(geometry['coordinates'][0])\n",
    "        elif geometry['type'] == 'MultiPolygon':\n",
    "            coords=np.array(geometry['coordinates'][0][0])\n",
    "        lon.append(sum(coords[:,0]) / len(coords[:,0]))\n",
    "        lat.append(sum(coords[:,1]) / len(coords[:,1]))\n",
    "            \n",
    "    return lon, lat\n",
    "\n",
    "def match_regions(list1, list2):\n",
    "    \"\"\"\n",
    "    Match the region names of self.metric with the region names of the geojson\n",
    "    using fuzzy matching.\n",
    "    Return a dict with {'old_name': 'new_name'}\n",
    "    \"\"\"\n",
    "    matched = [process.extract(list1[i], list2, limit=1, scorer=fuzz.partial_ratio)[0][0] for i in range(0,len(list1))]\n",
    "    return {key: value for (key, value) in zip(list1, matched)}\n",
    "match_dict = match_regions(un.index, province_names)\n",
    "\n",
    "df_tmp = un.copy()\n",
    "df_tmp.index = df_tmp.index.map(match_dict) # rename\n",
    "df_tmp = df_tmp[~df_tmp.index.duplicated(keep=False)] # drop duplicates\n",
    "                                                      # from fuzzy match gone wrong\n",
    "#give the same index order as the geojson\n",
    "df_reindexed = df_tmp.reindex(index = province_names)\n",
    "df_reindexed.head()\n",
    "\n",
    "\n",
    "def make_sources(downsample = 10):\n",
    "    sources = []\n",
    "    geojson_copy = copy.deepcopy(geojson['features'])\n",
    "    \n",
    "    for feature in geojson_copy:\n",
    "        \n",
    "        if downsample > 0:\n",
    "            coords = np.array(feature['geometry']['coordinates'][0][0])\n",
    "            coords = coords[::downsample]\n",
    "            feature['geometry']['coordinates'] = [[coords]]\n",
    "            \n",
    "        sources.append(dict(type = 'FeatureCollection', \n",
    "                            features = [feature])\n",
    "                      )\n",
    "    return sources\n",
    "\n",
    "\n",
    "def scalarmappable(cmap, cmin, cmax):\n",
    "        colormap = cm.get_cmap(cmap)\n",
    "        norm = Normalize(vmin=cmin, vmax=cmax)\n",
    "        return cm.ScalarMappable(norm=norm, cmap=colormap)\n",
    "    \n",
    "def get_scatter_colors(sm, df):\n",
    "    grey = 'rgba(128,128,128,1)'\n",
    "    return ['rgba' + str(sm.to_rgba(m, bytes = True, alpha = 1)) if not np.isnan(m) else grey for m in df]\n",
    "def get_colorscale(sm, df, cmin, cmax):\n",
    "    xrange = np.linspace(0, 1, len(df))\n",
    "    values = np.linspace(cmin, cmax, len(df))\n",
    "    return [[i, 'rgba' + str(sm.to_rgba(v, bytes = True))] for i,v in zip(xrange, values) ]\n",
    " \n",
    "def get_hover_text(df) :\n",
    "    text_value = (df*100).round(2).astype(str) + \" [Kg/citizen*year] \"\n",
    "    with_data = '<b>{}</b> <br> {} Municipality Waste'\n",
    "    no_data = '<b>{}</b> <br> no data'\n",
    "    \n",
    "    return [with_data.format(p,v) if v != 'nan%' else no_data.format(p) for p,v in zip(df.index, text_value)]\n",
    "\n",
    "\n",
    "\n",
    "colormap = 'Blues'\n",
    "cmin = df_reindexed.min()\n",
    "cmax = df_reindexed.max()\n",
    "sources = make_sources(downsample=10)\n",
    "lons, lats = get_centers()\n",
    "sm = scalarmappable(colormap, cmin, cmax)\n",
    "scatter_colors = get_scatter_colors(sm, df_reindexed)\n",
    "colorscale = get_colorscale(sm, df_reindexed, cmin, cmax)\n",
    "hover_text = get_hover_text(df_reindexed)\n",
    "tickformat = \".0\"\n",
    "\n",
    "data = dict(type='scattermapbox',\n",
    "             lat=lats,\n",
    "             lon=lons,\n",
    "             mode='markers',\n",
    "             text=hover_text,\n",
    "             marker=dict(size=1,\n",
    "                         color=scatter_colors,\n",
    "                         showscale = True,\n",
    "                         cmin = df_reindexed.min(),\n",
    "                         cmax = df_reindexed.max(),\n",
    "                         colorscale = colorscale,\n",
    "                         colorbar = dict(tickformat = tickformat )\n",
    "                         ),\n",
    "             showlegend=False,\n",
    "             hoverinfo='text'\n",
    "             )\n",
    "\n",
    "layers=([dict(sourcetype = 'geojson',\n",
    "        source =sources[k],\n",
    "        below=\"\",\n",
    "        type = 'line',\n",
    "        line = dict(width = 1),\n",
    "        color = 'black',\n",
    "        ) for k in range(n_provinces)] +\n",
    "        [dict(sourcetype = 'geojson',\n",
    "             source =sources[k],\n",
    "             below=\"water\",\n",
    "             type = 'fill',\n",
    "             color = scatter_colors[k],\n",
    "             opacity=0.8\n",
    "            ) for k in range(n_provinces)]\n",
    "        )\n",
    "\n",
    "data_url = \"https://www.catasto-rifiuti.isprambiente.it/index.php?pg=&width=1440&height=900\"\n",
    "layout = dict(title=\"Urban Waste (2017) <br> \" + \n",
    "                    \"\"\"using <a href={}>open data</a> by the \"\"\".format(data_url) +\n",
    "                      \"ISPRA Ambiente\",\n",
    "      autosize=False,\n",
    "      width=700,\n",
    "      height=800,\n",
    "      hovermode='closest',\n",
    "      hoverdistance = 30,\n",
    "      mapbox=dict(accesstoken=MAPBOX_APIKEY,\n",
    "                  layers=layers,\n",
    "                  bearing=0,\n",
    "                  center=dict(\n",
    "                  lat=41.871941,\n",
    "                  lon=12.567380),\n",
    "                  pitch=0,\n",
    "                  zoom=4.9,\n",
    "                  style = 'light'\n",
    "            )\n",
    "      )\n",
    "\n",
    "fig = dict(data=[data], layout=layout)\n",
    "iplot(fig)\n",
    "\n",
    "#from IPython.display import HTML\n",
    "#HTML('<iframe width=\"900\" height=\"800\" frameborder=\"0\" scrolling=\"no\" src=\"//plot.ly/~vincenzo.pota/24.embed\"></iframe>')\n",
    "\n"
   ]
  },
  {
   "cell_type": "markdown",
   "metadata": {
    "colab_type": "text",
    "id": "r3pokaoDdcRT"
   },
   "source": [
    "# Licensed Vehicles"
   ]
  },
  {
   "cell_type": "code",
   "execution_count": null,
   "metadata": {
    "colab": {
     "base_uri": "https://localhost:8080/",
     "height": 136
    },
    "colab_type": "code",
    "id": "Lx6zGdlFdcRT",
    "outputId": "1d8bd08d-4639-4b90-ca7e-b1673f0b0a69"
   },
   "outputs": [],
   "source": [
    "un = pd.read_csv('/content/drive/My Drive/Colab Notebooks/Choropleth_Italy/motorizzazioni1.csv', index_col=0)\n",
    "un = un['Value']/100.\n",
    "un.index.name = 'Province'\n",
    "un.head()"
   ]
  },
  {
   "cell_type": "code",
   "execution_count": null,
   "metadata": {
    "colab": {},
    "colab_type": "code",
    "id": "7SvOgVKhdcRU"
   },
   "outputs": [],
   "source": [
    "with open('/content/drive/My Drive/Colab Notebooks/Choropleth_Italy/province.geojson') as f:\n",
    "     geojson = json.load(f)"
   ]
  },
  {
   "cell_type": "code",
   "execution_count": null,
   "metadata": {
    "colab": {
     "base_uri": "https://localhost:8080/",
     "height": 34
    },
    "colab_type": "code",
    "id": "VzAUiblkdcRV",
    "outputId": "d9865b10-bbb2-46c3-a81f-4176ee0838ca"
   },
   "outputs": [],
   "source": [
    "n_provinces = len(geojson['features'])\n",
    "province_names = [geojson['features'][k]['properties']['NOME_PRO'] for k in range(n_provinces)]\n",
    "print(\"there are {} provinces \".format(n_provinces))"
   ]
  },
  {
   "cell_type": "code",
   "execution_count": null,
   "metadata": {
    "colab": {},
    "colab_type": "code",
    "id": "Eijof-pjdcRX"
   },
   "outputs": [],
   "source": [
    "def get_centers():\n",
    "    lon, lat =[], []\n",
    "\n",
    "    for k in range(n_provinces):\n",
    "        geometry = geojson['features'][k]['geometry']\n",
    "\n",
    "        if geometry['type'] == 'Polygon':\n",
    "            coords=np.array(geometry['coordinates'][0])\n",
    "        elif geometry['type'] == 'MultiPolygon':\n",
    "            coords=np.array(geometry['coordinates'][0][0])\n",
    "\n",
    "        lon.append(sum(coords[:,0]) / len(coords[:,0]))\n",
    "        lat.append(sum(coords[:,1]) / len(coords[:,1]))\n",
    "            \n",
    "    return lon, lat"
   ]
  },
  {
   "cell_type": "code",
   "execution_count": null,
   "metadata": {
    "colab": {
     "base_uri": "https://localhost:8080/",
     "height": 54
    },
    "colab_type": "code",
    "id": "LvnVy_yYdcRY",
    "outputId": "fea0cae5-d8b7-4f4a-bad8-9ae639e3f96e"
   },
   "outputs": [],
   "source": [
    "def match_regions(list1, list2):\n",
    "    \"\"\"\n",
    "    Match the region names of self.metric with the region names of the geojson\n",
    "    using fuzzy matching.\n",
    "\n",
    "    Return a dict with {'old_name': 'new_name'}\n",
    "    \"\"\"\n",
    "    matched = [process.extract(list1[i], list2, limit=1, scorer=fuzz.partial_ratio)[0][0] for i in range(0,len(list1))]\n",
    "\n",
    "    return {key: value for (key, value) in zip(list1, matched)}\n",
    "\n",
    "match_dict = match_regions(un.index, province_names)\n",
    "print(match_dict)"
   ]
  },
  {
   "cell_type": "code",
   "execution_count": null,
   "metadata": {
    "colab": {
     "base_uri": "https://localhost:8080/",
     "height": 136
    },
    "colab_type": "code",
    "id": "SIv4sw3JdcRa",
    "outputId": "9918408d-3e97-45cd-b5a8-1f7028b1753e"
   },
   "outputs": [],
   "source": [
    "df_tmp = un.copy()\n",
    "df_tmp.index = df_tmp.index.map(match_dict) # rename\n",
    "df_tmp = df_tmp[~df_tmp.index.duplicated(keep=False)] # drop duplicates\n",
    "                                                      # from fuzzy match gone wrong\n",
    "#give the same index order as the geojson\n",
    "df_reindexed = df_tmp.reindex(index = province_names)\n",
    "df_reindexed.head()"
   ]
  },
  {
   "cell_type": "code",
   "execution_count": null,
   "metadata": {
    "colab": {},
    "colab_type": "code",
    "id": "ZMFldwTHdcRb"
   },
   "outputs": [],
   "source": [
    "def make_sources(downsample = 10):\n",
    "    sources = []\n",
    "    geojson_copy = copy.deepcopy(geojson['features'])\n",
    "    \n",
    "    for feature in geojson_copy:\n",
    "        \n",
    "        if downsample > 0:\n",
    "            coords = np.array(feature['geometry']['coordinates'][0][0])\n",
    "            coords = coords[::downsample]\n",
    "            feature['geometry']['coordinates'] = [[coords]]\n",
    "            \n",
    "        sources.append(dict(type = 'FeatureCollection', \n",
    "                            features = [feature])\n",
    "                      )\n",
    "    return sources"
   ]
  },
  {
   "cell_type": "code",
   "execution_count": null,
   "metadata": {
    "colab": {},
    "colab_type": "code",
    "id": "iyNM56HUdcRc"
   },
   "outputs": [],
   "source": [
    "def scalarmappable(cmap, cmin, cmax):\n",
    "        colormap = cm.get_cmap(cmap)\n",
    "        norm = Normalize(vmin=cmin, vmax=cmax)\n",
    "        return cm.ScalarMappable(norm=norm, cmap=colormap)\n",
    "    \n",
    "def get_scatter_colors(sm, df):\n",
    "    grey = 'rgba(128,128,128,1)'\n",
    "    return ['rgba' + str(sm.to_rgba(m, bytes = True, alpha = 1)) if not np.isnan(m) else grey for m in df]\n",
    "\n",
    "def get_colorscale(sm, df, cmin, cmax):\n",
    "    xrange = np.linspace(0, 1, len(df))\n",
    "    values = np.linspace(cmin, cmax, len(df))\n",
    "\n",
    "    return [[i, 'rgba' + str(sm.to_rgba(v, bytes = True))] for i,v in zip(xrange, values) ]\n",
    " \n",
    "def get_hover_text(df) :\n",
    "    text_value = (df*100).round(2).astype(str) + \" \"\n",
    "    with_data = '<b>{}</b> <br> {} Licensed Vehicles(in thousands)'\n",
    "    no_data = '<b>{}</b> <br> no data'\n",
    "    \n",
    "    return [with_data.format(p,v) if v != 'nan%' else no_data.format(p) for p,v in zip(df.index, text_value)]"
   ]
  },
  {
   "cell_type": "code",
   "execution_count": null,
   "metadata": {
    "colab": {},
    "colab_type": "code",
    "id": "R8yMuF8fdcRd"
   },
   "outputs": [],
   "source": [
    "colormap = 'Blues'\n",
    "cmin = df_reindexed.min()\n",
    "cmax = df_reindexed.max()\n",
    "\n",
    "sources = make_sources(downsample=10)\n",
    "lons, lats = get_centers()\n",
    "\n",
    "sm = scalarmappable(colormap, cmin, cmax)\n",
    "scatter_colors = get_scatter_colors(sm, df_reindexed)\n",
    "colorscale = get_colorscale(sm, df_reindexed, cmin, cmax)\n",
    "hover_text = get_hover_text(df_reindexed)\n",
    "\n",
    "tickformat = \".0\""
   ]
  },
  {
   "cell_type": "code",
   "execution_count": null,
   "metadata": {
    "colab": {},
    "colab_type": "code",
    "id": "0LxWd5f_dcRe"
   },
   "outputs": [],
   "source": [
    "data = dict(type='scattermapbox',\n",
    "             lat=lats,\n",
    "             lon=lons,\n",
    "             mode='markers',\n",
    "             text=hover_text,\n",
    "             marker=dict(size=1,\n",
    "                         color=scatter_colors,\n",
    "                         showscale = True,\n",
    "                         cmin = df_reindexed.min(),\n",
    "                         cmax = df_reindexed.max(),\n",
    "                         colorscale = colorscale,\n",
    "                         colorbar = dict(tickformat = tickformat )\n",
    "                         ),\n",
    "             showlegend=False,\n",
    "             hoverinfo='text'\n",
    "             )"
   ]
  },
  {
   "cell_type": "code",
   "execution_count": null,
   "metadata": {
    "colab": {},
    "colab_type": "code",
    "id": "TdT9I0S2dcRf"
   },
   "outputs": [],
   "source": [
    "layers=([dict(sourcetype = 'geojson',\n",
    "        source =sources[k],\n",
    "        below=\"\",\n",
    "        type = 'line',\n",
    "        line = dict(width = 1),\n",
    "        color = 'black',\n",
    "        ) for k in range(n_provinces)] +\n",
    "\n",
    "        [dict(sourcetype = 'geojson',\n",
    "             source =sources[k],\n",
    "             below=\"water\",\n",
    "             type = 'fill',\n",
    "             color = scatter_colors[k],\n",
    "             opacity=0.8\n",
    "            ) for k in range(n_provinces)]\n",
    "        )"
   ]
  },
  {
   "cell_type": "code",
   "execution_count": null,
   "metadata": {
    "colab": {},
    "colab_type": "code",
    "id": "F8IVVTehdcRg"
   },
   "outputs": [],
   "source": [
    "data_url = \"http://www.datiopen.it/it/opendata/Tasso_di_motorizzazione_per_i_comuni_capoluogo_di_provincia_per_anno\"\n",
    "\n",
    "layout = dict(title=\"Licensed Vehicles (in thousands) <br> \" + \n",
    "                    \"\"\"using <a href={}>open data</a> by \"\"\".format(data_url) +\n",
    "                      \"Il portale Italiano dell'Open Data\",\n",
    "      autosize=False,\n",
    "      width=700,\n",
    "      height=800,\n",
    "      hovermode='closest',\n",
    "      hoverdistance = 30,\n",
    "\n",
    "      mapbox=dict(accesstoken=MAPBOX_APIKEY,\n",
    "                  layers=layers,\n",
    "                  bearing=0,\n",
    "                  center=dict(\n",
    "                  lat=41.871941,\n",
    "                  lon=12.567380),\n",
    "                  pitch=0,\n",
    "                  zoom=4.9,\n",
    "                  style = 'light'\n",
    "            )\n",
    "      )"
   ]
  },
  {
   "cell_type": "code",
   "execution_count": null,
   "metadata": {
    "colab": {
     "base_uri": "https://localhost:8080/",
     "height": 817
    },
    "colab_type": "code",
    "id": "Z8AU_dwodcRh",
    "outputId": "b4a39a09-9ed0-4b4a-9852-552e85c49647"
   },
   "outputs": [],
   "source": [
    "fig = dict(data=[data], layout=layout)\n",
    "iplot(fig)"
   ]
  },
  {
   "cell_type": "code",
   "execution_count": null,
   "metadata": {
    "colab": {},
    "colab_type": "code",
    "id": "GuxVn_4odcRj"
   },
   "outputs": [],
   "source": [
    "#from IPython.display import HTML\n",
    "#HTML('<iframe width=\"900\" height=\"800\" frameborder=\"0\" scrolling=\"no\" src=\"//plot.ly/~Anabelcarol/16.embed\"></iframe>')"
   ]
  },
  {
   "cell_type": "markdown",
   "metadata": {
    "colab_type": "text",
    "id": "J1XId8kHdcRk"
   },
   "source": [
    "# Picnic Areas"
   ]
  },
  {
   "cell_type": "code",
   "execution_count": null,
   "metadata": {
    "colab": {
     "base_uri": "https://localhost:8080/",
     "height": 136
    },
    "colab_type": "code",
    "id": "Svm-_xg6dcRk",
    "outputId": "d8193d81-c012-4259-9561-d83a17ae3a29"
   },
   "outputs": [],
   "source": [
    "un = pd.read_csv('/content/drive/My Drive/Colab Notebooks/Choropleth_Italy/AreePicnic_Province_2008-2016.csv', index_col=0)\n",
    "un = un['Value']/100.\n",
    "un.index.name = 'province'\n",
    "un.head()"
   ]
  },
  {
   "cell_type": "code",
   "execution_count": null,
   "metadata": {
    "colab": {},
    "colab_type": "code",
    "id": "oNkWAUsUdcRm"
   },
   "outputs": [],
   "source": [
    "with open('/content/drive/My Drive/Colab Notebooks/Choropleth_Italy/province.geojson') as f:\n",
    "     geojson = json.load(f)"
   ]
  },
  {
   "cell_type": "code",
   "execution_count": null,
   "metadata": {
    "colab": {
     "base_uri": "https://localhost:8080/",
     "height": 34
    },
    "colab_type": "code",
    "id": "isw2aKZTdcRm",
    "outputId": "4a4e3d64-4674-4419-e57a-4d17adfc7c16"
   },
   "outputs": [],
   "source": [
    "n_provinces = len(geojson['features'])\n",
    "province_names = [geojson['features'][k]['properties']['NOME_PRO'] for k in range(n_provinces)]\n",
    "print(\"there are {} provinces \".format(n_provinces))"
   ]
  },
  {
   "cell_type": "code",
   "execution_count": null,
   "metadata": {
    "colab": {},
    "colab_type": "code",
    "id": "_tzqRcoadcRo"
   },
   "outputs": [],
   "source": [
    "def get_centers():\n",
    "    lon, lat =[], []\n",
    "\n",
    "    for k in range(n_provinces):\n",
    "        geometry = geojson['features'][k]['geometry']\n",
    "\n",
    "        if geometry['type'] == 'Polygon':\n",
    "            coords=np.array(geometry['coordinates'][0])\n",
    "        elif geometry['type'] == 'MultiPolygon':\n",
    "            coords=np.array(geometry['coordinates'][0][0])\n",
    "\n",
    "        lon.append(sum(coords[:,0]) / len(coords[:,0]))\n",
    "        lat.append(sum(coords[:,1]) / len(coords[:,1]))\n",
    "            \n",
    "    return lon, lat"
   ]
  },
  {
   "cell_type": "code",
   "execution_count": null,
   "metadata": {
    "colab": {
     "base_uri": "https://localhost:8080/",
     "height": 54
    },
    "colab_type": "code",
    "id": "886tUEcrdcRq",
    "outputId": "795a04e6-9667-4c2f-b638-4101692806e1"
   },
   "outputs": [],
   "source": [
    "def match_regions(list1, list2):\n",
    "    \"\"\"\n",
    "    Match the region names of self.metric with the region names of the geojson\n",
    "    using fuzzy matching.\n",
    "\n",
    "    Return a dict with {'old_name': 'new_name'}\n",
    "    \"\"\"\n",
    "    matched = [process.extract(list1[i], list2, limit=1, scorer=fuzz.partial_ratio)[0][0] for i in range(0,len(list1))]\n",
    "\n",
    "    return {key: value for (key, value) in zip(list1, matched)}\n",
    "\n",
    "match_dict = match_regions(un.index, province_names)\n",
    "print (match_dict)"
   ]
  },
  {
   "cell_type": "code",
   "execution_count": null,
   "metadata": {
    "colab": {
     "base_uri": "https://localhost:8080/",
     "height": 136
    },
    "colab_type": "code",
    "id": "DgZeOwRFdcRr",
    "outputId": "82115675-bdee-4af7-ad43-e3e5ef48ef05"
   },
   "outputs": [],
   "source": [
    "df_tmp = un.copy()\n",
    "df_tmp.index = df_tmp.index.map(match_dict) # rename\n",
    "df_tmp = df_tmp[~df_tmp.index.duplicated(keep=False)] # drop duplicates\n",
    "                                                      # from fuzzy match gone wrong\n",
    "#give the same index order as the geojson\n",
    "df_reindexed = df_tmp.reindex(index = province_names)\n",
    "df_reindexed.head()"
   ]
  },
  {
   "cell_type": "code",
   "execution_count": null,
   "metadata": {
    "colab": {},
    "colab_type": "code",
    "id": "v0b5BOnSdcRs"
   },
   "outputs": [],
   "source": [
    "def make_sources(downsample = 10):\n",
    "    sources = []\n",
    "    geojson_copy = copy.deepcopy(geojson['features'])\n",
    "    \n",
    "    for feature in geojson_copy:\n",
    "        \n",
    "        if downsample > 0:\n",
    "            coords = np.array(feature['geometry']['coordinates'][0][0])\n",
    "            coords = coords[::downsample]\n",
    "            feature['geometry']['coordinates'] = [[coords]]\n",
    "            \n",
    "        sources.append(dict(type = 'FeatureCollection', \n",
    "                            features = [feature])\n",
    "                      )\n",
    "    return sources"
   ]
  },
  {
   "cell_type": "code",
   "execution_count": null,
   "metadata": {
    "colab": {},
    "colab_type": "code",
    "id": "UAw5zkdodcRt"
   },
   "outputs": [],
   "source": [
    "def scalarmappable(cmap, cmin, cmax):\n",
    "        colormap = cm.get_cmap(cmap)\n",
    "        norm = Normalize(vmin=cmin, vmax=cmax)\n",
    "        return cm.ScalarMappable(norm=norm, cmap=colormap)\n",
    "    \n",
    "def get_scatter_colors(sm, df):\n",
    "    grey = 'rgba(128,128,128,1)'\n",
    "    return ['rgba' + str(sm.to_rgba(m, bytes = True, alpha = 1)) if not np.isnan(m) else grey for m in df]\n",
    "\n",
    "def get_colorscale(sm, df, cmin, cmax):\n",
    "    xrange = np.linspace(0, 1, len(df))\n",
    "    values = np.linspace(cmin, cmax, len(df))\n",
    "\n",
    "    return [[i, 'rgba' + str(sm.to_rgba(v, bytes = True))] for i,v in zip(xrange, values) ]\n",
    " \n",
    "def get_hover_text(df) :\n",
    "    text_value = (df*100).round(2).astype(str) + \"%\"\n",
    "    with_data = '<b>{}</b> <br> {} Picnic Areas'\n",
    "    no_data = '<b>{}</b> <br> no data'\n",
    "    \n",
    "    return [with_data.format(p,v) if v != 'nan%' else no_data.format(p) for p,v in zip(df.index, text_value)]"
   ]
  },
  {
   "cell_type": "code",
   "execution_count": null,
   "metadata": {
    "colab": {},
    "colab_type": "code",
    "id": "LSITpkBldcRu"
   },
   "outputs": [],
   "source": [
    "colormap = 'Greens'\n",
    "cmin = df_reindexed.min()\n",
    "cmax = df_reindexed.max()\n",
    "\n",
    "sources = make_sources(downsample=10)\n",
    "lons, lats = get_centers()\n",
    "\n",
    "sm = scalarmappable(colormap, cmin, cmax)\n",
    "scatter_colors = get_scatter_colors(sm, df_reindexed)\n",
    "colorscale = get_colorscale(sm, df_reindexed, cmin, cmax)\n",
    "hover_text = get_hover_text(df_reindexed)\n",
    "\n",
    "tickformat = \".0%\""
   ]
  },
  {
   "cell_type": "code",
   "execution_count": null,
   "metadata": {
    "colab": {},
    "colab_type": "code",
    "id": "WeDYibb4dcRv"
   },
   "outputs": [],
   "source": [
    "data = dict(type='scattermapbox',\n",
    "             lat=lats,\n",
    "             lon=lons,\n",
    "             mode='markers',\n",
    "             text=hover_text,\n",
    "             marker=dict(size=1,\n",
    "                         color=scatter_colors,\n",
    "                         showscale = True,\n",
    "                         cmin = df_reindexed.min(),\n",
    "                         cmax = df_reindexed.max(),\n",
    "                         colorscale = colorscale,\n",
    "                         colorbar = dict(tickformat = tickformat )\n",
    "                         ),\n",
    "             showlegend=False,\n",
    "             hoverinfo='text'\n",
    "             )"
   ]
  },
  {
   "cell_type": "code",
   "execution_count": null,
   "metadata": {
    "colab": {},
    "colab_type": "code",
    "id": "aZSJm5XgdcRw"
   },
   "outputs": [],
   "source": [
    "layers=([dict(sourcetype = 'geojson',\n",
    "        source =sources[k],\n",
    "        below=\"\",\n",
    "        type = 'line',\n",
    "        line = dict(width = 1),\n",
    "        color = 'black',\n",
    "        ) for k in range(n_provinces)] +\n",
    "\n",
    "        [dict(sourcetype = 'geojson',\n",
    "             source =sources[k],\n",
    "             below=\"water\",\n",
    "             type = 'fill',\n",
    "             color = scatter_colors[k],\n",
    "             opacity=0.8\n",
    "            ) for k in range(n_provinces)]\n",
    "        )"
   ]
  },
  {
   "cell_type": "code",
   "execution_count": null,
   "metadata": {
    "colab": {},
    "colab_type": "code",
    "id": "wmTd-8SOdcRx"
   },
   "outputs": [],
   "source": [
    "data_url = \"http://www.datiopen.it/it/opendata/Mappa_delle_aree_picnic_in_Italia/\"\n",
    "\n",
    "layout = dict(title=\"Picnic Areas in Italy (2008-2016) <br> \" + \n",
    "                    \"\"\"using <a href={}>open data</a> by \"\"\".format(data_url) +\n",
    "                      \"Il portale Italiano dell'Open Data \",\n",
    "      autosize=False,\n",
    "      width=700,\n",
    "      height=800,\n",
    "      hovermode='closest',\n",
    "      hoverdistance = 30,\n",
    "\n",
    "      mapbox=dict(accesstoken=MAPBOX_APIKEY,\n",
    "                  layers=layers,\n",
    "                  bearing=0,\n",
    "                  center=dict(\n",
    "                  lat=41.871941,\n",
    "                  lon=12.567380),\n",
    "                  pitch=0,\n",
    "                  zoom=4.9,\n",
    "                  style = 'light'\n",
    "            )\n",
    "      )"
   ]
  },
  {
   "cell_type": "code",
   "execution_count": null,
   "metadata": {
    "colab": {
     "base_uri": "https://localhost:8080/",
     "height": 817
    },
    "colab_type": "code",
    "id": "UHeTzy4SdcRy",
    "outputId": "e136c0b4-a515-4cff-b4f4-1473063db999"
   },
   "outputs": [],
   "source": [
    "fig = dict(data=[data], layout=layout)\n",
    "iplot(fig)"
   ]
  },
  {
   "cell_type": "code",
   "execution_count": null,
   "metadata": {
    "colab": {},
    "colab_type": "code",
    "id": "_lASK2TwdcRz"
   },
   "outputs": [],
   "source": [
    "#from IPython.display import HTML\n",
    "#HTML('<iframe width=\"900\" height=\"800\" frameborder=\"0\" scrolling=\"no\" src=\"//plot.ly/~vincenzo.pota/24.embed\"></iframe>')\n"
   ]
  },
  {
   "cell_type": "markdown",
   "metadata": {
    "colab_type": "text",
    "id": "f_0v9Wn3dcR1"
   },
   "source": [
    "# Swimming Pools"
   ]
  },
  {
   "cell_type": "code",
   "execution_count": null,
   "metadata": {
    "colab": {
     "base_uri": "https://localhost:8080/",
     "height": 136
    },
    "colab_type": "code",
    "id": "nYtG84COdcR1",
    "outputId": "6aa823ee-6b28-4309-bfe1-713c881a3f4b"
   },
   "outputs": [],
   "source": [
    "un = pd.read_csv('/content/drive/My Drive/Colab Notebooks/Choropleth_Italy/SwimmingPool_2011-2016.csv', index_col=0)\n",
    "un = un['Value']/100.\n",
    "un.index.name = 'province'\n",
    "un.head()"
   ]
  },
  {
   "cell_type": "code",
   "execution_count": null,
   "metadata": {
    "colab": {},
    "colab_type": "code",
    "id": "ILyZ9M-NdcR2"
   },
   "outputs": [],
   "source": [
    "with open('/content/drive/My Drive/Colab Notebooks/Choropleth_Italy/province.geojson') as f:\n",
    "     geojson = json.load(f)"
   ]
  },
  {
   "cell_type": "code",
   "execution_count": null,
   "metadata": {
    "colab": {
     "base_uri": "https://localhost:8080/",
     "height": 34
    },
    "colab_type": "code",
    "id": "dtqnZeEWdcR3",
    "outputId": "7a29f07c-a154-44b8-b309-4c878817c810"
   },
   "outputs": [],
   "source": [
    "n_provinces = len(geojson['features'])\n",
    "province_names = [geojson['features'][k]['properties']['NOME_PRO'] for k in range(n_provinces)]\n",
    "print(\"there are {} provinces \".format(n_provinces))"
   ]
  },
  {
   "cell_type": "code",
   "execution_count": null,
   "metadata": {
    "colab": {},
    "colab_type": "code",
    "id": "AS2n0T7sdcR4"
   },
   "outputs": [],
   "source": [
    "def get_centers():\n",
    "    lon, lat =[], []\n",
    "\n",
    "    for k in range(n_provinces):\n",
    "        geometry = geojson['features'][k]['geometry']\n",
    "\n",
    "        if geometry['type'] == 'Polygon':\n",
    "            coords=np.array(geometry['coordinates'][0])\n",
    "        elif geometry['type'] == 'MultiPolygon':\n",
    "            coords=np.array(geometry['coordinates'][0][0])\n",
    "\n",
    "        lon.append(sum(coords[:,0]) / len(coords[:,0]))\n",
    "        lat.append(sum(coords[:,1]) / len(coords[:,1]))\n",
    "            \n",
    "    return lon, lat"
   ]
  },
  {
   "cell_type": "code",
   "execution_count": null,
   "metadata": {
    "colab": {
     "base_uri": "https://localhost:8080/",
     "height": 54
    },
    "colab_type": "code",
    "id": "Qy5PMO6PdcR5",
    "outputId": "36b4653f-d2d9-48b7-aa86-032582e85ccf"
   },
   "outputs": [],
   "source": [
    "def match_regions(list1, list2):\n",
    "    \"\"\"\n",
    "    Match the region names of self.metric with the region names of the geojson\n",
    "    using fuzzy matching.\n",
    "\n",
    "    Return a dict with {'old_name': 'new_name'}\n",
    "    \"\"\"\n",
    "    matched = [process.extract(list1[i], list2, limit=1, scorer=fuzz.partial_ratio)[0][0] for i in range(0,len(list1))]\n",
    "\n",
    "    return {key: value for (key, value) in zip(list1, matched)}\n",
    "\n",
    "match_dict = match_regions(un.index, province_names)\n",
    "print(match_dict)"
   ]
  },
  {
   "cell_type": "code",
   "execution_count": null,
   "metadata": {
    "colab": {
     "base_uri": "https://localhost:8080/",
     "height": 136
    },
    "colab_type": "code",
    "id": "PA4TTQ48dcR6",
    "outputId": "a2c6ce11-ede2-420d-e557-dcf2821caccf"
   },
   "outputs": [],
   "source": [
    "df_tmp = un.copy()\n",
    "df_tmp.index = df_tmp.index.map(match_dict) # rename\n",
    "df_tmp = df_tmp[~df_tmp.index.duplicated(keep=False)] # drop duplicates\n",
    "                                                      # from fuzzy match gone wrong\n",
    "#give the same index order as the geojson\n",
    "df_reindexed = df_tmp.reindex(index = province_names)\n",
    "df_reindexed.head()"
   ]
  },
  {
   "cell_type": "code",
   "execution_count": null,
   "metadata": {
    "colab": {},
    "colab_type": "code",
    "id": "dlPDk0U3dcR9"
   },
   "outputs": [],
   "source": [
    "def make_sources(downsample = 10):\n",
    "    sources = []\n",
    "    geojson_copy = copy.deepcopy(geojson['features'])\n",
    "    \n",
    "    for feature in geojson_copy:\n",
    "        \n",
    "        if downsample > 0:\n",
    "            coords = np.array(feature['geometry']['coordinates'][0][0])\n",
    "            coords = coords[::downsample]\n",
    "            feature['geometry']['coordinates'] = [[coords]]\n",
    "            \n",
    "        sources.append(dict(type = 'FeatureCollection', \n",
    "                            features = [feature])\n",
    "                      )\n",
    "    return sources"
   ]
  },
  {
   "cell_type": "code",
   "execution_count": null,
   "metadata": {
    "colab": {},
    "colab_type": "code",
    "id": "CwlVcvmrdcR-"
   },
   "outputs": [],
   "source": [
    "def scalarmappable(cmap, cmin, cmax):\n",
    "        colormap = cm.get_cmap(cmap)\n",
    "        norm = Normalize(vmin=cmin, vmax=cmax)\n",
    "        return cm.ScalarMappable(norm=norm, cmap=colormap)\n",
    "    \n",
    "def get_scatter_colors(sm, df):\n",
    "    grey = 'rgba(128,128,128,1)'\n",
    "    return ['rgba' + str(sm.to_rgba(m, bytes = True, alpha = 1)) if not np.isnan(m) else grey for m in df]\n",
    "\n",
    "def get_colorscale(sm, df, cmin, cmax):\n",
    "    xrange = np.linspace(0, 1, len(df))\n",
    "    values = np.linspace(cmin, cmax, len(df))\n",
    "\n",
    "    return [[i, 'rgba' + str(sm.to_rgba(v, bytes = True))] for i,v in zip(xrange, values) ]\n",
    " \n",
    "def get_hover_text(df) :\n",
    "    text_value = (df*100).round(2).astype(str) + \"  \"\n",
    "    with_data = '<b>{}</b> <br> {} Swimming Pools'\n",
    "    no_data = '<b>{}</b> <br> no data'\n",
    "    \n",
    "    return [with_data.format(p,v) if v != 'nan%' else no_data.format(p) for p,v in zip(df.index, text_value)]"
   ]
  },
  {
   "cell_type": "code",
   "execution_count": null,
   "metadata": {
    "colab": {},
    "colab_type": "code",
    "id": "vsR59sFcdcSB"
   },
   "outputs": [],
   "source": [
    "colormap = 'Greens'\n",
    "cmin = df_reindexed.min()\n",
    "cmax = df_reindexed.max()\n",
    "\n",
    "sources = make_sources(downsample=10)\n",
    "lons, lats = get_centers()\n",
    "\n",
    "sm = scalarmappable(colormap, cmin, cmax)\n",
    "scatter_colors = get_scatter_colors(sm, df_reindexed)\n",
    "colorscale = get_colorscale(sm, df_reindexed, cmin, cmax)\n",
    "hover_text = get_hover_text(df_reindexed)\n",
    "\n",
    "tickformat = \".0%\""
   ]
  },
  {
   "cell_type": "code",
   "execution_count": null,
   "metadata": {
    "colab": {},
    "colab_type": "code",
    "id": "PONsLvwQdcSC"
   },
   "outputs": [],
   "source": [
    "data = dict(type='scattermapbox',\n",
    "             lat=lats,\n",
    "             lon=lons,\n",
    "             mode='markers',\n",
    "             text=hover_text,\n",
    "             marker=dict(size=1,\n",
    "                         color=scatter_colors,\n",
    "                         showscale = True,\n",
    "                         cmin = df_reindexed.min(),\n",
    "                         cmax = df_reindexed.max(),\n",
    "                         colorscale = colorscale,\n",
    "                         colorbar = dict(tickformat = tickformat )\n",
    "                         ),\n",
    "             showlegend=False,\n",
    "             hoverinfo='text'\n",
    "             )"
   ]
  },
  {
   "cell_type": "code",
   "execution_count": null,
   "metadata": {
    "colab": {},
    "colab_type": "code",
    "id": "mAuJVheXdcSD"
   },
   "outputs": [],
   "source": [
    "layers=([dict(sourcetype = 'geojson',\n",
    "        source =sources[k],\n",
    "        below=\"\",\n",
    "        type = 'line',\n",
    "        line = dict(width = 1),\n",
    "        color = 'black',\n",
    "        ) for k in range(n_provinces)] +\n",
    "\n",
    "        [dict(sourcetype = 'geojson',\n",
    "             source =sources[k],\n",
    "             below=\"water\",\n",
    "             type = 'fill',\n",
    "             color = scatter_colors[k],\n",
    "             opacity=0.8\n",
    "            ) for k in range(n_provinces)]\n",
    "        )"
   ]
  },
  {
   "cell_type": "code",
   "execution_count": null,
   "metadata": {
    "colab": {},
    "colab_type": "code",
    "id": "zgnSgxGtdcSE"
   },
   "outputs": [],
   "source": [
    "data_url = \"http://www.datiopen.it/it/opendata/Mappa_delle_piscine_in_Italia\"\n",
    "\n",
    "layout = dict(title=\"Swimming Pools in Italy (2016) <br> \" + \n",
    "                    \"\"\"using <a href={}>open data</a> by \"\"\".format(data_url) +\n",
    "                      \"Il portale Italiano dell'Open Data\",\n",
    "      autosize=False,\n",
    "      width=700,\n",
    "      height=800,\n",
    "      hovermode='closest',\n",
    "      hoverdistance = 30,\n",
    "\n",
    "      mapbox=dict(accesstoken=MAPBOX_APIKEY,\n",
    "                  layers=layers,\n",
    "                  bearing=0,\n",
    "                  center=dict(\n",
    "                  lat=41.871941,\n",
    "                  lon=12.567380),\n",
    "                  pitch=0,\n",
    "                  zoom=4.9,\n",
    "                  style = 'light'\n",
    "            )\n",
    "      )"
   ]
  },
  {
   "cell_type": "code",
   "execution_count": null,
   "metadata": {
    "colab": {
     "base_uri": "https://localhost:8080/",
     "height": 817
    },
    "colab_type": "code",
    "id": "Jgc-bBjbdcSF",
    "outputId": "fc725cb3-2713-4592-9c2b-cd66f5f410f6"
   },
   "outputs": [],
   "source": [
    "fig = dict(data=[data], layout=layout)\n",
    "iplot(fig)"
   ]
  },
  {
   "cell_type": "code",
   "execution_count": null,
   "metadata": {
    "colab": {},
    "colab_type": "code",
    "id": "A7Y3AbOKdcSH"
   },
   "outputs": [],
   "source": [
    "#from IPython.display import HTML\n",
    "#HTML('<iframe width=\"900\" height=\"800\" frameborder=\"0\" scrolling=\"no\" src=\"//plot.ly/~vincenzo.pota/24.embed\"></iframe>')"
   ]
  },
  {
   "cell_type": "markdown",
   "metadata": {
    "colab_type": "text",
    "id": "J1hDpqGTdcSI"
   },
   "source": [
    "# Tv transmitters"
   ]
  },
  {
   "cell_type": "code",
   "execution_count": null,
   "metadata": {
    "colab": {
     "base_uri": "https://localhost:8080/",
     "height": 136
    },
    "colab_type": "code",
    "id": "BNoNJqHldcSI",
    "outputId": "96c6ce5f-2674-4f0c-94b3-ca21b08f10c8"
   },
   "outputs": [],
   "source": [
    "un = pd.read_csv('/content/drive/My Drive/Colab Notebooks/Choropleth_Italy/Italy_TV_transmitters.csv', index_col=0)\n",
    "un = un['Value']/100.\n",
    "un.index.name = 'province'\n",
    "un.head()"
   ]
  },
  {
   "cell_type": "code",
   "execution_count": null,
   "metadata": {
    "colab": {},
    "colab_type": "code",
    "id": "-Pnpw514dcSK"
   },
   "outputs": [],
   "source": [
    "with open('/content/drive/My Drive/Colab Notebooks/Choropleth_Italy/province.geojson') as f:\n",
    "     geojson = json.load(f)"
   ]
  },
  {
   "cell_type": "code",
   "execution_count": null,
   "metadata": {
    "colab": {
     "base_uri": "https://localhost:8080/",
     "height": 34
    },
    "colab_type": "code",
    "id": "tiFcO1oudcSL",
    "outputId": "e1aed5a4-d3cd-4bde-f20f-15e4805e461e"
   },
   "outputs": [],
   "source": [
    "n_provinces = len(geojson['features'])\n",
    "province_names = [geojson['features'][k]['properties']['NOME_PRO'] for k in range(n_provinces)]\n",
    "print(\"there are {} provinces \".format(n_provinces))"
   ]
  },
  {
   "cell_type": "code",
   "execution_count": null,
   "metadata": {
    "colab": {},
    "colab_type": "code",
    "id": "vIW3D0dwdcSM"
   },
   "outputs": [],
   "source": [
    "def get_centers():\n",
    "    lon, lat =[], []\n",
    "\n",
    "    for k in range(n_provinces):\n",
    "        geometry = geojson['features'][k]['geometry']\n",
    "\n",
    "        if geometry['type'] == 'Polygon':\n",
    "            coords=np.array(geometry['coordinates'][0])\n",
    "        elif geometry['type'] == 'MultiPolygon':\n",
    "            coords=np.array(geometry['coordinates'][0][0])\n",
    "\n",
    "        lon.append(sum(coords[:,0]) / len(coords[:,0]))\n",
    "        lat.append(sum(coords[:,1]) / len(coords[:,1]))\n",
    "            \n",
    "    return lon, lat"
   ]
  },
  {
   "cell_type": "code",
   "execution_count": null,
   "metadata": {
    "colab": {
     "base_uri": "https://localhost:8080/",
     "height": 54
    },
    "colab_type": "code",
    "id": "SYuPfthydcSN",
    "outputId": "6944cd17-99da-4783-eb3a-95351bd02fdc"
   },
   "outputs": [],
   "source": [
    "def match_regions(list1, list2):\n",
    "    \"\"\"\n",
    "    Match the region names of self.metric with the region names of the geojson\n",
    "    using fuzzy matching.\n",
    "\n",
    "    Return a dict with {'old_name': 'new_name'}\n",
    "    \"\"\"\n",
    "    matched = [process.extract(list1[i], list2, limit=1, scorer=fuzz.partial_ratio)[0][0] for i in range(0,len(list1))]\n",
    "\n",
    "    return {key: value for (key, value) in zip(list1, matched)}\n",
    "\n",
    "match_dict = match_regions(un.index, province_names)\n",
    "print(match_dict)"
   ]
  },
  {
   "cell_type": "code",
   "execution_count": null,
   "metadata": {
    "colab": {
     "base_uri": "https://localhost:8080/",
     "height": 136
    },
    "colab_type": "code",
    "id": "G22lI-IMdcSO",
    "outputId": "751cf9c6-c5a8-427a-967a-dfa79665b9df"
   },
   "outputs": [],
   "source": [
    "df_tmp = un.copy()\n",
    "df_tmp.index = df_tmp.index.map(match_dict) # rename\n",
    "df_tmp = df_tmp[~df_tmp.index.duplicated(keep=False)] # drop duplicates\n",
    "                                                      # from fuzzy match gone wrong\n",
    "#give the same index order as the geojson\n",
    "df_reindexed = df_tmp.reindex(index = province_names)\n",
    "df_reindexed.head()"
   ]
  },
  {
   "cell_type": "code",
   "execution_count": null,
   "metadata": {
    "colab": {},
    "colab_type": "code",
    "id": "1JHkM4KbdcSP"
   },
   "outputs": [],
   "source": [
    "def make_sources(downsample = 10):\n",
    "    sources = []\n",
    "    geojson_copy = copy.deepcopy(geojson['features'])\n",
    "    \n",
    "    for feature in geojson_copy:\n",
    "        \n",
    "        if downsample > 0:\n",
    "            coords = np.array(feature['geometry']['coordinates'][0][0])\n",
    "            coords = coords[::downsample]\n",
    "            feature['geometry']['coordinates'] = [[coords]]\n",
    "            \n",
    "        sources.append(dict(type = 'FeatureCollection', \n",
    "                            features = [feature])\n",
    "                      )\n",
    "    return sources"
   ]
  },
  {
   "cell_type": "code",
   "execution_count": null,
   "metadata": {
    "colab": {},
    "colab_type": "code",
    "id": "0ukoTb-KdcSQ"
   },
   "outputs": [],
   "source": [
    "def scalarmappable(cmap, cmin, cmax):\n",
    "        colormap = cm.get_cmap(cmap)\n",
    "        norm = Normalize(vmin=cmin, vmax=cmax)\n",
    "        return cm.ScalarMappable(norm=norm, cmap=colormap)\n",
    "    \n",
    "def get_scatter_colors(sm, df):\n",
    "    grey = 'rgba(128,128,128,1)'\n",
    "    return ['rgba' + str(sm.to_rgba(m, bytes = True, alpha = 1)) if not np.isnan(m) else grey for m in df]\n",
    "\n",
    "def get_colorscale(sm, df, cmin, cmax):\n",
    "    xrange = np.linspace(0, 1, len(df))\n",
    "    values = np.linspace(cmin, cmax, len(df))\n",
    "\n",
    "    return [[i, 'rgba' + str(sm.to_rgba(v, bytes = True))] for i,v in zip(xrange, values) ]\n",
    " \n",
    "def get_hover_text(df) :\n",
    "    text_value = (df*100).round(2).astype(str) + \"%\"\n",
    "    with_data = '<b>{}</b> <br> {} TV Transmitters'\n",
    "    no_data = '<b>{}</b> <br> no data'\n",
    "    \n",
    "    return [with_data.format(p,v) if v != 'nan%' else no_data.format(p) for p,v in zip(df.index, text_value)]"
   ]
  },
  {
   "cell_type": "code",
   "execution_count": null,
   "metadata": {
    "colab": {},
    "colab_type": "code",
    "id": "MdSHtw9_dcSS"
   },
   "outputs": [],
   "source": [
    "colormap = 'Blues'\n",
    "cmin = df_reindexed.min()\n",
    "cmax = df_reindexed.max()\n",
    "\n",
    "sources = make_sources(downsample=10)\n",
    "lons, lats = get_centers()\n",
    "\n",
    "sm = scalarmappable(colormap, cmin, cmax)\n",
    "scatter_colors = get_scatter_colors(sm, df_reindexed)\n",
    "colorscale = get_colorscale(sm, df_reindexed, cmin, cmax)\n",
    "hover_text = get_hover_text(df_reindexed)\n",
    "\n",
    "tickformat = \".0%\""
   ]
  },
  {
   "cell_type": "code",
   "execution_count": null,
   "metadata": {
    "colab": {},
    "colab_type": "code",
    "id": "W53KUjegdcSS"
   },
   "outputs": [],
   "source": [
    "data = dict(type='scattermapbox',\n",
    "             lat=lats,\n",
    "             lon=lons,\n",
    "             mode='markers',\n",
    "             text=hover_text,\n",
    "             marker=dict(size=1,\n",
    "                         color=scatter_colors,\n",
    "                         showscale = True,\n",
    "                         cmin = df_reindexed.min(),\n",
    "                         cmax = df_reindexed.max(),\n",
    "                         colorscale = colorscale,\n",
    "                         colorbar = dict(tickformat = tickformat )\n",
    "                         ),\n",
    "             showlegend=False,\n",
    "             hoverinfo='text'\n",
    "             )"
   ]
  },
  {
   "cell_type": "code",
   "execution_count": null,
   "metadata": {
    "colab": {},
    "colab_type": "code",
    "id": "WMdlCYdIdcST"
   },
   "outputs": [],
   "source": [
    "layers=([dict(sourcetype = 'geojson',\n",
    "        source =sources[k],\n",
    "        below=\"\",\n",
    "        type = 'line',\n",
    "        line = dict(width = 1),\n",
    "        color = 'black',\n",
    "        ) for k in range(n_provinces)] +\n",
    "\n",
    "        [dict(sourcetype = 'geojson',\n",
    "             source =sources[k],\n",
    "             below=\"water\",\n",
    "             type = 'fill',\n",
    "             color = scatter_colors[k],\n",
    "             opacity=0.8\n",
    "            ) for k in range(n_provinces)]\n",
    "        )"
   ]
  },
  {
   "cell_type": "code",
   "execution_count": null,
   "metadata": {
    "colab": {},
    "colab_type": "code",
    "id": "g8ZGTasPdcSU"
   },
   "outputs": [],
   "source": [
    "data_url = \"http://www.datiopen.it/en/opendata/Mappa_delle_antenne_in_Italia\"\n",
    "\n",
    "layout = dict(title=\"TV transmitters (2008-2016) <br> \" + \n",
    "                    \"\"\"using <a href={}>open data</a> by  \"\"\".format(data_url) +\n",
    "                      \"Il portale Italiano dell'Open Data\",\n",
    "      autosize=False,\n",
    "      width=700,\n",
    "      height=800,\n",
    "      hovermode='closest',\n",
    "      hoverdistance = 30,\n",
    "\n",
    "      mapbox=dict(accesstoken=MAPBOX_APIKEY,\n",
    "                  layers=layers,\n",
    "                  bearing=0,\n",
    "                  center=dict(\n",
    "                  lat=41.871941,\n",
    "                  lon=12.567380),\n",
    "                  pitch=0,\n",
    "                  zoom=4.9,\n",
    "                  style = 'light'\n",
    "            )\n",
    "      )"
   ]
  },
  {
   "cell_type": "code",
   "execution_count": null,
   "metadata": {
    "colab": {
     "base_uri": "https://localhost:8080/",
     "height": 817
    },
    "colab_type": "code",
    "id": "Zc3bgXxZdcSV",
    "outputId": "09847d61-132a-432d-da28-91c3fcf26b7b"
   },
   "outputs": [],
   "source": [
    "fig = dict(data=[data], layout=layout)\n",
    "iplot(fig)"
   ]
  },
  {
   "cell_type": "code",
   "execution_count": null,
   "metadata": {
    "colab": {},
    "colab_type": "code",
    "id": "97k79EFmdcSX"
   },
   "outputs": [],
   "source": [
    "#from IPython.display import HTML\n",
    "#HTML('<iframe width=\"900\" height=\"800\" frameborder=\"0\" scrolling=\"no\" src=\"//plot.ly/~vincenzo.pota/24.embed\"></iframe>')"
   ]
  },
  {
   "cell_type": "markdown",
   "metadata": {
    "colab_type": "text",
    "id": "0_yhWRN9dcSX"
   },
   "source": [
    "# No internet No broad"
   ]
  },
  {
   "cell_type": "code",
   "execution_count": null,
   "metadata": {
    "colab": {
     "base_uri": "https://localhost:8080/",
     "height": 136
    },
    "colab_type": "code",
    "id": "TMJV-REydcSY",
    "outputId": "f2967c17-72a2-4795-9b95-d5e57bae7bdb"
   },
   "outputs": [],
   "source": [
    "un = pd.read_csv('/content/drive/My Drive/Colab Notebooks/Choropleth_Italy/Internet_no_broadcast_connexion_noavailable_2016_2.csv', index_col=0)\n",
    "un = un['Value']/100.\n",
    "un.index.name = 'Regioni'\n",
    "un.head()"
   ]
  },
  {
   "cell_type": "code",
   "execution_count": null,
   "metadata": {
    "colab": {},
    "colab_type": "code",
    "id": "NMSw_EDpdcSY"
   },
   "outputs": [],
   "source": [
    "with open('/content/drive/My Drive/Colab Notebooks/Choropleth_Italy/regioni.geojson') as f:\n",
    "     geojson = json.load(f)"
   ]
  },
  {
   "cell_type": "code",
   "execution_count": null,
   "metadata": {
    "colab": {
     "base_uri": "https://localhost:8080/",
     "height": 34
    },
    "colab_type": "code",
    "id": "EC87-bDddcSZ",
    "outputId": "c4bd3e83-1f2d-497b-c2cc-53765f354449"
   },
   "outputs": [],
   "source": [
    "n_provinces = len(geojson['features'])\n",
    "province_names = [geojson['features'][k]['properties']['NOME_REG'] for k in range(n_provinces)]\n",
    "print(\"there are {} regions \".format(n_provinces))"
   ]
  },
  {
   "cell_type": "code",
   "execution_count": null,
   "metadata": {
    "colab": {},
    "colab_type": "code",
    "id": "PKAKTo5qdcSa"
   },
   "outputs": [],
   "source": [
    "def get_centers():\n",
    "    lon, lat =[], []\n",
    "\n",
    "    for k in range(n_provinces):\n",
    "        geometry = geojson['features'][k]['geometry']\n",
    "\n",
    "        if geometry['type'] == 'Polygon':\n",
    "            coords=np.array(geometry['coordinates'][0])\n",
    "        elif geometry['type'] == 'MultiPolygon':\n",
    "            coords=np.array(geometry['coordinates'][0][0])\n",
    "\n",
    "        lon.append(sum(coords[:,0]) / len(coords[:,0]))\n",
    "        lat.append(sum(coords[:,1]) / len(coords[:,1]))\n",
    "            \n",
    "    return lon, lat"
   ]
  },
  {
   "cell_type": "code",
   "execution_count": null,
   "metadata": {
    "colab": {},
    "colab_type": "code",
    "id": "rJ_QN0AFdcSb"
   },
   "outputs": [],
   "source": [
    "def match_regions(list1, list2):\n",
    "    \"\"\"\n",
    "    Match the region names of self.metric with the region names of the geojson\n",
    "    using fuzzy matching.\n",
    "\n",
    "    Return a dict with {'old_name': 'new_name'}\n",
    "    \"\"\"\n",
    "    matched = [process.extract(list1[i], list2, limit=1, scorer=fuzz.partial_ratio)[0][0] for i in range(0,len(list1))]\n",
    "\n",
    "    return {key: value for (key, value) in zip(list1, matched)}\n",
    "\n",
    "match_dict = match_regions(un.index, province_names)"
   ]
  },
  {
   "cell_type": "code",
   "execution_count": null,
   "metadata": {
    "colab": {
     "base_uri": "https://localhost:8080/",
     "height": 136
    },
    "colab_type": "code",
    "id": "X0rni9HmdcSb",
    "outputId": "7bd6b86c-f97c-4e62-beaa-31a79460ffef"
   },
   "outputs": [],
   "source": [
    "df_tmp = un.copy()\n",
    "df_tmp.index = df_tmp.index.map(match_dict) # rename\n",
    "df_tmp = df_tmp[~df_tmp.index.duplicated(keep=False)] # drop duplicates\n",
    "                                                      # from fuzzy match gone wrong\n",
    "#give the same index order as the geojson\n",
    "df_reindexed = df_tmp.reindex(index = province_names)\n",
    "df_reindexed.head()"
   ]
  },
  {
   "cell_type": "code",
   "execution_count": null,
   "metadata": {
    "colab": {},
    "colab_type": "code",
    "id": "Oroi9ucXdcSc"
   },
   "outputs": [],
   "source": [
    "def make_sources(downsample = 10):\n",
    "    sources = []\n",
    "    geojson_copy = copy.deepcopy(geojson['features'])\n",
    "    \n",
    "    for feature in geojson_copy:\n",
    "        \n",
    "        if downsample > 0:\n",
    "            coords = np.array(feature['geometry']['coordinates'][0][0])\n",
    "            coords = coords[::downsample]\n",
    "            feature['geometry']['coordinates'] = [[coords]]\n",
    "            \n",
    "        sources.append(dict(type = 'FeatureCollection', \n",
    "                            features = [feature])\n",
    "                      )\n",
    "    return sources"
   ]
  },
  {
   "cell_type": "code",
   "execution_count": null,
   "metadata": {
    "colab": {},
    "colab_type": "code",
    "id": "IWrphb88dcSd"
   },
   "outputs": [],
   "source": [
    "def scalarmappable(cmap, cmin, cmax):\n",
    "        colormap = cm.get_cmap(cmap)\n",
    "        norm = Normalize(vmin=cmin, vmax=cmax)\n",
    "        return cm.ScalarMappable(norm=norm, cmap=colormap)\n",
    "    \n",
    "def get_scatter_colors(sm, df):\n",
    "    grey = 'rgba(128,128,128,1)'\n",
    "    return ['rgba' + str(sm.to_rgba(m, bytes = True, alpha = 1)) if not np.isnan(m) else grey for m in df]\n",
    "\n",
    "def get_colorscale(sm, df, cmin, cmax):\n",
    "    xrange = np.linspace(0, 1, len(df))\n",
    "    values = np.linspace(cmin, cmax, len(df))\n",
    "\n",
    "    return [[i, 'rgba' + str(sm.to_rgba(v, bytes = True))] for i,v in zip(xrange, values) ]\n",
    " \n",
    "def get_hover_text(df) :\n",
    "    text_value = (df*100).round(2).astype(str) + \" Families \"\n",
    "    with_data = '<b>{}</b> <br> {} with No Internet'\n",
    "    no_data = '<b>{}</b> <br> no data'\n",
    "    \n",
    "    return [with_data.format(p,v) if v != 'nan%' else no_data.format(p) for p,v in zip(df.index, text_value)]"
   ]
  },
  {
   "cell_type": "code",
   "execution_count": null,
   "metadata": {
    "colab": {},
    "colab_type": "code",
    "id": "0PaS1N1hdcSe"
   },
   "outputs": [],
   "source": [
    "colormap = 'Oranges'\n",
    "cmin = df_reindexed.min()\n",
    "cmax = df_reindexed.max()\n",
    "\n",
    "sources = make_sources(downsample=10)\n",
    "lons, lats = get_centers()\n",
    "\n",
    "sm = scalarmappable(colormap, cmin, cmax)\n",
    "scatter_colors = get_scatter_colors(sm, df_reindexed)\n",
    "colorscale = get_colorscale(sm, df_reindexed, cmin, cmax)\n",
    "hover_text = get_hover_text(df_reindexed)\n",
    "\n",
    "tickformat = \".0%\""
   ]
  },
  {
   "cell_type": "code",
   "execution_count": null,
   "metadata": {
    "colab": {},
    "colab_type": "code",
    "id": "s9l3ytgxdcSe"
   },
   "outputs": [],
   "source": [
    "data = dict(type='scattermapbox',\n",
    "             lat=lats,\n",
    "             lon=lons,\n",
    "             mode='markers',\n",
    "             text=hover_text,\n",
    "             marker=dict(size=1,\n",
    "                         color=scatter_colors,\n",
    "                         showscale = True,\n",
    "                         cmin = df_reindexed.min(),\n",
    "                         cmax = df_reindexed.max(),\n",
    "                         colorscale = colorscale,\n",
    "                         colorbar = dict(tickformat = tickformat )\n",
    "                         ),\n",
    "             showlegend=False,\n",
    "             hoverinfo='text'\n",
    "             )"
   ]
  },
  {
   "cell_type": "code",
   "execution_count": null,
   "metadata": {
    "colab": {},
    "colab_type": "code",
    "id": "tCKCBND4dcSf"
   },
   "outputs": [],
   "source": [
    "layers=([dict(sourcetype = 'geojson',\n",
    "        source =sources[k],\n",
    "        below=\"\",\n",
    "        type = 'line',\n",
    "        line = dict(width = 1),\n",
    "        color = 'black',\n",
    "        ) for k in range(n_provinces)] +\n",
    "\n",
    "        [dict(sourcetype = 'geojson',\n",
    "             source =sources[k],\n",
    "             below=\"water\",\n",
    "             type = 'fill',\n",
    "             color = scatter_colors[k],\n",
    "             opacity=0.8\n",
    "            ) for k in range(n_provinces)]\n",
    "        )"
   ]
  },
  {
   "cell_type": "code",
   "execution_count": null,
   "metadata": {
    "colab": {},
    "colab_type": "code",
    "id": "TLP7aQW_dcSg"
   },
   "outputs": [],
   "source": [
    "data_url = \"http://dati.istat.it/Index.aspx?DataSetCode=DCIS_BIBLIOT\"\n",
    "\n",
    "layout = dict(title=\"2016- Families with No Internet-No Broadcast Connexion-Italy <br> \" + \n",
    "                    \"\"\"using <a href={}>open data</a> by the \"\"\".format(data_url) +\n",
    "                      \"Italian National Institute of Statistics\",\n",
    "      autosize=False,\n",
    "      width=700,\n",
    "      height=800,\n",
    "      hovermode='closest',\n",
    "      hoverdistance = 30,\n",
    "\n",
    "      mapbox=dict(accesstoken=MAPBOX_APIKEY,\n",
    "                  layers=layers,\n",
    "                  bearing=0,\n",
    "                  center=dict(\n",
    "                  lat=41.871941,\n",
    "                  lon=12.567380),\n",
    "                  pitch=0,\n",
    "                  zoom=4.9,\n",
    "                  style = 'light'\n",
    "            )\n",
    "      )"
   ]
  },
  {
   "cell_type": "code",
   "execution_count": null,
   "metadata": {
    "colab": {
     "base_uri": "https://localhost:8080/",
     "height": 817
    },
    "colab_type": "code",
    "id": "jwmibbu8dcSg",
    "outputId": "e3b923d3-46aa-4436-c735-70c82e41a34a"
   },
   "outputs": [],
   "source": [
    "fig = dict(data=[data], layout=layout)\n",
    "iplot(fig)"
   ]
  },
  {
   "cell_type": "code",
   "execution_count": null,
   "metadata": {
    "colab": {},
    "colab_type": "code",
    "id": "ivUsP57adcSh"
   },
   "outputs": [],
   "source": [
    "#from IPython.display import HTML\n",
    "#HTML('<iframe width=\"900\" height=\"800\" frameborder=\"0\" scrolling=\"no\" src=\"//plot.ly/~vincenzo.pota/24.embed\"></iframe>')"
   ]
  },
  {
   "cell_type": "markdown",
   "metadata": {
    "colab_type": "text",
    "id": "6oC8d-X1dcSi"
   },
   "source": [
    "# No Internet High Cost"
   ]
  },
  {
   "cell_type": "code",
   "execution_count": null,
   "metadata": {
    "colab": {
     "base_uri": "https://localhost:8080/",
     "height": 136
    },
    "colab_type": "code",
    "id": "sdxiiKC9dcSi",
    "outputId": "5800dc16-ea89-4250-fab7-1a24119d1438"
   },
   "outputs": [],
   "source": [
    "un = pd.read_csv('/content/drive/My Drive/Colab Notebooks/Choropleth_Italy/internet_no_for_HighCost_2016_regioni.csv', index_col=0)\n",
    "un = un['Value']/100.\n",
    "un.index.name = 'Regioni'\n",
    "un.head()"
   ]
  },
  {
   "cell_type": "code",
   "execution_count": null,
   "metadata": {
    "colab": {},
    "colab_type": "code",
    "id": "mU138_88dcSj"
   },
   "outputs": [],
   "source": [
    "with open('/content/drive/My Drive/Colab Notebooks/Choropleth_Italy/regioni.geojson') as f:\n",
    "     geojson = json.load(f)"
   ]
  },
  {
   "cell_type": "code",
   "execution_count": null,
   "metadata": {
    "colab": {
     "base_uri": "https://localhost:8080/",
     "height": 34
    },
    "colab_type": "code",
    "id": "3ZwOB84PdcSj",
    "outputId": "751a0de8-c871-4acd-8e04-894ac4e763b2"
   },
   "outputs": [],
   "source": [
    "n_provinces = len(geojson['features'])\n",
    "province_names = [geojson['features'][k]['properties']['NOME_REG'] for k in range(n_provinces)]\n",
    "print(\"there are {} regions \".format(n_provinces))"
   ]
  },
  {
   "cell_type": "code",
   "execution_count": null,
   "metadata": {
    "colab": {},
    "colab_type": "code",
    "id": "XYGpL7eYdcSk"
   },
   "outputs": [],
   "source": [
    "def get_centers():\n",
    "    lon, lat =[], []\n",
    "\n",
    "    for k in range(n_provinces):\n",
    "        geometry = geojson['features'][k]['geometry']\n",
    "\n",
    "        if geometry['type'] == 'Polygon':\n",
    "            coords=np.array(geometry['coordinates'][0])\n",
    "        elif geometry['type'] == 'MultiPolygon':\n",
    "            coords=np.array(geometry['coordinates'][0][0])\n",
    "\n",
    "        lon.append(sum(coords[:,0]) / len(coords[:,0]))\n",
    "        lat.append(sum(coords[:,1]) / len(coords[:,1]))\n",
    "            \n",
    "    return lon, lat"
   ]
  },
  {
   "cell_type": "code",
   "execution_count": null,
   "metadata": {
    "colab": {},
    "colab_type": "code",
    "id": "dgAI2RoxdcSl"
   },
   "outputs": [],
   "source": [
    "def match_regions(list1, list2):\n",
    "    \"\"\"\n",
    "    Match the region names of self.metric with the region names of the geojson\n",
    "    using fuzzy matching.\n",
    "\n",
    "    Return a dict with {'old_name': 'new_name'}\n",
    "    \"\"\"\n",
    "    matched = [process.extract(list1[i], list2, limit=1, scorer=fuzz.partial_ratio)[0][0] for i in range(0,len(list1))]\n",
    "\n",
    "    return {key: value for (key, value) in zip(list1, matched)}\n",
    "\n",
    "match_dict = match_regions(un.index, province_names)"
   ]
  },
  {
   "cell_type": "code",
   "execution_count": null,
   "metadata": {
    "colab": {
     "base_uri": "https://localhost:8080/",
     "height": 136
    },
    "colab_type": "code",
    "id": "ENISjQjBdcSm",
    "outputId": "07642344-6b8d-4295-9b49-d480f5cfc78c"
   },
   "outputs": [],
   "source": [
    "df_tmp = un.copy()\n",
    "df_tmp.index = df_tmp.index.map(match_dict) # rename\n",
    "df_tmp = df_tmp[~df_tmp.index.duplicated(keep=False)] # drop duplicates\n",
    "                                                      # from fuzzy match gone wrong\n",
    "#give the same index order as the geojson\n",
    "df_reindexed = df_tmp.reindex(index = province_names)\n",
    "df_reindexed.head()"
   ]
  },
  {
   "cell_type": "code",
   "execution_count": null,
   "metadata": {
    "colab": {},
    "colab_type": "code",
    "id": "L3d7nPG8dcSn"
   },
   "outputs": [],
   "source": [
    "def make_sources(downsample = 10):\n",
    "    sources = []\n",
    "    geojson_copy = copy.deepcopy(geojson['features'])\n",
    "    \n",
    "    for feature in geojson_copy:\n",
    "        \n",
    "        if downsample > 0:\n",
    "            coords = np.array(feature['geometry']['coordinates'][0][0])\n",
    "            coords = coords[::downsample]\n",
    "            feature['geometry']['coordinates'] = [[coords]]\n",
    "            \n",
    "        sources.append(dict(type = 'FeatureCollection', \n",
    "                            features = [feature])\n",
    "                      )\n",
    "    return sources"
   ]
  },
  {
   "cell_type": "code",
   "execution_count": null,
   "metadata": {
    "colab": {},
    "colab_type": "code",
    "id": "nNID2UHQdcSo"
   },
   "outputs": [],
   "source": [
    "def scalarmappable(cmap, cmin, cmax):\n",
    "        colormap = cm.get_cmap(cmap)\n",
    "        norm = Normalize(vmin=cmin, vmax=cmax)\n",
    "        return cm.ScalarMappable(norm=norm, cmap=colormap)\n",
    "    \n",
    "def get_scatter_colors(sm, df):\n",
    "    grey = 'rgba(128,128,128,1)'\n",
    "    return ['rgba' + str(sm.to_rgba(m, bytes = True, alpha = 1)) if not np.isnan(m) else grey for m in df]\n",
    "\n",
    "def get_colorscale(sm, df, cmin, cmax):\n",
    "    xrange = np.linspace(0, 1, len(df))\n",
    "    values = np.linspace(cmin, cmax, len(df))\n",
    "\n",
    "    return [[i, 'rgba' + str(sm.to_rgba(v, bytes = True))] for i,v in zip(xrange, values) ]\n",
    " \n",
    "def get_hover_text(df) :\n",
    "    text_value = (df*100).round(2).astype(str) + \" families \"\n",
    "    with_data = '<b>{}</b> <br> {} with No Internet'\n",
    "    no_data = '<b>{}</b> <br> no data'\n",
    "    \n",
    "    return [with_data.format(p,v) if v != 'nan%' else no_data.format(p) for p,v in zip(df.index, text_value)]"
   ]
  },
  {
   "cell_type": "code",
   "execution_count": null,
   "metadata": {
    "colab": {},
    "colab_type": "code",
    "id": "gfuR5zm8dcSp"
   },
   "outputs": [],
   "source": [
    "colormap = 'Oranges'\n",
    "cmin = df_reindexed.min()\n",
    "cmax = df_reindexed.max()\n",
    "\n",
    "sources = make_sources(downsample=10)\n",
    "lons, lats = get_centers()\n",
    "\n",
    "sm = scalarmappable(colormap, cmin, cmax)\n",
    "scatter_colors = get_scatter_colors(sm, df_reindexed)\n",
    "colorscale = get_colorscale(sm, df_reindexed, cmin, cmax)\n",
    "hover_text = get_hover_text(df_reindexed)\n",
    "\n",
    "tickformat = \".0\""
   ]
  },
  {
   "cell_type": "code",
   "execution_count": null,
   "metadata": {
    "colab": {},
    "colab_type": "code",
    "id": "Xh-VWOL-dcSq"
   },
   "outputs": [],
   "source": [
    "data = dict(type='scattermapbox',\n",
    "             lat=lats,\n",
    "             lon=lons,\n",
    "             mode='markers',\n",
    "             text=hover_text,\n",
    "             marker=dict(size=1,\n",
    "                         color=scatter_colors,\n",
    "                         showscale = True,\n",
    "                         cmin = df_reindexed.min(),\n",
    "                         cmax = df_reindexed.max(),\n",
    "                         colorscale = colorscale,\n",
    "                         colorbar = dict(tickformat = tickformat )\n",
    "                         ),\n",
    "             showlegend=False,\n",
    "             hoverinfo='text'\n",
    "             )"
   ]
  },
  {
   "cell_type": "code",
   "execution_count": null,
   "metadata": {
    "colab": {},
    "colab_type": "code",
    "id": "scVx5gjddcSq"
   },
   "outputs": [],
   "source": [
    "layers=([dict(sourcetype = 'geojson',\n",
    "        source =sources[k],\n",
    "        below=\"\",\n",
    "        type = 'line',\n",
    "        line = dict(width = 1),\n",
    "        color = 'black',\n",
    "        ) for k in range(n_provinces)] +\n",
    "\n",
    "        [dict(sourcetype = 'geojson',\n",
    "             source =sources[k],\n",
    "             below=\"water\",\n",
    "             type = 'fill',\n",
    "             color = scatter_colors[k],\n",
    "             opacity=0.8\n",
    "            ) for k in range(n_provinces)]\n",
    "        )"
   ]
  },
  {
   "cell_type": "code",
   "execution_count": null,
   "metadata": {
    "colab": {},
    "colab_type": "code",
    "id": "5AuPvSM5dcSr"
   },
   "outputs": [],
   "source": [
    "data_url = \"http://dati.istat.it/Index.aspx?DataSetCode=DCIS_BIBLIOT\"\n",
    "\n",
    "layout = dict(title=\"No Internet-High Cost Connection (2016)<br> \" + \n",
    "                    \"\"\"using <a href={}>open data</a> by the \"\"\".format(data_url) +\n",
    "                      \"Italian National Institute of Statistics\",\n",
    "      autosize=False,\n",
    "      width=700,\n",
    "      height=800,\n",
    "      hovermode='closest',\n",
    "      hoverdistance = 30,\n",
    "\n",
    "      mapbox=dict(accesstoken=MAPBOX_APIKEY,\n",
    "                  layers=layers,\n",
    "                  bearing=0,\n",
    "                  center=dict(\n",
    "                  lat=41.871941,\n",
    "                  lon=12.567380),\n",
    "                  pitch=0,\n",
    "                  zoom=4.9,\n",
    "                  style = 'light'\n",
    "            )\n",
    "      )"
   ]
  },
  {
   "cell_type": "code",
   "execution_count": null,
   "metadata": {
    "colab": {
     "base_uri": "https://localhost:8080/",
     "height": 817
    },
    "colab_type": "code",
    "id": "iTs8TFXBdcSs",
    "outputId": "fb7f3731-b6bd-42dd-da10-e120936abe99"
   },
   "outputs": [],
   "source": [
    "fig = dict(data=[data], layout=layout)\n",
    "iplot(fig)"
   ]
  },
  {
   "cell_type": "code",
   "execution_count": null,
   "metadata": {
    "colab": {},
    "colab_type": "code",
    "id": "CjJOoc4CdcSt"
   },
   "outputs": [],
   "source": [
    "#from IPython.display import HTML\n",
    "#HTML('<iframe width=\"900\" height=\"800\" frameborder=\"0\" scrolling=\"no\" src=\"//plot.ly/~vincenzo.pota/24.embed\"></iframe>')"
   ]
  },
  {
   "cell_type": "markdown",
   "metadata": {
    "colab_type": "text",
    "id": "PeKPpWXBdcSu"
   },
   "source": [
    "# Seats in libraries"
   ]
  },
  {
   "cell_type": "code",
   "execution_count": null,
   "metadata": {
    "colab": {
     "base_uri": "https://localhost:8080/",
     "height": 136
    },
    "colab_type": "code",
    "id": "bNoEUgVxdcSu",
    "outputId": "6432a817-65bf-4b7e-db5d-6004664c850a"
   },
   "outputs": [],
   "source": [
    "un = pd.read_csv('/content/drive/My Drive/Colab Notebooks/Choropleth_Italy/Biblioteche_regioni_2010_1.csv', index_col=0)\n",
    "un = un['Value']/10000.\n",
    "un.index.name = 'Region'\n",
    "un.head()"
   ]
  },
  {
   "cell_type": "code",
   "execution_count": null,
   "metadata": {
    "colab": {},
    "colab_type": "code",
    "id": "9ChXv4u2dcSw"
   },
   "outputs": [],
   "source": [
    "with open('/content/drive/My Drive/Colab Notebooks/Choropleth_Italy/regioni.geojson') as f:\n",
    "     geojson = json.load(f)"
   ]
  },
  {
   "cell_type": "code",
   "execution_count": null,
   "metadata": {
    "colab": {
     "base_uri": "https://localhost:8080/",
     "height": 34
    },
    "colab_type": "code",
    "id": "yUYWhnLzdcSx",
    "outputId": "7b06326c-e525-4975-b90a-3e8e8b9969c9"
   },
   "outputs": [],
   "source": [
    "n_provinces = len(geojson['features'])\n",
    "province_names = [geojson['features'][k]['properties']['NOME_REG'] for k in range(n_provinces)]\n",
    "print(\"there are {} regions \".format(n_provinces))"
   ]
  },
  {
   "cell_type": "code",
   "execution_count": null,
   "metadata": {
    "colab": {},
    "colab_type": "code",
    "id": "KEP82Dz_dcSy"
   },
   "outputs": [],
   "source": [
    "def get_centers():\n",
    "    lon, lat =[], []\n",
    "\n",
    "    for k in range(n_provinces):\n",
    "        geometry = geojson['features'][k]['geometry']\n",
    "\n",
    "        if geometry['type'] == 'Polygon':\n",
    "            coords=np.array(geometry['coordinates'][0])\n",
    "        elif geometry['type'] == 'MultiPolygon':\n",
    "            coords=np.array(geometry['coordinates'][0][0])\n",
    "\n",
    "        lon.append(sum(coords[:,0]) / len(coords[:,0]))\n",
    "        lat.append(sum(coords[:,1]) / len(coords[:,1]))\n",
    "            \n",
    "    return lon, lat"
   ]
  },
  {
   "cell_type": "code",
   "execution_count": null,
   "metadata": {
    "colab": {
     "base_uri": "https://localhost:8080/",
     "height": 54
    },
    "colab_type": "code",
    "id": "o6BNnb2CdcSy",
    "outputId": "016b24fb-ad52-48e8-a931-2a4299646864"
   },
   "outputs": [],
   "source": [
    "def match_regions(list1, list2):\n",
    "    \"\"\"\n",
    "    Match the region names of self.metric with the region names of the geojson\n",
    "    using fuzzy matching.\n",
    "\n",
    "    Return a dict with {'old_name': 'new_name'}\n",
    "    \"\"\"\n",
    "    matched = [process.extract(list1[i], list2, limit=1, scorer=fuzz.partial_ratio)[0][0] for i in range(0,len(list1))]\n",
    "\n",
    "    return {key: value for (key, value) in zip(list1, matched)}\n",
    "\n",
    "match_dict = match_regions(un.index, province_names)\n",
    "print(match_dict)"
   ]
  },
  {
   "cell_type": "code",
   "execution_count": null,
   "metadata": {
    "colab": {
     "base_uri": "https://localhost:8080/",
     "height": 136
    },
    "colab_type": "code",
    "id": "V5LcVA9hdcS0",
    "outputId": "c2643cd6-9267-4aff-a815-8b97733eb985"
   },
   "outputs": [],
   "source": [
    "df_tmp = un.copy()\n",
    "df_tmp.index = df_tmp.index.map(match_dict) # rename\n",
    "df_tmp = df_tmp[~df_tmp.index.duplicated(keep=False)] # drop duplicates\n",
    "                                                      # from fuzzy match gone wrong\n",
    "#give the same index order as the geojson\n",
    "df_reindexed = df_tmp.reindex(index = province_names)\n",
    "df_reindexed.head()"
   ]
  },
  {
   "cell_type": "code",
   "execution_count": null,
   "metadata": {
    "colab": {},
    "colab_type": "code",
    "id": "PDpF06BTdcS1"
   },
   "outputs": [],
   "source": [
    "def make_sources(downsample = 10):\n",
    "    sources = []\n",
    "    geojson_copy = copy.deepcopy(geojson['features'])\n",
    "    \n",
    "    for feature in geojson_copy:\n",
    "        \n",
    "        if downsample > 0:\n",
    "            coords = np.array(feature['geometry']['coordinates'][0][0])\n",
    "            coords = coords[::downsample]\n",
    "            feature['geometry']['coordinates'] = [[coords]]\n",
    "            \n",
    "        sources.append(dict(type = 'FeatureCollection', \n",
    "                            features = [feature])\n",
    "                      )\n",
    "    return sources"
   ]
  },
  {
   "cell_type": "code",
   "execution_count": null,
   "metadata": {
    "colab": {},
    "colab_type": "code",
    "id": "0VRmNHAgdcS2"
   },
   "outputs": [],
   "source": [
    "def scalarmappable(cmap, cmin, cmax):\n",
    "        colormap = cm.get_cmap(cmap)\n",
    "        norm = Normalize(vmin=cmin, vmax=cmax)\n",
    "        return cm.ScalarMappable(norm=norm, cmap=colormap)\n",
    "    \n",
    "def get_scatter_colors(sm, df):\n",
    "    grey = 'rgba(128,128,128,1)'\n",
    "    return ['rgba' + str(sm.to_rgba(m, bytes = True, alpha = 1)) if not np.isnan(m) else grey for m in df]\n",
    "\n",
    "def get_colorscale(sm, df, cmin, cmax):\n",
    "    xrange = np.linspace(0, 1, len(df))\n",
    "    values = np.linspace(cmin, cmax, len(df))\n",
    "\n",
    "    return [[i, 'rgba' + str(sm.to_rgba(v, bytes = True))] for i,v in zip(xrange, values) ]\n",
    " \n",
    "def get_hover_text(df) :\n",
    "    text_value = (df*100).round(2).astype(str) + \" \"\n",
    "    with_data = '<b>{}</b> <br> {} Seats in libraries'\n",
    "    no_data = '<b>{}</b> <br> no data'\n",
    "    \n",
    "    return [with_data.format(p,v) if v != 'nan%' else no_data.format(p) for p,v in zip(df.index, text_value)]"
   ]
  },
  {
   "cell_type": "code",
   "execution_count": null,
   "metadata": {
    "colab": {},
    "colab_type": "code",
    "id": "-TlyTCfidcS3"
   },
   "outputs": [],
   "source": [
    "colormap = 'Oranges'\n",
    "cmin = df_reindexed.min()\n",
    "cmax = df_reindexed.max()\n",
    "\n",
    "sources = make_sources(downsample=10)\n",
    "lons, lats = get_centers()\n",
    "\n",
    "sm = scalarmappable(colormap, cmin, cmax)\n",
    "scatter_colors = get_scatter_colors(sm, df_reindexed)\n",
    "colorscale = get_colorscale(sm, df_reindexed, cmin, cmax)\n",
    "hover_text = get_hover_text(df_reindexed)\n",
    "\n",
    "tickformat = \".0%\""
   ]
  },
  {
   "cell_type": "code",
   "execution_count": null,
   "metadata": {
    "colab": {},
    "colab_type": "code",
    "id": "Lavbts2_dcS3"
   },
   "outputs": [],
   "source": [
    "data = dict(type='scattermapbox',\n",
    "             lat=lats,\n",
    "             lon=lons,\n",
    "             mode='markers',\n",
    "             text=hover_text,\n",
    "             marker=dict(size=1,\n",
    "                         color=scatter_colors,\n",
    "                         showscale = True,\n",
    "                         cmin = df_reindexed.min(),\n",
    "                         cmax = df_reindexed.max(),\n",
    "                         colorscale = colorscale,\n",
    "                         colorbar = dict(tickformat = tickformat )\n",
    "                         ),\n",
    "             showlegend=False,\n",
    "             hoverinfo='text'\n",
    "             )"
   ]
  },
  {
   "cell_type": "code",
   "execution_count": null,
   "metadata": {
    "colab": {},
    "colab_type": "code",
    "id": "cRR8LhKadcS4"
   },
   "outputs": [],
   "source": [
    "layers=([dict(sourcetype = 'geojson',\n",
    "        source =sources[k],\n",
    "        below=\"\",\n",
    "        type = 'line',\n",
    "        line = dict(width = 1),\n",
    "        color = 'black',\n",
    "        ) for k in range(n_provinces)] +\n",
    "\n",
    "        [dict(sourcetype = 'geojson',\n",
    "             source =sources[k],\n",
    "             below=\"water\",\n",
    "             type = 'fill',\n",
    "             color = scatter_colors[k],\n",
    "             opacity=0.8\n",
    "            ) for k in range(n_provinces)]\n",
    "        )"
   ]
  },
  {
   "cell_type": "code",
   "execution_count": null,
   "metadata": {
    "colab": {},
    "colab_type": "code",
    "id": "TjmQpGpRdcS5"
   },
   "outputs": [],
   "source": [
    "data_url = \"http://dati.istat.it/Index.aspx?DataSetCode=DCIS_BIBLIOT\"\n",
    "\n",
    "layout = dict(title=\"Number of seats for Readers in Public Libraries (2010)<br> \" + \n",
    "                    \"\"\"using <a href={}>open data</a> by the \"\"\".format(data_url) +\n",
    "                      \"Italian National Institute of Statistics\",\n",
    "      autosize=False,\n",
    "      width=700,\n",
    "      height=800,\n",
    "      hovermode='closest',\n",
    "      hoverdistance = 30,\n",
    "\n",
    "      mapbox=dict(accesstoken=MAPBOX_APIKEY,\n",
    "                  layers=layers,\n",
    "                  bearing=0,\n",
    "                  center=dict(\n",
    "                  lat=41.871941,\n",
    "                  lon=12.567380),\n",
    "                  pitch=0,\n",
    "                  zoom=4.9,\n",
    "                  style = 'light'\n",
    "            )\n",
    "      )"
   ]
  },
  {
   "cell_type": "code",
   "execution_count": null,
   "metadata": {
    "colab": {
     "base_uri": "https://localhost:8080/",
     "height": 817
    },
    "colab_type": "code",
    "id": "3nDFwHQSdcS5",
    "outputId": "615df12f-3273-4e35-ecf2-9ceeb8b39f63"
   },
   "outputs": [],
   "source": [
    "fig = dict(data=[data], layout=layout)\n",
    "iplot(fig)"
   ]
  },
  {
   "cell_type": "code",
   "execution_count": null,
   "metadata": {
    "colab": {},
    "colab_type": "code",
    "id": "cu55vyz9dcS6"
   },
   "outputs": [],
   "source": [
    "#from IPython.display import HTML\n",
    "#HTML('<iframe width=\"900\" height=\"800\" frameborder=\"0\" scrolling=\"no\" src=\"//plot.ly/~vincenzo.pota/24.embed\"></iframe>')"
   ]
  },
  {
   "cell_type": "markdown",
   "metadata": {
    "colab_type": "text",
    "id": "H6NykvfpdcS7"
   },
   "source": [
    "# How workers reach place of work - public transport"
   ]
  },
  {
   "cell_type": "code",
   "execution_count": null,
   "metadata": {
    "colab": {
     "base_uri": "https://localhost:8080/",
     "height": 136
    },
    "colab_type": "code",
    "id": "He3imKcqdcS7",
    "outputId": "60bbde99-50f2-4a17-da51-249ea3153fd2"
   },
   "outputs": [],
   "source": [
    "un = pd.read_csv('/content/drive/My Drive/Colab Notebooks/Choropleth_Italy/StradaCasaLavoro_2017-2018_usano_mezziTrasporto.csv', index_col=0)\n",
    "un = un['Value']/100.\n",
    "un.index.name = 'Region'\n",
    "un.head()"
   ]
  },
  {
   "cell_type": "code",
   "execution_count": null,
   "metadata": {
    "colab": {},
    "colab_type": "code",
    "id": "LNi5lLNAdcS8"
   },
   "outputs": [],
   "source": [
    "with open('/content/drive/My Drive/Colab Notebooks/Choropleth_Italy/regioni.geojson') as f:\n",
    "     geojson = json.load(f)"
   ]
  },
  {
   "cell_type": "code",
   "execution_count": null,
   "metadata": {
    "colab": {
     "base_uri": "https://localhost:8080/",
     "height": 34
    },
    "colab_type": "code",
    "id": "vpyHffS9dcS9",
    "outputId": "1e510d20-befe-4a50-8a8b-45921fb94d56"
   },
   "outputs": [],
   "source": [
    "n_provinces = len(geojson['features'])\n",
    "province_names = [geojson['features'][k]['properties']['NOME_REG'] for k in range(n_provinces)]\n",
    "print(\"there are {} regions \".format(n_provinces))"
   ]
  },
  {
   "cell_type": "code",
   "execution_count": null,
   "metadata": {
    "colab": {},
    "colab_type": "code",
    "id": "Iucj4M2BdcS9"
   },
   "outputs": [],
   "source": [
    "def get_centers():\n",
    "    lon, lat =[], []\n",
    "\n",
    "    for k in range(n_provinces):\n",
    "        geometry = geojson['features'][k]['geometry']\n",
    "\n",
    "        if geometry['type'] == 'Polygon':\n",
    "            coords=np.array(geometry['coordinates'][0])\n",
    "        elif geometry['type'] == 'MultiPolygon':\n",
    "            coords=np.array(geometry['coordinates'][0][0])\n",
    "\n",
    "        lon.append(sum(coords[:,0]) / len(coords[:,0]))\n",
    "        lat.append(sum(coords[:,1]) / len(coords[:,1]))\n",
    "            \n",
    "    return lon, lat"
   ]
  },
  {
   "cell_type": "code",
   "execution_count": null,
   "metadata": {
    "colab": {},
    "colab_type": "code",
    "id": "-BhosoEjdcS-"
   },
   "outputs": [],
   "source": [
    "def match_regions(list1, list2):\n",
    "    \"\"\"\n",
    "    Match the region names of self.metric with the region names of the geojson\n",
    "    using fuzzy matching.\n",
    "\n",
    "    Return a dict with {'old_name': 'new_name'}\n",
    "    \"\"\"\n",
    "    matched = [process.extract(list1[i], list2, limit=1, scorer=fuzz.partial_ratio)[0][0] for i in range(0,len(list1))]\n",
    "\n",
    "    return {key: value for (key, value) in zip(list1, matched)}\n",
    "\n",
    "match_dict = match_regions(un.index, province_names)"
   ]
  },
  {
   "cell_type": "code",
   "execution_count": null,
   "metadata": {
    "colab": {
     "base_uri": "https://localhost:8080/",
     "height": 136
    },
    "colab_type": "code",
    "id": "I8EHM5xHdcS-",
    "outputId": "325d3c83-a822-41ce-b082-5a8c26f630a0"
   },
   "outputs": [],
   "source": [
    "df_tmp = un.copy()\n",
    "df_tmp.index = df_tmp.index.map(match_dict) # rename\n",
    "df_tmp = df_tmp[~df_tmp.index.duplicated(keep=False)] # drop duplicates\n",
    "                                                      # from fuzzy match gone wrong\n",
    "#give the same index order as the geojson\n",
    "df_reindexed = df_tmp.reindex(index = province_names)\n",
    "df_reindexed.head()"
   ]
  },
  {
   "cell_type": "code",
   "execution_count": null,
   "metadata": {
    "colab": {},
    "colab_type": "code",
    "id": "KCzK3JwUdcS_"
   },
   "outputs": [],
   "source": [
    "def make_sources(downsample = 10):\n",
    "    sources = []\n",
    "    geojson_copy = copy.deepcopy(geojson['features'])\n",
    "    \n",
    "    for feature in geojson_copy:\n",
    "        \n",
    "        if downsample > 0:\n",
    "            coords = np.array(feature['geometry']['coordinates'][0][0])\n",
    "            coords = coords[::downsample]\n",
    "            feature['geometry']['coordinates'] = [[coords]]\n",
    "            \n",
    "        sources.append(dict(type = 'FeatureCollection', \n",
    "                            features = [feature])\n",
    "                      )\n",
    "    return sources"
   ]
  },
  {
   "cell_type": "code",
   "execution_count": null,
   "metadata": {
    "colab": {},
    "colab_type": "code",
    "id": "u-NhhQiidcTA"
   },
   "outputs": [],
   "source": [
    "def scalarmappable(cmap, cmin, cmax):\n",
    "        colormap = cm.get_cmap(cmap)\n",
    "        norm = Normalize(vmin=cmin, vmax=cmax)\n",
    "        return cm.ScalarMappable(norm=norm, cmap=colormap)\n",
    "    \n",
    "def get_scatter_colors(sm, df):\n",
    "    grey = 'rgba(128,128,128,1)'\n",
    "    return ['rgba' + str(sm.to_rgba(m, bytes = True, alpha = 1)) if not np.isnan(m) else grey for m in df]\n",
    "\n",
    "def get_colorscale(sm, df, cmin, cmax):\n",
    "    xrange = np.linspace(0, 1, len(df))\n",
    "    values = np.linspace(cmin, cmax, len(df))\n",
    "\n",
    "    return [[i, 'rgba' + str(sm.to_rgba(v, bytes = True))] for i,v in zip(xrange, values) ]\n",
    " \n",
    "def get_hover_text(df) :\n",
    "    text_value = (df*100).round(2).astype(str) + \" citizens (in thousands) \"\n",
    "    with_data = '<b>{}</b> <br> {} using Public Transport'\n",
    "    no_data = '<b>{}</b> <br> no data'\n",
    "    \n",
    "    return [with_data.format(p,v) if v != 'nan%' else no_data.format(p) for p,v in zip(df.index, text_value)]"
   ]
  },
  {
   "cell_type": "code",
   "execution_count": null,
   "metadata": {
    "colab": {},
    "colab_type": "code",
    "id": "aPgK2JdQdcTB"
   },
   "outputs": [],
   "source": [
    "colormap = 'Oranges'\n",
    "cmin = df_reindexed.min()\n",
    "cmax = df_reindexed.max()\n",
    "\n",
    "sources = make_sources(downsample=10)\n",
    "lons, lats = get_centers()\n",
    "\n",
    "sm = scalarmappable(colormap, cmin, cmax)\n",
    "scatter_colors = get_scatter_colors(sm, df_reindexed)\n",
    "colorscale = get_colorscale(sm, df_reindexed, cmin, cmax)\n",
    "hover_text = get_hover_text(df_reindexed)\n",
    "\n",
    "tickformat = \".0%\""
   ]
  },
  {
   "cell_type": "code",
   "execution_count": null,
   "metadata": {
    "colab": {},
    "colab_type": "code",
    "id": "I_XbBR0BdcTB"
   },
   "outputs": [],
   "source": [
    "data = dict(type='scattermapbox',\n",
    "             lat=lats,\n",
    "             lon=lons,\n",
    "             mode='markers',\n",
    "             text=hover_text,\n",
    "             marker=dict(size=1,\n",
    "                         color=scatter_colors,\n",
    "                         showscale = True,\n",
    "                         cmin = df_reindexed.min(),\n",
    "                         cmax = df_reindexed.max(),\n",
    "                         colorscale = colorscale,\n",
    "                         colorbar = dict(tickformat = tickformat )\n",
    "                         ),\n",
    "             showlegend=False,\n",
    "             hoverinfo='text'\n",
    "             )"
   ]
  },
  {
   "cell_type": "code",
   "execution_count": null,
   "metadata": {
    "colab": {},
    "colab_type": "code",
    "id": "QD-ye-B8dcTC"
   },
   "outputs": [],
   "source": [
    "layers=([dict(sourcetype = 'geojson',\n",
    "        source =sources[k],\n",
    "        below=\"\",\n",
    "        type = 'line',\n",
    "        line = dict(width = 1),\n",
    "        color = 'black',\n",
    "        ) for k in range(n_provinces)] +\n",
    "\n",
    "        [dict(sourcetype = 'geojson',\n",
    "             source =sources[k],\n",
    "             below=\"water\",\n",
    "             type = 'fill',\n",
    "             color = scatter_colors[k],\n",
    "             opacity=0.8\n",
    "            ) for k in range(n_provinces)]\n",
    "        )"
   ]
  },
  {
   "cell_type": "code",
   "execution_count": null,
   "metadata": {
    "colab": {},
    "colab_type": "code",
    "id": "veh3sr4ldcTC"
   },
   "outputs": [],
   "source": [
    "data_url = \"http://dati.istat.it\"\n",
    "\n",
    "layout = dict(title=\"Citizens (in thousands) Public Transport (2017-2018) <br> \" + \n",
    "                    \"\"\"using <a href={}>open data</a> by the \"\"\".format(data_url) +\n",
    "                      \"Italian National Institute of Statistics\",\n",
    "      autosize=False,\n",
    "      width=700,\n",
    "      height=800,\n",
    "      hovermode='closest',\n",
    "      hoverdistance = 30,\n",
    "\n",
    "      mapbox=dict(accesstoken=MAPBOX_APIKEY,\n",
    "                  layers=layers,\n",
    "                  bearing=0,\n",
    "                  center=dict(\n",
    "                  lat=41.871941,\n",
    "                  lon=12.567380),\n",
    "                  pitch=0,\n",
    "                  zoom=4.9,\n",
    "                  style = 'light'\n",
    "            )\n",
    "      )"
   ]
  },
  {
   "cell_type": "code",
   "execution_count": null,
   "metadata": {
    "colab": {
     "base_uri": "https://localhost:8080/",
     "height": 817
    },
    "colab_type": "code",
    "id": "NGIpsp1ZdcTD",
    "outputId": "f6374803-aeea-4866-9805-d5c6edba5c84"
   },
   "outputs": [],
   "source": [
    "fig = dict(data=[data], layout=layout)\n",
    "iplot(fig)"
   ]
  },
  {
   "cell_type": "code",
   "execution_count": null,
   "metadata": {
    "colab": {},
    "colab_type": "code",
    "id": "jKGc4MXvdcTE"
   },
   "outputs": [],
   "source": [
    "#from IPython.display import HTML\n",
    "#HTML('<iframe width=\"900\" height=\"800\" frameborder=\"0\" scrolling=\"no\" src=\"//plot.ly/~vincenzo.pota/24.embed\"></iframe>')"
   ]
  },
  {
   "cell_type": "markdown",
   "metadata": {
    "colab_type": "text",
    "id": "lDIIr2xVdcTE"
   },
   "source": [
    "# How workers reach place of work - underground"
   ]
  },
  {
   "cell_type": "code",
   "execution_count": null,
   "metadata": {
    "colab": {
     "base_uri": "https://localhost:8080/",
     "height": 136
    },
    "colab_type": "code",
    "id": "kXTdAy-bdcTE",
    "outputId": "9b050634-b8da-4351-8e79-018a76344607"
   },
   "outputs": [],
   "source": [
    "un = pd.read_csv('/content/drive/My Drive/Colab Notebooks/Choropleth_Italy/StradaCasaLavoro_2017-2018_use-underor-overground.csv', index_col=0)\n",
    "un = un['Value']/100.\n",
    "un.index.name = 'Region'\n",
    "un.head()"
   ]
  },
  {
   "cell_type": "code",
   "execution_count": null,
   "metadata": {
    "colab": {},
    "colab_type": "code",
    "id": "0tWnTipvdcTF"
   },
   "outputs": [],
   "source": [
    "with open('/content/drive/My Drive/Colab Notebooks/Choropleth_Italy/regioni.geojson') as f:\n",
    "     geojson = json.load(f)"
   ]
  },
  {
   "cell_type": "code",
   "execution_count": null,
   "metadata": {
    "colab": {
     "base_uri": "https://localhost:8080/",
     "height": 34
    },
    "colab_type": "code",
    "id": "Ht5wC1vbdcTG",
    "outputId": "1448aa57-1244-4f78-ea15-c04850392abc"
   },
   "outputs": [],
   "source": [
    "n_provinces = len(geojson['features'])\n",
    "province_names = [geojson['features'][k]['properties']['NOME_REG'] for k in range(n_provinces)]\n",
    "print(\"there are {} regions \".format(n_provinces))"
   ]
  },
  {
   "cell_type": "code",
   "execution_count": null,
   "metadata": {
    "colab": {},
    "colab_type": "code",
    "id": "XfaFgHZIdcTG"
   },
   "outputs": [],
   "source": [
    "def get_centers():\n",
    "    lon, lat =[], []\n",
    "\n",
    "    for k in range(n_provinces):\n",
    "        geometry = geojson['features'][k]['geometry']\n",
    "\n",
    "        if geometry['type'] == 'Polygon':\n",
    "            coords=np.array(geometry['coordinates'][0])\n",
    "        elif geometry['type'] == 'MultiPolygon':\n",
    "            coords=np.array(geometry['coordinates'][0][0])\n",
    "\n",
    "        lon.append(sum(coords[:,0]) / len(coords[:,0]))\n",
    "        lat.append(sum(coords[:,1]) / len(coords[:,1]))\n",
    "            \n",
    "    return lon, lat"
   ]
  },
  {
   "cell_type": "code",
   "execution_count": null,
   "metadata": {
    "colab": {},
    "colab_type": "code",
    "id": "8VKMdUo-dcTH"
   },
   "outputs": [],
   "source": [
    "def match_regions(list1, list2):\n",
    "    \"\"\"\n",
    "    Match the region names of self.metric with the region names of the geojson\n",
    "    using fuzzy matching.\n",
    "\n",
    "    Return a dict with {'old_name': 'new_name'}\n",
    "    \"\"\"\n",
    "    matched = [process.extract(list1[i], list2, limit=1, scorer=fuzz.partial_ratio)[0][0] for i in range(0,len(list1))]\n",
    "\n",
    "    return {key: value for (key, value) in zip(list1, matched)}\n",
    "\n",
    "match_dict = match_regions(un.index, province_names)"
   ]
  },
  {
   "cell_type": "code",
   "execution_count": null,
   "metadata": {
    "colab": {
     "base_uri": "https://localhost:8080/",
     "height": 136
    },
    "colab_type": "code",
    "id": "qJxxP-WPdcTI",
    "outputId": "4a0bea9c-f557-4b86-ad54-c60492accc00"
   },
   "outputs": [],
   "source": [
    "df_tmp = un.copy()\n",
    "df_tmp.index = df_tmp.index.map(match_dict) # rename\n",
    "df_tmp = df_tmp[~df_tmp.index.duplicated(keep=False)] # drop duplicates\n",
    "                                                      # from fuzzy match gone wrong\n",
    "#give the same index order as the geojson\n",
    "df_reindexed = df_tmp.reindex(index = province_names)\n",
    "df_reindexed.head()"
   ]
  },
  {
   "cell_type": "code",
   "execution_count": null,
   "metadata": {
    "colab": {},
    "colab_type": "code",
    "id": "ULmvenFtdcTI"
   },
   "outputs": [],
   "source": [
    "def make_sources(downsample = 10):\n",
    "    sources = []\n",
    "    geojson_copy = copy.deepcopy(geojson['features'])\n",
    "    \n",
    "    for feature in geojson_copy:\n",
    "        \n",
    "        if downsample > 0:\n",
    "            coords = np.array(feature['geometry']['coordinates'][0][0])\n",
    "            coords = coords[::downsample]\n",
    "            feature['geometry']['coordinates'] = [[coords]]\n",
    "            \n",
    "        sources.append(dict(type = 'FeatureCollection', \n",
    "                            features = [feature])\n",
    "                      )\n",
    "    return sources"
   ]
  },
  {
   "cell_type": "code",
   "execution_count": null,
   "metadata": {
    "colab": {},
    "colab_type": "code",
    "id": "-x88CSLbdcTJ"
   },
   "outputs": [],
   "source": [
    "def scalarmappable(cmap, cmin, cmax):\n",
    "        colormap = cm.get_cmap(cmap)\n",
    "        norm = Normalize(vmin=cmin, vmax=cmax)\n",
    "        return cm.ScalarMappable(norm=norm, cmap=colormap)\n",
    "    \n",
    "def get_scatter_colors(sm, df):\n",
    "    grey = 'rgba(128,128,128,1)'\n",
    "    return ['rgba' + str(sm.to_rgba(m, bytes = True, alpha = 1)) if not np.isnan(m) else grey for m in df]\n",
    "\n",
    "def get_colorscale(sm, df, cmin, cmax):\n",
    "    xrange = np.linspace(0, 1, len(df))\n",
    "    values = np.linspace(cmin, cmax, len(df))\n",
    "\n",
    "    return [[i, 'rgba' + str(sm.to_rgba(v, bytes = True))] for i,v in zip(xrange, values) ]\n",
    " \n",
    "def get_hover_text(df) :\n",
    "    text_value = (df*100).round(2).astype(str) + \" citizens(in thousands) \"\n",
    "    with_data = '<b>{}</b> <br> {} using Underground'\n",
    "    no_data = '<b>{}</b> <br> no data'\n",
    "    \n",
    "    return [with_data.format(p,v) if v != 'nan%' else no_data.format(p) for p,v in zip(df.index, text_value)]"
   ]
  },
  {
   "cell_type": "code",
   "execution_count": null,
   "metadata": {
    "colab": {},
    "colab_type": "code",
    "id": "KsVRkc8UdcTK"
   },
   "outputs": [],
   "source": [
    "colormap = 'Oranges'\n",
    "cmin = df_reindexed.min()\n",
    "cmax = df_reindexed.max()\n",
    "\n",
    "sources = make_sources(downsample=10)\n",
    "lons, lats = get_centers()\n",
    "\n",
    "sm = scalarmappable(colormap, cmin, cmax)\n",
    "scatter_colors = get_scatter_colors(sm, df_reindexed)\n",
    "colorscale = get_colorscale(sm, df_reindexed, cmin, cmax)\n",
    "hover_text = get_hover_text(df_reindexed)\n",
    "\n",
    "tickformat = \".0%\""
   ]
  },
  {
   "cell_type": "code",
   "execution_count": null,
   "metadata": {
    "colab": {},
    "colab_type": "code",
    "id": "VboGKavbdcTK"
   },
   "outputs": [],
   "source": [
    "data = dict(type='scattermapbox',\n",
    "             lat=lats,\n",
    "             lon=lons,\n",
    "             mode='markers',\n",
    "             text=hover_text,\n",
    "             marker=dict(size=1,\n",
    "                         color=scatter_colors,\n",
    "                         showscale = True,\n",
    "                         cmin = df_reindexed.min(),\n",
    "                         cmax = df_reindexed.max(),\n",
    "                         colorscale = colorscale,\n",
    "                         colorbar = dict(tickformat = tickformat )\n",
    "                         ),\n",
    "             showlegend=False,\n",
    "             hoverinfo='text'\n",
    "             )"
   ]
  },
  {
   "cell_type": "code",
   "execution_count": null,
   "metadata": {
    "colab": {},
    "colab_type": "code",
    "id": "rTUXh8zLdcTL"
   },
   "outputs": [],
   "source": [
    "layers=([dict(sourcetype = 'geojson',\n",
    "        source =sources[k],\n",
    "        below=\"\",\n",
    "        type = 'line',\n",
    "        line = dict(width = 1),\n",
    "        color = 'black',\n",
    "        ) for k in range(n_provinces)] +\n",
    "\n",
    "        [dict(sourcetype = 'geojson',\n",
    "             source =sources[k],\n",
    "             below=\"water\",\n",
    "             type = 'fill',\n",
    "             color = scatter_colors[k],\n",
    "             opacity=0.8\n",
    "            ) for k in range(n_provinces)]\n",
    "        )"
   ]
  },
  {
   "cell_type": "code",
   "execution_count": null,
   "metadata": {
    "colab": {},
    "colab_type": "code",
    "id": "6EVz1PwmdcTL"
   },
   "outputs": [],
   "source": [
    "data_url = \"http://dati.istat.it\"\n",
    "\n",
    "layout = dict(title=\"Citizens (in thousands) using Underground (2017-2018)<br> \" + \n",
    "                    \"\"\"using <a href={}>open data</a> by the \"\"\".format(data_url) +\n",
    "                      \"Italian National Institute of Statistics\",\n",
    "      autosize=False,\n",
    "      width=700,\n",
    "      height=800,\n",
    "      hovermode='closest',\n",
    "      hoverdistance = 30,\n",
    "\n",
    "      mapbox=dict(accesstoken=MAPBOX_APIKEY,\n",
    "                  layers=layers,\n",
    "                  bearing=0,\n",
    "                  center=dict(\n",
    "                  lat=41.871941,\n",
    "                  lon=12.567380),\n",
    "                  pitch=0,\n",
    "                  zoom=4.9,\n",
    "                  style = 'light'\n",
    "            )\n",
    "      )"
   ]
  },
  {
   "cell_type": "code",
   "execution_count": null,
   "metadata": {
    "colab": {
     "base_uri": "https://localhost:8080/",
     "height": 817
    },
    "colab_type": "code",
    "id": "VoEcZTsOdcTM",
    "outputId": "e1c0f217-0979-4d86-883c-6baa687af186"
   },
   "outputs": [],
   "source": [
    "fig = dict(data=[data], layout=layout)\n",
    "iplot(fig)"
   ]
  },
  {
   "cell_type": "markdown",
   "metadata": {
    "colab_type": "text",
    "id": "F6Eq8NzBdcTQ"
   },
   "source": [
    "# How workers reach place of work - bycicle"
   ]
  },
  {
   "cell_type": "code",
   "execution_count": null,
   "metadata": {
    "colab": {
     "base_uri": "https://localhost:8080/",
     "height": 136
    },
    "colab_type": "code",
    "id": "ynfV_sWZdcTQ",
    "outputId": "6189315e-79c9-448f-99ea-db258de78ea4"
   },
   "outputs": [],
   "source": [
    "un = pd.read_csv('/content/drive/My Drive/Colab Notebooks/Choropleth_Italy/StradaCasaLavoro_2017-2018_usano_bicycle.csv', index_col=0)\n",
    "un = un['Value']/100.\n",
    "un.index.name = 'Region'\n",
    "un.head()"
   ]
  },
  {
   "cell_type": "code",
   "execution_count": null,
   "metadata": {
    "colab": {},
    "colab_type": "code",
    "id": "DaJGK78WdcTR"
   },
   "outputs": [],
   "source": [
    "with open('/content/drive/My Drive/Colab Notebooks/Choropleth_Italy/regioni.geojson') as f:\n",
    "     geojson = json.load(f)"
   ]
  },
  {
   "cell_type": "code",
   "execution_count": null,
   "metadata": {
    "colab": {
     "base_uri": "https://localhost:8080/",
     "height": 34
    },
    "colab_type": "code",
    "id": "xmDvAOtadcTS",
    "outputId": "56313d2d-3fea-40ce-e8f3-21280a2bc482"
   },
   "outputs": [],
   "source": [
    "n_provinces = len(geojson['features'])\n",
    "province_names = [geojson['features'][k]['properties']['NOME_REG'] for k in range(n_provinces)]\n",
    "print(\"there are {} regions \".format(n_provinces))"
   ]
  },
  {
   "cell_type": "code",
   "execution_count": null,
   "metadata": {
    "colab": {},
    "colab_type": "code",
    "id": "P0Cw-iFMdcTT"
   },
   "outputs": [],
   "source": [
    "def get_centers():\n",
    "    lon, lat =[], []\n",
    "\n",
    "    for k in range(n_provinces):\n",
    "        geometry = geojson['features'][k]['geometry']\n",
    "\n",
    "        if geometry['type'] == 'Polygon':\n",
    "            coords=np.array(geometry['coordinates'][0])\n",
    "        elif geometry['type'] == 'MultiPolygon':\n",
    "            coords=np.array(geometry['coordinates'][0][0])\n",
    "\n",
    "        lon.append(sum(coords[:,0]) / len(coords[:,0]))\n",
    "        lat.append(sum(coords[:,1]) / len(coords[:,1]))\n",
    "            \n",
    "    return lon, lat"
   ]
  },
  {
   "cell_type": "code",
   "execution_count": null,
   "metadata": {
    "colab": {},
    "colab_type": "code",
    "id": "fUup0ya8dcTT"
   },
   "outputs": [],
   "source": [
    "def match_regions(list1, list2):\n",
    "    \"\"\"\n",
    "    Match the region names of self.metric with the region names of the geojson\n",
    "    using fuzzy matching.\n",
    "\n",
    "    Return a dict with {'old_name': 'new_name'}\n",
    "    \"\"\"\n",
    "    matched = [process.extract(list1[i], list2, limit=1, scorer=fuzz.partial_ratio)[0][0] for i in range(0,len(list1))]\n",
    "\n",
    "    return {key: value for (key, value) in zip(list1, matched)}\n",
    "\n",
    "match_dict = match_regions(un.index, province_names)"
   ]
  },
  {
   "cell_type": "code",
   "execution_count": null,
   "metadata": {
    "colab": {
     "base_uri": "https://localhost:8080/",
     "height": 136
    },
    "colab_type": "code",
    "id": "IFrrZ-AjdcTU",
    "outputId": "83179c29-880a-4385-9e24-ad41fe5e318e"
   },
   "outputs": [],
   "source": [
    "df_tmp = un.copy()\n",
    "df_tmp.index = df_tmp.index.map(match_dict) # rename\n",
    "df_tmp = df_tmp[~df_tmp.index.duplicated(keep=False)] # drop duplicates\n",
    "                                                      # from fuzzy match gone wrong\n",
    "#give the same index order as the geojson\n",
    "df_reindexed = df_tmp.reindex(index = province_names)\n",
    "df_reindexed.head()"
   ]
  },
  {
   "cell_type": "code",
   "execution_count": null,
   "metadata": {
    "colab": {},
    "colab_type": "code",
    "id": "SGbO8zrFdcTV"
   },
   "outputs": [],
   "source": [
    "def make_sources(downsample = 10):\n",
    "    sources = []\n",
    "    geojson_copy = copy.deepcopy(geojson['features'])\n",
    "    \n",
    "    for feature in geojson_copy:\n",
    "        \n",
    "        if downsample > 0:\n",
    "            coords = np.array(feature['geometry']['coordinates'][0][0])\n",
    "            coords = coords[::downsample]\n",
    "            feature['geometry']['coordinates'] = [[coords]]\n",
    "            \n",
    "        sources.append(dict(type = 'FeatureCollection', \n",
    "                            features = [feature])\n",
    "                      )\n",
    "    return sources"
   ]
  },
  {
   "cell_type": "code",
   "execution_count": null,
   "metadata": {
    "colab": {},
    "colab_type": "code",
    "id": "CsEbcNN_dcTV"
   },
   "outputs": [],
   "source": [
    "def scalarmappable(cmap, cmin, cmax):\n",
    "        colormap = cm.get_cmap(cmap)\n",
    "        norm = Normalize(vmin=cmin, vmax=cmax)\n",
    "        return cm.ScalarMappable(norm=norm, cmap=colormap)\n",
    "    \n",
    "def get_scatter_colors(sm, df):\n",
    "    grey = 'rgba(128,128,128,1)'\n",
    "    return ['rgba' + str(sm.to_rgba(m, bytes = True, alpha = 1)) if not np.isnan(m) else grey for m in df]\n",
    "\n",
    "def get_colorscale(sm, df, cmin, cmax):\n",
    "    xrange = np.linspace(0, 1, len(df))\n",
    "    values = np.linspace(cmin, cmax, len(df))\n",
    "\n",
    "    return [[i, 'rgba' + str(sm.to_rgba(v, bytes = True))] for i,v in zip(xrange, values) ]\n",
    " \n",
    "def get_hover_text(df) :\n",
    "    text_value = (df*100).round(2).astype(str) + \" citizens (in thousands) \"\n",
    "    with_data = '<b>{}</b> <br> {} using Bicycle'\n",
    "    no_data = '<b>{}</b> <br> no data'\n",
    "    \n",
    "    return [with_data.format(p,v) if v != 'nan%' else no_data.format(p) for p,v in zip(df.index, text_value)]"
   ]
  },
  {
   "cell_type": "code",
   "execution_count": null,
   "metadata": {
    "colab": {},
    "colab_type": "code",
    "id": "iZ2NbkhAdcTW"
   },
   "outputs": [],
   "source": [
    "colormap = 'Oranges'\n",
    "cmin = df_reindexed.min()\n",
    "cmax = df_reindexed.max()\n",
    "\n",
    "sources = make_sources(downsample=10)\n",
    "lons, lats = get_centers()\n",
    "\n",
    "sm = scalarmappable(colormap, cmin, cmax)\n",
    "scatter_colors = get_scatter_colors(sm, df_reindexed)\n",
    "colorscale = get_colorscale(sm, df_reindexed, cmin, cmax)\n",
    "hover_text = get_hover_text(df_reindexed)\n",
    "\n",
    "tickformat = \".0%\""
   ]
  },
  {
   "cell_type": "code",
   "execution_count": null,
   "metadata": {
    "colab": {},
    "colab_type": "code",
    "id": "4EhzD6K2dcTW"
   },
   "outputs": [],
   "source": [
    "data = dict(type='scattermapbox',\n",
    "             lat=lats,\n",
    "             lon=lons,\n",
    "             mode='markers',\n",
    "             text=hover_text,\n",
    "             marker=dict(size=1,\n",
    "                         color=scatter_colors,\n",
    "                         showscale = True,\n",
    "                         cmin = df_reindexed.min(),\n",
    "                         cmax = df_reindexed.max(),\n",
    "                         colorscale = colorscale,\n",
    "                         colorbar = dict(tickformat = tickformat )\n",
    "                         ),\n",
    "             showlegend=False,\n",
    "             hoverinfo='text'\n",
    "             )"
   ]
  },
  {
   "cell_type": "code",
   "execution_count": null,
   "metadata": {
    "colab": {},
    "colab_type": "code",
    "id": "FQK1ejh7dcTX"
   },
   "outputs": [],
   "source": [
    "layers=([dict(sourcetype = 'geojson',\n",
    "        source =sources[k],\n",
    "        below=\"\",\n",
    "        type = 'line',\n",
    "        line = dict(width = 1),\n",
    "        color = 'black',\n",
    "        ) for k in range(n_provinces)] +\n",
    "\n",
    "        [dict(sourcetype = 'geojson',\n",
    "             source =sources[k],\n",
    "             below=\"water\",\n",
    "             type = 'fill',\n",
    "             color = scatter_colors[k],\n",
    "             opacity=0.8\n",
    "            ) for k in range(n_provinces)]\n",
    "        )"
   ]
  },
  {
   "cell_type": "code",
   "execution_count": null,
   "metadata": {
    "colab": {},
    "colab_type": "code",
    "id": "pYVNjD3-dcTY"
   },
   "outputs": [],
   "source": [
    "data_url = \"http://dati.istat.it/\"\n",
    "\n",
    "layout = dict(title=\"Citizens(in thousands) using Bicycle (2017-2018) <br> \" + \n",
    "                    \"\"\"using <a href={}>open data</a> by the \"\"\".format(data_url) +\n",
    "                      \"Italian National Institute of Statistics\",\n",
    "      autosize=False,\n",
    "      width=700,\n",
    "      height=800,\n",
    "      hovermode='closest',\n",
    "      hoverdistance = 30,\n",
    "\n",
    "      mapbox=dict(accesstoken=MAPBOX_APIKEY,\n",
    "                  layers=layers,\n",
    "                  bearing=0,\n",
    "                  center=dict(\n",
    "                  lat=41.871941,\n",
    "                  lon=12.567380),\n",
    "                  pitch=0,\n",
    "                  zoom=4.9,\n",
    "                  style = 'light'\n",
    "            )\n",
    "      )"
   ]
  },
  {
   "cell_type": "code",
   "execution_count": null,
   "metadata": {
    "colab": {
     "base_uri": "https://localhost:8080/",
     "height": 817
    },
    "colab_type": "code",
    "id": "8G_rH9w0dcTY",
    "outputId": "d17c73f2-17ad-4bbb-8ecf-72e24e09335e"
   },
   "outputs": [],
   "source": [
    "fig = dict(data=[data], layout=layout)\n",
    "iplot(fig)"
   ]
  },
  {
   "cell_type": "markdown",
   "metadata": {
    "colab_type": "text",
    "id": "m9cG6w6WdcTe"
   },
   "source": [
    "# How Students reach their Schools - public transport"
   ]
  },
  {
   "cell_type": "code",
   "execution_count": null,
   "metadata": {
    "colab": {
     "base_uri": "https://localhost:8080/",
     "height": 136
    },
    "colab_type": "code",
    "id": "jnW1d5JYdcTe",
    "outputId": "3ce7c2ff-acee-47f0-c278-4482877ffbd7"
   },
   "outputs": [],
   "source": [
    "un = pd.read_csv('/content/drive/My Drive/Colab Notebooks/Choropleth_Italy/StradaCasaScuola_2017-2018_PublicTransport.csv', index_col=0)\n",
    "un = un['Value']/100.\n",
    "un.index.name = 'Region'\n",
    "un.head()"
   ]
  },
  {
   "cell_type": "code",
   "execution_count": null,
   "metadata": {
    "colab": {},
    "colab_type": "code",
    "id": "cAIAIg1odcTe"
   },
   "outputs": [],
   "source": [
    "with open('/content/drive/My Drive/Colab Notebooks/Choropleth_Italy/regioni.geojson') as f:\n",
    "     geojson = json.load(f)"
   ]
  },
  {
   "cell_type": "code",
   "execution_count": null,
   "metadata": {
    "colab": {
     "base_uri": "https://localhost:8080/",
     "height": 34
    },
    "colab_type": "code",
    "id": "NDVqITUOdcTf",
    "outputId": "0728d32a-a158-42bc-8d76-8e13c5eb1a7f"
   },
   "outputs": [],
   "source": [
    "n_provinces = len(geojson['features'])\n",
    "province_names = [geojson['features'][k]['properties']['NOME_REG'] for k in range(n_provinces)]\n",
    "print(\"there are {} regions \".format(n_provinces))"
   ]
  },
  {
   "cell_type": "code",
   "execution_count": null,
   "metadata": {
    "colab": {},
    "colab_type": "code",
    "id": "3jNZZS55dcTg"
   },
   "outputs": [],
   "source": [
    "def get_centers():\n",
    "    lon, lat =[], []\n",
    "\n",
    "    for k in range(n_provinces):\n",
    "        geometry = geojson['features'][k]['geometry']\n",
    "\n",
    "        if geometry['type'] == 'Polygon':\n",
    "            coords=np.array(geometry['coordinates'][0])\n",
    "        elif geometry['type'] == 'MultiPolygon':\n",
    "            coords=np.array(geometry['coordinates'][0][0])\n",
    "\n",
    "        lon.append(sum(coords[:,0]) / len(coords[:,0]))\n",
    "        lat.append(sum(coords[:,1]) / len(coords[:,1]))\n",
    "            \n",
    "    return lon, lat"
   ]
  },
  {
   "cell_type": "code",
   "execution_count": null,
   "metadata": {
    "colab": {},
    "colab_type": "code",
    "id": "vB_lK20adcTg"
   },
   "outputs": [],
   "source": [
    "def match_regions(list1, list2):\n",
    "    \"\"\"\n",
    "    Match the region names of self.metric with the region names of the geojson\n",
    "    using fuzzy matching.\n",
    "\n",
    "    Return a dict with {'old_name': 'new_name'}\n",
    "    \"\"\"\n",
    "    matched = [process.extract(list1[i], list2, limit=1, scorer=fuzz.partial_ratio)[0][0] for i in range(0,len(list1))]\n",
    "\n",
    "    return {key: value for (key, value) in zip(list1, matched)}\n",
    "\n",
    "match_dict = match_regions(un.index, province_names)"
   ]
  },
  {
   "cell_type": "code",
   "execution_count": null,
   "metadata": {
    "colab": {
     "base_uri": "https://localhost:8080/",
     "height": 136
    },
    "colab_type": "code",
    "id": "6MXl2rbrdcTh",
    "outputId": "e7876bba-4b80-4d33-c6d9-1c3ba3890d3b"
   },
   "outputs": [],
   "source": [
    "df_tmp = un.copy()\n",
    "df_tmp.index = df_tmp.index.map(match_dict) # rename\n",
    "df_tmp = df_tmp[~df_tmp.index.duplicated(keep=False)] # drop duplicates\n",
    "                                                      # from fuzzy match gone wrong\n",
    "#give the same index order as the geojson\n",
    "df_reindexed = df_tmp.reindex(index = province_names)\n",
    "df_reindexed.head()"
   ]
  },
  {
   "cell_type": "code",
   "execution_count": null,
   "metadata": {
    "colab": {},
    "colab_type": "code",
    "id": "WgHHQpVidcTi"
   },
   "outputs": [],
   "source": [
    "def make_sources(downsample = 10):\n",
    "    sources = []\n",
    "    geojson_copy = copy.deepcopy(geojson['features'])\n",
    "    \n",
    "    for feature in geojson_copy:\n",
    "        \n",
    "        if downsample > 0:\n",
    "            coords = np.array(feature['geometry']['coordinates'][0][0])\n",
    "            coords = coords[::downsample]\n",
    "            feature['geometry']['coordinates'] = [[coords]]\n",
    "            \n",
    "        sources.append(dict(type = 'FeatureCollection', \n",
    "                            features = [feature])\n",
    "                      )\n",
    "    return sources"
   ]
  },
  {
   "cell_type": "code",
   "execution_count": null,
   "metadata": {
    "colab": {},
    "colab_type": "code",
    "id": "FLHCqIzXdcTi"
   },
   "outputs": [],
   "source": [
    "def scalarmappable(cmap, cmin, cmax):\n",
    "        colormap = cm.get_cmap(cmap)\n",
    "        norm = Normalize(vmin=cmin, vmax=cmax)\n",
    "        return cm.ScalarMappable(norm=norm, cmap=colormap)\n",
    "    \n",
    "def get_scatter_colors(sm, df):\n",
    "    grey = 'rgba(128,128,128,1)'\n",
    "    return ['rgba' + str(sm.to_rgba(m, bytes = True, alpha = 1)) if not np.isnan(m) else grey for m in df]\n",
    "\n",
    "def get_colorscale(sm, df, cmin, cmax):\n",
    "    xrange = np.linspace(0, 1, len(df))\n",
    "    values = np.linspace(cmin, cmax, len(df))\n",
    "\n",
    "    return [[i, 'rgba' + str(sm.to_rgba(v, bytes = True))] for i,v in zip(xrange, values) ]\n",
    " \n",
    "def get_hover_text(df) :\n",
    "    text_value = (df*100).round(2).astype(str) + \" students (in thousands) \"\n",
    "    with_data = '<b>{}</b> <br> {} using Public Transport to School'\n",
    "    no_data = '<b>{}</b> <br> no data'\n",
    "    \n",
    "    return [with_data.format(p,v) if v != 'nan%' else no_data.format(p) for p,v in zip(df.index, text_value)]"
   ]
  },
  {
   "cell_type": "code",
   "execution_count": null,
   "metadata": {
    "colab": {},
    "colab_type": "code",
    "id": "TLmUvRcWdcTj"
   },
   "outputs": [],
   "source": [
    "colormap = 'Oranges'\n",
    "cmin = df_reindexed.min()\n",
    "cmax = df_reindexed.max()\n",
    "\n",
    "sources = make_sources(downsample=10)\n",
    "lons, lats = get_centers()\n",
    "\n",
    "sm = scalarmappable(colormap, cmin, cmax)\n",
    "scatter_colors = get_scatter_colors(sm, df_reindexed)\n",
    "colorscale = get_colorscale(sm, df_reindexed, cmin, cmax)\n",
    "hover_text = get_hover_text(df_reindexed)\n",
    "\n",
    "tickformat = \".0%\""
   ]
  },
  {
   "cell_type": "code",
   "execution_count": null,
   "metadata": {
    "colab": {},
    "colab_type": "code",
    "id": "DMjiO1pWdcTk"
   },
   "outputs": [],
   "source": [
    "data = dict(type='scattermapbox',\n",
    "             lat=lats,\n",
    "             lon=lons,\n",
    "             mode='markers',\n",
    "             text=hover_text,\n",
    "             marker=dict(size=1,\n",
    "                         color=scatter_colors,\n",
    "                         showscale = True,\n",
    "                         cmin = df_reindexed.min(),\n",
    "                         cmax = df_reindexed.max(),\n",
    "                         colorscale = colorscale,\n",
    "                         colorbar = dict(tickformat = tickformat )\n",
    "                         ),\n",
    "             showlegend=False,\n",
    "             hoverinfo='text'\n",
    "             )"
   ]
  },
  {
   "cell_type": "code",
   "execution_count": null,
   "metadata": {
    "colab": {},
    "colab_type": "code",
    "id": "bLnL6g4CdcTk"
   },
   "outputs": [],
   "source": [
    "layers=([dict(sourcetype = 'geojson',\n",
    "        source =sources[k],\n",
    "        below=\"\",\n",
    "        type = 'line',\n",
    "        line = dict(width = 1),\n",
    "        color = 'black',\n",
    "        ) for k in range(n_provinces)] +\n",
    "\n",
    "        [dict(sourcetype = 'geojson',\n",
    "             source =sources[k],\n",
    "             below=\"water\",\n",
    "             type = 'fill',\n",
    "             color = scatter_colors[k],\n",
    "             opacity=0.8\n",
    "            ) for k in range(n_provinces)]\n",
    "        )"
   ]
  },
  {
   "cell_type": "code",
   "execution_count": null,
   "metadata": {
    "colab": {},
    "colab_type": "code",
    "id": "J6uI46hCdcTl"
   },
   "outputs": [],
   "source": [
    "data_url = \"http://dati.istat.it\"\n",
    "\n",
    "layout = dict(title=\"Students(in thousands) using Public Transport (2017-2018)<br> \" + \n",
    "                    \"\"\"using <a href={}>open data</a> by the \"\"\".format(data_url) +\n",
    "                      \"Italian National Institute of Statistics\",\n",
    "      autosize=False,\n",
    "      width=700,\n",
    "      height=800,\n",
    "      hovermode='closest',\n",
    "      hoverdistance = 30,\n",
    "\n",
    "      mapbox=dict(accesstoken=MAPBOX_APIKEY,\n",
    "                  layers=layers,\n",
    "                  bearing=0,\n",
    "                  center=dict(\n",
    "                  lat=41.871941,\n",
    "                  lon=12.567380),\n",
    "                  pitch=0,\n",
    "                  zoom=4.9,\n",
    "                  style = 'light'\n",
    "            )\n",
    "      )"
   ]
  },
  {
   "cell_type": "code",
   "execution_count": null,
   "metadata": {
    "colab": {
     "base_uri": "https://localhost:8080/",
     "height": 817
    },
    "colab_type": "code",
    "id": "8IfyavmbdcTl",
    "outputId": "127941bf-fdce-4680-dbc8-83b00c8d79fa"
   },
   "outputs": [],
   "source": [
    "fig = dict(data=[data], layout=layout)\n",
    "iplot(fig)"
   ]
  },
  {
   "cell_type": "markdown",
   "metadata": {
    "colab_type": "text",
    "id": "uFglp2StdcTn"
   },
   "source": [
    "# How Students reach their Schools - distance<15min"
   ]
  },
  {
   "cell_type": "code",
   "execution_count": null,
   "metadata": {
    "colab": {
     "base_uri": "https://localhost:8080/",
     "height": 136
    },
    "colab_type": "code",
    "id": "fDUOCdj9dcTo",
    "outputId": "8ecd4820-2022-42eb-c5d1-4cd940b48f2b"
   },
   "outputs": [],
   "source": [
    "un = pd.read_csv('/content/drive/My Drive/Colab Notebooks/Choropleth_Italy/StradaCasaScuola_2017-2018_vicinanza.csv', index_col=0)\n",
    "un = un['Value']/100.\n",
    "un.index.name = 'Region'\n",
    "un.head()"
   ]
  },
  {
   "cell_type": "code",
   "execution_count": null,
   "metadata": {
    "colab": {},
    "colab_type": "code",
    "id": "De_CSI8zdcTo"
   },
   "outputs": [],
   "source": [
    "with open('/content/drive/My Drive/Colab Notebooks/Choropleth_Italy/regioni.geojson') as f:\n",
    "     geojson = json.load(f)"
   ]
  },
  {
   "cell_type": "code",
   "execution_count": null,
   "metadata": {
    "colab": {
     "base_uri": "https://localhost:8080/",
     "height": 34
    },
    "colab_type": "code",
    "id": "W2Nt3iLtdcTp",
    "outputId": "37834576-d857-4daa-dfc4-05bab96907c0"
   },
   "outputs": [],
   "source": [
    "n_provinces = len(geojson['features'])\n",
    "province_names = [geojson['features'][k]['properties']['NOME_REG'] for k in range(n_provinces)]\n",
    "print(\"there are {} regions \".format(n_provinces))"
   ]
  },
  {
   "cell_type": "code",
   "execution_count": null,
   "metadata": {
    "colab": {},
    "colab_type": "code",
    "id": "RBz4Kxh2dcTp"
   },
   "outputs": [],
   "source": [
    "def get_centers():\n",
    "    lon, lat =[], []\n",
    "\n",
    "    for k in range(n_provinces):\n",
    "        geometry = geojson['features'][k]['geometry']\n",
    "\n",
    "        if geometry['type'] == 'Polygon':\n",
    "            coords=np.array(geometry['coordinates'][0])\n",
    "        elif geometry['type'] == 'MultiPolygon':\n",
    "            coords=np.array(geometry['coordinates'][0][0])\n",
    "\n",
    "        lon.append(sum(coords[:,0]) / len(coords[:,0]))\n",
    "        lat.append(sum(coords[:,1]) / len(coords[:,1]))\n",
    "            \n",
    "    return lon, lat"
   ]
  },
  {
   "cell_type": "code",
   "execution_count": null,
   "metadata": {
    "colab": {},
    "colab_type": "code",
    "id": "8PW6EfSydcTq"
   },
   "outputs": [],
   "source": [
    "def match_regions(list1, list2):\n",
    "    \"\"\"\n",
    "    Match the region names of self.metric with the region names of the geojson\n",
    "    using fuzzy matching.\n",
    "\n",
    "    Return a dict with {'old_name': 'new_name'}\n",
    "    \"\"\"\n",
    "    matched = [process.extract(list1[i], list2, limit=1, scorer=fuzz.partial_ratio)[0][0] for i in range(0,len(list1))]\n",
    "\n",
    "    return {key: value for (key, value) in zip(list1, matched)}\n",
    "\n",
    "match_dict = match_regions(un.index, province_names)"
   ]
  },
  {
   "cell_type": "code",
   "execution_count": null,
   "metadata": {
    "colab": {
     "base_uri": "https://localhost:8080/",
     "height": 136
    },
    "colab_type": "code",
    "id": "1wyp-nBHdcTq",
    "outputId": "a071176f-2d93-4b75-9ae2-3d415315761a"
   },
   "outputs": [],
   "source": [
    "df_tmp = un.copy()\n",
    "df_tmp.index = df_tmp.index.map(match_dict) # rename\n",
    "df_tmp = df_tmp[~df_tmp.index.duplicated(keep=False)] # drop duplicates\n",
    "                                                      # from fuzzy match gone wrong\n",
    "#give the same index order as the geojson\n",
    "df_reindexed = df_tmp.reindex(index = province_names)\n",
    "df_reindexed.head()"
   ]
  },
  {
   "cell_type": "code",
   "execution_count": null,
   "metadata": {
    "colab": {},
    "colab_type": "code",
    "id": "D9T5bjPGdcTr"
   },
   "outputs": [],
   "source": [
    "def make_sources(downsample = 10):\n",
    "    sources = []\n",
    "    geojson_copy = copy.deepcopy(geojson['features'])\n",
    "    \n",
    "    for feature in geojson_copy:\n",
    "        \n",
    "        if downsample > 0:\n",
    "            coords = np.array(feature['geometry']['coordinates'][0][0])\n",
    "            coords = coords[::downsample]\n",
    "            feature['geometry']['coordinates'] = [[coords]]\n",
    "            \n",
    "        sources.append(dict(type = 'FeatureCollection', \n",
    "                            features = [feature])\n",
    "                      )\n",
    "    return sources"
   ]
  },
  {
   "cell_type": "code",
   "execution_count": null,
   "metadata": {
    "colab": {},
    "colab_type": "code",
    "id": "QY6B8OTAdcTs"
   },
   "outputs": [],
   "source": [
    "def scalarmappable(cmap, cmin, cmax):\n",
    "        colormap = cm.get_cmap(cmap)\n",
    "        norm = Normalize(vmin=cmin, vmax=cmax)\n",
    "        return cm.ScalarMappable(norm=norm, cmap=colormap)\n",
    "    \n",
    "def get_scatter_colors(sm, df):\n",
    "    grey = 'rgba(128,128,128,1)'\n",
    "    return ['rgba' + str(sm.to_rgba(m, bytes = True, alpha = 1)) if not np.isnan(m) else grey for m in df]\n",
    "\n",
    "def get_colorscale(sm, df, cmin, cmax):\n",
    "    xrange = np.linspace(0, 1, len(df))\n",
    "    values = np.linspace(cmin, cmax, len(df))\n",
    "\n",
    "    return [[i, 'rgba' + str(sm.to_rgba(v, bytes = True))] for i,v in zip(xrange, values) ]\n",
    " \n",
    "def get_hover_text(df) :\n",
    "    text_value = (df*100).round(2).astype(str) + \" students (in thousands) \"\n",
    "    with_data = '<b>{}</b> <br> {} less than 15min to school'\n",
    "    no_data = '<b>{}</b> <br> no data'\n",
    "    \n",
    "    return [with_data.format(p,v) if v != 'nan%' else no_data.format(p) for p,v in zip(df.index, text_value)]"
   ]
  },
  {
   "cell_type": "code",
   "execution_count": null,
   "metadata": {
    "colab": {},
    "colab_type": "code",
    "id": "vTipNIghdcTs"
   },
   "outputs": [],
   "source": [
    "colormap = 'Oranges'\n",
    "cmin = df_reindexed.min()\n",
    "cmax = df_reindexed.max()\n",
    "\n",
    "sources = make_sources(downsample=10)\n",
    "lons, lats = get_centers()\n",
    "\n",
    "sm = scalarmappable(colormap, cmin, cmax)\n",
    "scatter_colors = get_scatter_colors(sm, df_reindexed)\n",
    "colorscale = get_colorscale(sm, df_reindexed, cmin, cmax)\n",
    "hover_text = get_hover_text(df_reindexed)\n",
    "\n",
    "tickformat = \".0%\""
   ]
  },
  {
   "cell_type": "code",
   "execution_count": null,
   "metadata": {
    "colab": {},
    "colab_type": "code",
    "id": "S4_QwpY_dcTt"
   },
   "outputs": [],
   "source": [
    "data = dict(type='scattermapbox',\n",
    "             lat=lats,\n",
    "             lon=lons,\n",
    "             mode='markers',\n",
    "             text=hover_text,\n",
    "             marker=dict(size=1,\n",
    "                         color=scatter_colors,\n",
    "                         showscale = True,\n",
    "                         cmin = df_reindexed.min(),\n",
    "                         cmax = df_reindexed.max(),\n",
    "                         colorscale = colorscale,\n",
    "                         colorbar = dict(tickformat = tickformat )\n",
    "                         ),\n",
    "             showlegend=False,\n",
    "             hoverinfo='text'\n",
    "             )"
   ]
  },
  {
   "cell_type": "code",
   "execution_count": null,
   "metadata": {
    "colab": {},
    "colab_type": "code",
    "id": "IFvS5T73dcTt"
   },
   "outputs": [],
   "source": [
    "layers=([dict(sourcetype = 'geojson',\n",
    "        source =sources[k],\n",
    "        below=\"\",\n",
    "        type = 'line',\n",
    "        line = dict(width = 1),\n",
    "        color = 'black',\n",
    "        ) for k in range(n_provinces)] +\n",
    "\n",
    "        [dict(sourcetype = 'geojson',\n",
    "             source =sources[k],\n",
    "             below=\"water\",\n",
    "             type = 'fill',\n",
    "             color = scatter_colors[k],\n",
    "             opacity=0.8\n",
    "            ) for k in range(n_provinces)]\n",
    "        )"
   ]
  },
  {
   "cell_type": "code",
   "execution_count": null,
   "metadata": {
    "colab": {},
    "colab_type": "code",
    "id": "jrVq-Ei_dcTu"
   },
   "outputs": [],
   "source": [
    "data_url = \"http://dati.istat.it\"\n",
    "\n",
    "layout = dict(title=\"Students (in thousands)-less than 15 min to School (2017-2018)<br> \" + \n",
    "                    \"\"\"using <a href={}>open data</a> by the \"\"\".format(data_url) +\n",
    "                      \"Italian National Institute of Statistics\",\n",
    "      autosize=False,\n",
    "      width=700,\n",
    "      height=800,\n",
    "      hovermode='closest',\n",
    "      hoverdistance = 30,\n",
    "\n",
    "      mapbox=dict(accesstoken=MAPBOX_APIKEY,\n",
    "                  layers=layers,\n",
    "                  bearing=0,\n",
    "                  center=dict(\n",
    "                  lat=41.871941,\n",
    "                  lon=12.567380),\n",
    "                  pitch=0,\n",
    "                  zoom=4.9,\n",
    "                  style = 'light'\n",
    "            )\n",
    "      )"
   ]
  },
  {
   "cell_type": "code",
   "execution_count": null,
   "metadata": {
    "colab": {
     "base_uri": "https://localhost:8080/",
     "height": 817
    },
    "colab_type": "code",
    "id": "XhtPRmoFdcTu",
    "outputId": "1d80e2b2-651e-490f-f04b-8702f4e18f4a"
   },
   "outputs": [],
   "source": [
    "fig = dict(data=[data], layout=layout)\n",
    "iplot(fig)"
   ]
  },
  {
   "cell_type": "code",
   "execution_count": null,
   "metadata": {
    "colab": {},
    "colab_type": "code",
    "id": "lUnum6iSdcTv"
   },
   "outputs": [],
   "source": [
    "#HTML('<iframe width=\"900\" height=\"800\" frameborder=\"0\" scrolling=\"no\" src=\"//plot.ly/~vincenzo.pota/24.embed\"></iframe>')"
   ]
  },
  {
   "cell_type": "markdown",
   "metadata": {
    "colab_type": "text",
    "id": "5yVrQl1-dcTw"
   },
   "source": [
    "# How Students reach their Schools - private vehicle"
   ]
  },
  {
   "cell_type": "code",
   "execution_count": null,
   "metadata": {
    "colab": {
     "base_uri": "https://localhost:8080/",
     "height": 136
    },
    "colab_type": "code",
    "id": "LBzY_TX_dcTw",
    "outputId": "112bab99-b321-442a-ebcb-b386ab5e9c09"
   },
   "outputs": [],
   "source": [
    "un = pd.read_csv('/content/drive/My Drive/Colab Notebooks/Choropleth_Italy/StradaCasaScuola_2017-2018_vehicle.csv', index_col=0)\n",
    "un = un['Value']/100.\n",
    "un.index.name = 'Region'\n",
    "un.head()"
   ]
  },
  {
   "cell_type": "code",
   "execution_count": null,
   "metadata": {
    "colab": {},
    "colab_type": "code",
    "id": "rC0VUP9zdcTx"
   },
   "outputs": [],
   "source": [
    "with open('/content/drive/My Drive/Colab Notebooks/Choropleth_Italy/regioni.geojson') as f:\n",
    "     geojson = json.load(f)"
   ]
  },
  {
   "cell_type": "code",
   "execution_count": null,
   "metadata": {
    "colab": {
     "base_uri": "https://localhost:8080/",
     "height": 34
    },
    "colab_type": "code",
    "id": "Cf7XExKvdcTx",
    "outputId": "33d45081-08c1-4f63-f47d-5aa0b2f61430"
   },
   "outputs": [],
   "source": [
    "n_provinces = len(geojson['features'])\n",
    "province_names = [geojson['features'][k]['properties']['NOME_REG'] for k in range(n_provinces)]\n",
    "print(\"there are {} regions \".format(n_provinces))"
   ]
  },
  {
   "cell_type": "code",
   "execution_count": null,
   "metadata": {
    "colab": {},
    "colab_type": "code",
    "id": "y3FewALwdcTy"
   },
   "outputs": [],
   "source": [
    "def get_centers():\n",
    "    lon, lat =[], []\n",
    "\n",
    "    for k in range(n_provinces):\n",
    "        geometry = geojson['features'][k]['geometry']\n",
    "\n",
    "        if geometry['type'] == 'Polygon':\n",
    "            coords=np.array(geometry['coordinates'][0])\n",
    "        elif geometry['type'] == 'MultiPolygon':\n",
    "            coords=np.array(geometry['coordinates'][0][0])\n",
    "\n",
    "        lon.append(sum(coords[:,0]) / len(coords[:,0]))\n",
    "        lat.append(sum(coords[:,1]) / len(coords[:,1]))\n",
    "            \n",
    "    return lon, lat"
   ]
  },
  {
   "cell_type": "code",
   "execution_count": null,
   "metadata": {
    "colab": {},
    "colab_type": "code",
    "id": "xaGACbuzdcTy"
   },
   "outputs": [],
   "source": [
    "def match_regions(list1, list2):\n",
    "    \"\"\"\n",
    "    Match the region names of self.metric with the region names of the geojson\n",
    "    using fuzzy matching.\n",
    "\n",
    "    Return a dict with {'old_name': 'new_name'}\n",
    "    \"\"\"\n",
    "    matched = [process.extract(list1[i], list2, limit=1, scorer=fuzz.partial_ratio)[0][0] for i in range(0,len(list1))]\n",
    "\n",
    "    return {key: value for (key, value) in zip(list1, matched)}\n",
    "\n",
    "match_dict = match_regions(un.index, province_names)"
   ]
  },
  {
   "cell_type": "code",
   "execution_count": null,
   "metadata": {
    "colab": {
     "base_uri": "https://localhost:8080/",
     "height": 136
    },
    "colab_type": "code",
    "id": "aRdaOrRgdcTz",
    "outputId": "68afe8ba-7423-4f0b-cbfd-2c45443b2c10"
   },
   "outputs": [],
   "source": [
    "df_tmp = un.copy()\n",
    "df_tmp.index = df_tmp.index.map(match_dict) # rename\n",
    "df_tmp = df_tmp[~df_tmp.index.duplicated(keep=False)] # drop duplicates\n",
    "                                                      # from fuzzy match gone wrong\n",
    "#give the same index order as the geojson\n",
    "df_reindexed = df_tmp.reindex(index = province_names)\n",
    "df_reindexed.head()"
   ]
  },
  {
   "cell_type": "code",
   "execution_count": null,
   "metadata": {
    "colab": {},
    "colab_type": "code",
    "id": "P6KL1349dcT0"
   },
   "outputs": [],
   "source": [
    "def make_sources(downsample = 10):\n",
    "    sources = []\n",
    "    geojson_copy = copy.deepcopy(geojson['features'])\n",
    "    \n",
    "    for feature in geojson_copy:\n",
    "        \n",
    "        if downsample > 0:\n",
    "            coords = np.array(feature['geometry']['coordinates'][0][0])\n",
    "            coords = coords[::downsample]\n",
    "            feature['geometry']['coordinates'] = [[coords]]\n",
    "            \n",
    "        sources.append(dict(type = 'FeatureCollection', \n",
    "                            features = [feature])\n",
    "                      )\n",
    "    return sources"
   ]
  },
  {
   "cell_type": "code",
   "execution_count": null,
   "metadata": {
    "colab": {},
    "colab_type": "code",
    "id": "axx_oLFFdcT0"
   },
   "outputs": [],
   "source": [
    "def scalarmappable(cmap, cmin, cmax):\n",
    "        colormap = cm.get_cmap(cmap)\n",
    "        norm = Normalize(vmin=cmin, vmax=cmax)\n",
    "        return cm.ScalarMappable(norm=norm, cmap=colormap)\n",
    "    \n",
    "def get_scatter_colors(sm, df):\n",
    "    grey = 'rgba(128,128,128,1)'\n",
    "    return ['rgba' + str(sm.to_rgba(m, bytes = True, alpha = 1)) if not np.isnan(m) else grey for m in df]\n",
    "\n",
    "def get_colorscale(sm, df, cmin, cmax):\n",
    "    xrange = np.linspace(0, 1, len(df))\n",
    "    values = np.linspace(cmin, cmax, len(df))\n",
    "\n",
    "    return [[i, 'rgba' + str(sm.to_rgba(v, bytes = True))] for i,v in zip(xrange, values) ]\n",
    " \n",
    "def get_hover_text(df) :\n",
    "    text_value = (df*100).round(2).astype(str) + \" students (in thousands) \"\n",
    "    with_data = '<b>{}</b> <br> {} using Private Vehicle'\n",
    "    no_data = '<b>{}</b> <br> no data'\n",
    "    \n",
    "    return [with_data.format(p,v) if v != 'nan%' else no_data.format(p) for p,v in zip(df.index, text_value)]"
   ]
  },
  {
   "cell_type": "code",
   "execution_count": null,
   "metadata": {
    "colab": {},
    "colab_type": "code",
    "id": "schTjfFsdcT1"
   },
   "outputs": [],
   "source": [
    "colormap = 'Oranges'\n",
    "cmin = df_reindexed.min()\n",
    "cmax = df_reindexed.max()\n",
    "\n",
    "sources = make_sources(downsample=10)\n",
    "lons, lats = get_centers()\n",
    "\n",
    "sm = scalarmappable(colormap, cmin, cmax)\n",
    "scatter_colors = get_scatter_colors(sm, df_reindexed)\n",
    "colorscale = get_colorscale(sm, df_reindexed, cmin, cmax)\n",
    "hover_text = get_hover_text(df_reindexed)\n",
    "\n",
    "tickformat = \".0%\""
   ]
  },
  {
   "cell_type": "code",
   "execution_count": null,
   "metadata": {
    "colab": {},
    "colab_type": "code",
    "id": "yszLbv3adcT1"
   },
   "outputs": [],
   "source": [
    "data = dict(type='scattermapbox',\n",
    "             lat=lats,\n",
    "             lon=lons,\n",
    "             mode='markers',\n",
    "             text=hover_text,\n",
    "             marker=dict(size=1,\n",
    "                         color=scatter_colors,\n",
    "                         showscale = True,\n",
    "                         cmin = df_reindexed.min(),\n",
    "                         cmax = df_reindexed.max(),\n",
    "                         colorscale = colorscale,\n",
    "                         colorbar = dict(tickformat = tickformat )\n",
    "                         ),\n",
    "             showlegend=False,\n",
    "             hoverinfo='text'\n",
    "             )"
   ]
  },
  {
   "cell_type": "code",
   "execution_count": null,
   "metadata": {
    "colab": {},
    "colab_type": "code",
    "id": "YgXB9UE7dcT2"
   },
   "outputs": [],
   "source": [
    "layers=([dict(sourcetype = 'geojson',\n",
    "        source =sources[k],\n",
    "        below=\"\",\n",
    "        type = 'line',\n",
    "        line = dict(width = 1),\n",
    "        color = 'black',\n",
    "        ) for k in range(n_provinces)] +\n",
    "\n",
    "        [dict(sourcetype = 'geojson',\n",
    "             source =sources[k],\n",
    "             below=\"water\",\n",
    "             type = 'fill',\n",
    "             color = scatter_colors[k],\n",
    "             opacity=0.8\n",
    "            ) for k in range(n_provinces)]\n",
    "        )"
   ]
  },
  {
   "cell_type": "code",
   "execution_count": null,
   "metadata": {
    "colab": {},
    "colab_type": "code",
    "id": "m1DHa4GDdcT2"
   },
   "outputs": [],
   "source": [
    "data_url = \"http://dati.istat.it\"\n",
    "\n",
    "layout = dict(title=\"Students(in thousands)- using Private Vehicle (2017-2018) <br> \" + \n",
    "                    \"\"\"using <a href={}>open data</a> by the \"\"\".format(data_url) +\n",
    "                      \"Italian National Institute of Statistics\",\n",
    "      autosize=False,\n",
    "      width=700,\n",
    "      height=800,\n",
    "      hovermode='closest',\n",
    "      hoverdistance = 30,\n",
    "\n",
    "      mapbox=dict(accesstoken=MAPBOX_APIKEY,\n",
    "                  layers=layers,\n",
    "                  bearing=0,\n",
    "                  center=dict(\n",
    "                  lat=41.871941,\n",
    "                  lon=12.567380),\n",
    "                  pitch=0,\n",
    "                  zoom=4.9,\n",
    "                  style = 'light'\n",
    "            )\n",
    "      )"
   ]
  },
  {
   "cell_type": "code",
   "execution_count": null,
   "metadata": {
    "colab": {
     "base_uri": "https://localhost:8080/",
     "height": 817
    },
    "colab_type": "code",
    "id": "-SaK6yEVdcT3",
    "outputId": "81d5de14-9a06-46fd-8640-d02c7c1c4d88"
   },
   "outputs": [],
   "source": [
    "fig = dict(data=[data], layout=layout)\n",
    "iplot(fig)"
   ]
  },
  {
   "cell_type": "code",
   "execution_count": null,
   "metadata": {
    "colab": {},
    "colab_type": "code",
    "id": "psgjV48tdcT4"
   },
   "outputs": [],
   "source": [
    "#from IPython.display import HTML\n",
    "#HTML('<iframe width=\"900\" height=\"800\" frameborder=\"0\" scrolling=\"no\" src=\"//plot.ly/~vincenzo.pota/24.embed\"></iframe>')"
   ]
  },
  {
   "cell_type": "markdown",
   "metadata": {
    "colab_type": "text",
    "id": "Oa7l-VW1dcT4"
   },
   "source": [
    "# classic music and opera"
   ]
  },
  {
   "cell_type": "code",
   "execution_count": null,
   "metadata": {
    "colab": {
     "base_uri": "https://localhost:8080/",
     "height": 136
    },
    "colab_type": "code",
    "id": "at6sjoTbdcT4",
    "outputId": "c6e5c32f-aa2f-4690-8e9b-d581352634e7"
   },
   "outputs": [],
   "source": [
    "un = pd.read_csv('/content/drive/My Drive/Colab Notebooks/Choropleth_Italy/Classic_music_Shows_Opera_2018.csv', index_col=0)\n",
    "un = un['Value']/100.\n",
    "un.index.name = 'Region'\n",
    "un.head()"
   ]
  },
  {
   "cell_type": "code",
   "execution_count": null,
   "metadata": {
    "colab": {},
    "colab_type": "code",
    "id": "a9RDRVTqdcT5"
   },
   "outputs": [],
   "source": [
    "with open('/content/drive/My Drive/Colab Notebooks/Choropleth_Italy/regioni.geojson') as f:\n",
    "     geojson = json.load(f)"
   ]
  },
  {
   "cell_type": "code",
   "execution_count": null,
   "metadata": {
    "colab": {
     "base_uri": "https://localhost:8080/",
     "height": 34
    },
    "colab_type": "code",
    "id": "qx6yBdHVdcT6",
    "outputId": "51c83cf1-ed78-41f8-82e6-db9baac9c220"
   },
   "outputs": [],
   "source": [
    "n_provinces = len(geojson['features'])\n",
    "province_names = [geojson['features'][k]['properties']['NOME_REG'] for k in range(n_provinces)]\n",
    "print(\"there are {} regions \".format(n_provinces))"
   ]
  },
  {
   "cell_type": "code",
   "execution_count": null,
   "metadata": {
    "colab": {},
    "colab_type": "code",
    "id": "n5uvabG3dcT6"
   },
   "outputs": [],
   "source": [
    "def get_centers():\n",
    "    lon, lat =[], []\n",
    "\n",
    "    for k in range(n_provinces):\n",
    "        geometry = geojson['features'][k]['geometry']\n",
    "\n",
    "        if geometry['type'] == 'Polygon':\n",
    "            coords=np.array(geometry['coordinates'][0])\n",
    "        elif geometry['type'] == 'MultiPolygon':\n",
    "            coords=np.array(geometry['coordinates'][0][0])\n",
    "\n",
    "        lon.append(sum(coords[:,0]) / len(coords[:,0]))\n",
    "        lat.append(sum(coords[:,1]) / len(coords[:,1]))\n",
    "            \n",
    "    return lon, lat"
   ]
  },
  {
   "cell_type": "code",
   "execution_count": null,
   "metadata": {
    "colab": {},
    "colab_type": "code",
    "id": "z2Avz4GSdcT7"
   },
   "outputs": [],
   "source": [
    "def match_regions(list1, list2):\n",
    "    \"\"\"\n",
    "    Match the region names of self.metric with the region names of the geojson\n",
    "    using fuzzy matching.\n",
    "\n",
    "    Return a dict with {'old_name': 'new_name'}\n",
    "    \"\"\"\n",
    "    matched = [process.extract(list1[i], list2, limit=1, scorer=fuzz.partial_ratio)[0][0] for i in range(0,len(list1))]\n",
    "\n",
    "    return {key: value for (key, value) in zip(list1, matched)}\n",
    "\n",
    "match_dict = match_regions(un.index, province_names)"
   ]
  },
  {
   "cell_type": "code",
   "execution_count": null,
   "metadata": {
    "colab": {
     "base_uri": "https://localhost:8080/",
     "height": 136
    },
    "colab_type": "code",
    "id": "SE-8ZiLFdcT7",
    "outputId": "07ad1198-947a-4840-909e-e78369d13d7d"
   },
   "outputs": [],
   "source": [
    "df_tmp = un.copy()\n",
    "df_tmp.index = df_tmp.index.map(match_dict) # rename\n",
    "df_tmp = df_tmp[~df_tmp.index.duplicated(keep=False)] # drop duplicates\n",
    "                                                      # from fuzzy match gone wrong\n",
    "#give the same index order as the geojson\n",
    "df_reindexed = df_tmp.reindex(index = province_names)\n",
    "df_reindexed.head()"
   ]
  },
  {
   "cell_type": "code",
   "execution_count": null,
   "metadata": {
    "colab": {},
    "colab_type": "code",
    "id": "D7CvrRANdcT8"
   },
   "outputs": [],
   "source": [
    "def make_sources(downsample = 10):\n",
    "    sources = []\n",
    "    geojson_copy = copy.deepcopy(geojson['features'])\n",
    "    \n",
    "    for feature in geojson_copy:\n",
    "        \n",
    "        if downsample > 0:\n",
    "            coords = np.array(feature['geometry']['coordinates'][0][0])\n",
    "            coords = coords[::downsample]\n",
    "            feature['geometry']['coordinates'] = [[coords]]\n",
    "            \n",
    "        sources.append(dict(type = 'FeatureCollection', \n",
    "                            features = [feature])\n",
    "                      )\n",
    "    return sources"
   ]
  },
  {
   "cell_type": "code",
   "execution_count": null,
   "metadata": {
    "colab": {},
    "colab_type": "code",
    "id": "Aa91vpCKdcT9"
   },
   "outputs": [],
   "source": [
    "def scalarmappable(cmap, cmin, cmax):\n",
    "        colormap = cm.get_cmap(cmap)\n",
    "        norm = Normalize(vmin=cmin, vmax=cmax)\n",
    "        return cm.ScalarMappable(norm=norm, cmap=colormap)\n",
    "    \n",
    "def get_scatter_colors(sm, df):\n",
    "    grey = 'rgba(128,128,128,1)'\n",
    "    return ['rgba' + str(sm.to_rgba(m, bytes = True, alpha = 1)) if not np.isnan(m) else grey for m in df]\n",
    "\n",
    "def get_colorscale(sm, df, cmin, cmax):\n",
    "    xrange = np.linspace(0, 1, len(df))\n",
    "    values = np.linspace(cmin, cmax, len(df))\n",
    "\n",
    "    return [[i, 'rgba' + str(sm.to_rgba(v, bytes = True))] for i,v in zip(xrange, values) ]\n",
    " \n",
    "def get_hover_text(df) :\n",
    "    text_value = (df*100).round(2).astype(str) + \" shows \"\n",
    "    with_data = '<b>{}</b> <br> {} Classic music and Opera 2018'\n",
    "    no_data = '<b>{}</b> <br> no data'\n",
    "    \n",
    "    return [with_data.format(p,v) if v != 'nan%' else no_data.format(p) for p,v in zip(df.index, text_value)]"
   ]
  },
  {
   "cell_type": "code",
   "execution_count": null,
   "metadata": {
    "colab": {},
    "colab_type": "code",
    "id": "3hgiWoCSdcT9"
   },
   "outputs": [],
   "source": [
    "colormap = 'Greens'\n",
    "cmin = df_reindexed.min()\n",
    "cmax = df_reindexed.max()\n",
    "\n",
    "sources = make_sources(downsample=10)\n",
    "lons, lats = get_centers()\n",
    "\n",
    "sm = scalarmappable(colormap, cmin, cmax)\n",
    "scatter_colors = get_scatter_colors(sm, df_reindexed)\n",
    "colorscale = get_colorscale(sm, df_reindexed, cmin, cmax)\n",
    "hover_text = get_hover_text(df_reindexed)\n",
    "\n",
    "tickformat = \".0%\""
   ]
  },
  {
   "cell_type": "code",
   "execution_count": null,
   "metadata": {
    "colab": {},
    "colab_type": "code",
    "id": "rhmSY7IqdcT-"
   },
   "outputs": [],
   "source": [
    "data = dict(type='scattermapbox',\n",
    "             lat=lats,\n",
    "             lon=lons,\n",
    "             mode='markers',\n",
    "             text=hover_text,\n",
    "             marker=dict(size=1,\n",
    "                         color=scatter_colors,\n",
    "                         showscale = True,\n",
    "                         cmin = df_reindexed.min(),\n",
    "                         cmax = df_reindexed.max(),\n",
    "                         colorscale = colorscale,\n",
    "                         colorbar = dict(tickformat = tickformat )\n",
    "                         ),\n",
    "             showlegend=False,\n",
    "             hoverinfo='text'\n",
    "             )"
   ]
  },
  {
   "cell_type": "code",
   "execution_count": null,
   "metadata": {
    "colab": {},
    "colab_type": "code",
    "id": "hK8P9z6rdcT-"
   },
   "outputs": [],
   "source": [
    "layers=([dict(sourcetype = 'geojson',\n",
    "        source =sources[k],\n",
    "        below=\"\",\n",
    "        type = 'line',\n",
    "        line = dict(width = 1),\n",
    "        color = 'black',\n",
    "        ) for k in range(n_provinces)] +\n",
    "\n",
    "        [dict(sourcetype = 'geojson',\n",
    "             source =sources[k],\n",
    "             below=\"water\",\n",
    "             type = 'fill',\n",
    "             color = scatter_colors[k],\n",
    "             opacity=0.8\n",
    "            ) for k in range(n_provinces)]\n",
    "        )"
   ]
  },
  {
   "cell_type": "code",
   "execution_count": null,
   "metadata": {
    "colab": {},
    "colab_type": "code",
    "id": "SGx9K0D7dcT_"
   },
   "outputs": [],
   "source": [
    "data_url = \"http://dati.istat.it\"\n",
    "\n",
    "layout = dict(title=\"Classic music Shows and Opera (2018)<br> \" + \n",
    "                    \"\"\"using <a href={}>open data</a> by the \"\"\".format(data_url) +\n",
    "                      \"Italian National Institute of Statistics\",\n",
    "      autosize=False,\n",
    "      width=700,\n",
    "      height=800,\n",
    "      hovermode='closest',\n",
    "      hoverdistance = 30,\n",
    "\n",
    "      mapbox=dict(accesstoken=MAPBOX_APIKEY,\n",
    "                  layers=layers,\n",
    "                  bearing=0,\n",
    "                  center=dict(\n",
    "                  lat=41.871941,\n",
    "                  lon=12.567380),\n",
    "                  pitch=0,\n",
    "                  zoom=4.9,\n",
    "                  style = 'light'\n",
    "            )\n",
    "      )"
   ]
  },
  {
   "cell_type": "code",
   "execution_count": null,
   "metadata": {
    "colab": {
     "base_uri": "https://localhost:8080/",
     "height": 817
    },
    "colab_type": "code",
    "id": "ZKKhV66sdcT_",
    "outputId": "f551c546-9b0c-4eb2-c7c3-c182d88b7b20"
   },
   "outputs": [],
   "source": [
    "fig = dict(data=[data], layout=layout)\n",
    "iplot(fig)"
   ]
  },
  {
   "cell_type": "code",
   "execution_count": null,
   "metadata": {
    "colab": {},
    "colab_type": "code",
    "id": "GCDyU2IBdcUA"
   },
   "outputs": [],
   "source": [
    "#from IPython.display import HTML\n",
    "#HTML('<iframe width=\"900\" height=\"800\" frameborder=\"0\" scrolling=\"no\" src=\"//plot.ly/~vincenzo.pota/24.embed\"></iframe>')"
   ]
  },
  {
   "cell_type": "markdown",
   "metadata": {
    "colab_type": "text",
    "id": "boRlgs2qdcUB"
   },
   "source": [
    "# discotheque and concerts"
   ]
  },
  {
   "cell_type": "code",
   "execution_count": null,
   "metadata": {
    "colab": {
     "base_uri": "https://localhost:8080/",
     "height": 136
    },
    "colab_type": "code",
    "id": "tlyWMG8vdcUB",
    "outputId": "0c15c480-eb02-458b-e7d6-7cbe05a42b3d"
   },
   "outputs": [],
   "source": [
    "un = pd.read_csv('/content/drive/My Drive/Colab Notebooks/Choropleth_Italy/discotheque_Festivals-Concerts_2018.csv', index_col=0)\n",
    "un = un['Value']/100.\n",
    "un.index.name = 'Region'\n",
    "un.head()"
   ]
  },
  {
   "cell_type": "code",
   "execution_count": null,
   "metadata": {
    "colab": {},
    "colab_type": "code",
    "id": "NOxT65q0dcUC"
   },
   "outputs": [],
   "source": [
    "with open('/content/drive/My Drive/Colab Notebooks/Choropleth_Italy/regioni.geojson') as f:\n",
    "     geojson = json.load(f)"
   ]
  },
  {
   "cell_type": "code",
   "execution_count": null,
   "metadata": {
    "colab": {
     "base_uri": "https://localhost:8080/",
     "height": 34
    },
    "colab_type": "code",
    "id": "s0vjZ4z5dcUD",
    "outputId": "18a338b7-37dd-4d07-b250-cd9657c3efd1"
   },
   "outputs": [],
   "source": [
    "n_provinces = len(geojson['features'])\n",
    "province_names = [geojson['features'][k]['properties']['NOME_REG'] for k in range(n_provinces)]\n",
    "print(\"there are {} regions \".format(n_provinces))"
   ]
  },
  {
   "cell_type": "code",
   "execution_count": null,
   "metadata": {
    "colab": {},
    "colab_type": "code",
    "id": "8qMgJwv4dcUD"
   },
   "outputs": [],
   "source": [
    "def get_centers():\n",
    "    lon, lat =[], []\n",
    "\n",
    "    for k in range(n_provinces):\n",
    "        geometry = geojson['features'][k]['geometry']\n",
    "\n",
    "        if geometry['type'] == 'Polygon':\n",
    "            coords=np.array(geometry['coordinates'][0])\n",
    "        elif geometry['type'] == 'MultiPolygon':\n",
    "            coords=np.array(geometry['coordinates'][0][0])\n",
    "\n",
    "        lon.append(sum(coords[:,0]) / len(coords[:,0]))\n",
    "        lat.append(sum(coords[:,1]) / len(coords[:,1]))\n",
    "            \n",
    "    return lon, lat"
   ]
  },
  {
   "cell_type": "code",
   "execution_count": null,
   "metadata": {
    "colab": {},
    "colab_type": "code",
    "id": "WwAmtaSldcUE"
   },
   "outputs": [],
   "source": [
    "def match_regions(list1, list2):\n",
    "    \"\"\"\n",
    "    Match the region names of self.metric with the region names of the geojson\n",
    "    using fuzzy matching.\n",
    "\n",
    "    Return a dict with {'old_name': 'new_name'}\n",
    "    \"\"\"\n",
    "    matched = [process.extract(list1[i], list2, limit=1, scorer=fuzz.partial_ratio)[0][0] for i in range(0,len(list1))]\n",
    "\n",
    "    return {key: value for (key, value) in zip(list1, matched)}\n",
    "\n",
    "match_dict = match_regions(un.index, province_names)"
   ]
  },
  {
   "cell_type": "code",
   "execution_count": null,
   "metadata": {
    "colab": {
     "base_uri": "https://localhost:8080/",
     "height": 136
    },
    "colab_type": "code",
    "id": "vqASQoyEdcUE",
    "outputId": "5d7825f2-bd88-4e41-8ff3-154ae9b90edd"
   },
   "outputs": [],
   "source": [
    "df_tmp = un.copy()\n",
    "df_tmp.index = df_tmp.index.map(match_dict) # rename\n",
    "df_tmp = df_tmp[~df_tmp.index.duplicated(keep=False)] # drop duplicates\n",
    "                                                      # from fuzzy match gone wrong\n",
    "#give the same index order as the geojson\n",
    "df_reindexed = df_tmp.reindex(index = province_names)\n",
    "df_reindexed.head()"
   ]
  },
  {
   "cell_type": "code",
   "execution_count": null,
   "metadata": {
    "colab": {},
    "colab_type": "code",
    "id": "yAMq9ksLdcUF"
   },
   "outputs": [],
   "source": [
    "def make_sources(downsample = 10):\n",
    "    sources = []\n",
    "    geojson_copy = copy.deepcopy(geojson['features'])\n",
    "    \n",
    "    for feature in geojson_copy:\n",
    "        \n",
    "        if downsample > 0:\n",
    "            coords = np.array(feature['geometry']['coordinates'][0][0])\n",
    "            coords = coords[::downsample]\n",
    "            feature['geometry']['coordinates'] = [[coords]]\n",
    "            \n",
    "        sources.append(dict(type = 'FeatureCollection', \n",
    "                            features = [feature])\n",
    "                      )\n",
    "    return sources"
   ]
  },
  {
   "cell_type": "code",
   "execution_count": null,
   "metadata": {
    "colab": {},
    "colab_type": "code",
    "id": "zZzZ_31xdcUF"
   },
   "outputs": [],
   "source": [
    "def scalarmappable(cmap, cmin, cmax):\n",
    "        colormap = cm.get_cmap(cmap)\n",
    "        norm = Normalize(vmin=cmin, vmax=cmax)\n",
    "        return cm.ScalarMappable(norm=norm, cmap=colormap)\n",
    "    \n",
    "def get_scatter_colors(sm, df):\n",
    "    grey = 'rgba(128,128,128,1)'\n",
    "    return ['rgba' + str(sm.to_rgba(m, bytes = True, alpha = 1)) if not np.isnan(m) else grey for m in df]\n",
    "\n",
    "def get_colorscale(sm, df, cmin, cmax):\n",
    "    xrange = np.linspace(0, 1, len(df))\n",
    "    values = np.linspace(cmin, cmax, len(df))\n",
    "\n",
    "    return [[i, 'rgba' + str(sm.to_rgba(v, bytes = True))] for i,v in zip(xrange, values) ]\n",
    " \n",
    "def get_hover_text(df) :\n",
    "    text_value = (df*100).round(2).astype(str) + \" shows \"\n",
    "    with_data = '<b>{}</b> <br> {} discotheque Festivals and Concerts 2018'\n",
    "    no_data = '<b>{}</b> <br> no data'\n",
    "    \n",
    "    return [with_data.format(p,v) if v != 'nan%' else no_data.format(p) for p,v in zip(df.index, text_value)]"
   ]
  },
  {
   "cell_type": "code",
   "execution_count": null,
   "metadata": {
    "colab": {},
    "colab_type": "code",
    "id": "iTBZgZRzdcUG"
   },
   "outputs": [],
   "source": [
    "colormap = 'Greens'\n",
    "cmin = df_reindexed.min()\n",
    "cmax = df_reindexed.max()\n",
    "\n",
    "sources = make_sources(downsample=10)\n",
    "lons, lats = get_centers()\n",
    "\n",
    "sm = scalarmappable(colormap, cmin, cmax)\n",
    "scatter_colors = get_scatter_colors(sm, df_reindexed)\n",
    "colorscale = get_colorscale(sm, df_reindexed, cmin, cmax)\n",
    "hover_text = get_hover_text(df_reindexed)\n",
    "\n",
    "tickformat = \".0%\""
   ]
  },
  {
   "cell_type": "code",
   "execution_count": null,
   "metadata": {
    "colab": {},
    "colab_type": "code",
    "id": "D_-1-wEMdcUG"
   },
   "outputs": [],
   "source": [
    "layers=([dict(sourcetype = 'geojson',\n",
    "        source =sources[k],\n",
    "        below=\"\",\n",
    "        type = 'line',\n",
    "        line = dict(width = 1),\n",
    "        color = 'black',\n",
    "        ) for k in range(n_provinces)] +\n",
    "\n",
    "        [dict(sourcetype = 'geojson',\n",
    "             source =sources[k],\n",
    "             below=\"water\",\n",
    "             type = 'fill',\n",
    "             color = scatter_colors[k],\n",
    "             opacity=0.8\n",
    "            ) for k in range(n_provinces)]\n",
    "        )"
   ]
  },
  {
   "cell_type": "code",
   "execution_count": null,
   "metadata": {
    "colab": {},
    "colab_type": "code",
    "id": "2983InwddcUH"
   },
   "outputs": [],
   "source": [
    "data_url = \"http://dati.istat.it\"\n",
    "\n",
    "layout = dict(title=\"Discotheque Festivals Concerts (2018)<br> \" + \n",
    "                    \"\"\"using <a href={}>open data</a> by the \"\"\".format(data_url) +\n",
    "                      \"Italian National Institute of Statistics\",\n",
    "      autosize=False,\n",
    "      width=700,\n",
    "      height=800,\n",
    "      hovermode='closest',\n",
    "      hoverdistance = 30,\n",
    "\n",
    "      mapbox=dict(accesstoken=MAPBOX_APIKEY,\n",
    "                  layers=layers,\n",
    "                  bearing=0,\n",
    "                  center=dict(\n",
    "                  lat=41.871941,\n",
    "                  lon=12.567380),\n",
    "                  pitch=0,\n",
    "                  zoom=4.9,\n",
    "                  style = 'light'\n",
    "            )\n",
    "      )"
   ]
  },
  {
   "cell_type": "code",
   "execution_count": null,
   "metadata": {
    "colab": {
     "base_uri": "https://localhost:8080/",
     "height": 817
    },
    "colab_type": "code",
    "id": "EfEk4qwSdcUH",
    "outputId": "ab6fc6d6-9897-4095-937d-618c31211530"
   },
   "outputs": [],
   "source": [
    "fig = dict(data=[data], layout=layout)\n",
    "iplot(fig)"
   ]
  },
  {
   "cell_type": "code",
   "execution_count": null,
   "metadata": {
    "colab": {},
    "colab_type": "code",
    "id": "EghjdBDldcUI"
   },
   "outputs": [],
   "source": [
    "#from IPython.display import HTML\n",
    "#HTML('<iframe width=\"900\" height=\"800\" frameborder=\"0\" scrolling=\"no\" src=\"//plot.ly/~vincenzo.pota/24.embed\"></iframe>')"
   ]
  },
  {
   "cell_type": "markdown",
   "metadata": {
    "colab_type": "text",
    "id": "3-ecUTN1dcUJ"
   },
   "source": [
    "# Archeological sites and museums"
   ]
  },
  {
   "cell_type": "code",
   "execution_count": null,
   "metadata": {
    "colab": {
     "base_uri": "https://localhost:8080/",
     "height": 136
    },
    "colab_type": "code",
    "id": "GmC_pAOjdcUJ",
    "outputId": "2191d0d9-5f03-4f4a-afc5-62dd862f93de"
   },
   "outputs": [],
   "source": [
    "un = pd.read_csv('/content/drive/My Drive/Colab Notebooks/Choropleth_Italy/Museums_Archaeological-sites_2018.csv', index_col=0)\n",
    "un = un['Value']/100.\n",
    "un.index.name = 'Region'\n",
    "un.head()"
   ]
  },
  {
   "cell_type": "code",
   "execution_count": null,
   "metadata": {
    "colab": {},
    "colab_type": "code",
    "id": "WljKkMOedcUJ"
   },
   "outputs": [],
   "source": [
    "with open('/content/drive/My Drive/Colab Notebooks/Choropleth_Italy/regioni.geojson') as f:\n",
    "     geojson = json.load(f)"
   ]
  },
  {
   "cell_type": "code",
   "execution_count": null,
   "metadata": {
    "colab": {
     "base_uri": "https://localhost:8080/",
     "height": 34
    },
    "colab_type": "code",
    "id": "Qz0466bndcUK",
    "outputId": "6e9bf39c-ea8e-40dc-e2ca-abd1285a81ad"
   },
   "outputs": [],
   "source": [
    "n_provinces = len(geojson['features'])\n",
    "province_names = [geojson['features'][k]['properties']['NOME_REG'] for k in range(n_provinces)]\n",
    "print(\"there are {} regions \".format(n_provinces))"
   ]
  },
  {
   "cell_type": "code",
   "execution_count": null,
   "metadata": {
    "colab": {},
    "colab_type": "code",
    "id": "wI327NFgdcUL"
   },
   "outputs": [],
   "source": [
    "def get_centers():\n",
    "    lon, lat =[], []\n",
    "\n",
    "    for k in range(n_provinces):\n",
    "        geometry = geojson['features'][k]['geometry']\n",
    "\n",
    "        if geometry['type'] == 'Polygon':\n",
    "            coords=np.array(geometry['coordinates'][0])\n",
    "        elif geometry['type'] == 'MultiPolygon':\n",
    "            coords=np.array(geometry['coordinates'][0][0])\n",
    "\n",
    "        lon.append(sum(coords[:,0]) / len(coords[:,0]))\n",
    "        lat.append(sum(coords[:,1]) / len(coords[:,1]))\n",
    "            \n",
    "    return lon, lat"
   ]
  },
  {
   "cell_type": "code",
   "execution_count": null,
   "metadata": {
    "colab": {},
    "colab_type": "code",
    "id": "o3ME4UsDdcUL"
   },
   "outputs": [],
   "source": [
    "def match_regions(list1, list2):\n",
    "    \"\"\"\n",
    "    Match the region names of self.metric with the region names of the geojson\n",
    "    using fuzzy matching.\n",
    "\n",
    "    Return a dict with {'old_name': 'new_name'}\n",
    "    \"\"\"\n",
    "    matched = [process.extract(list1[i], list2, limit=1, scorer=fuzz.partial_ratio)[0][0] for i in range(0,len(list1))]\n",
    "\n",
    "    return {key: value for (key, value) in zip(list1, matched)}\n",
    "\n",
    "match_dict = match_regions(un.index, province_names)"
   ]
  },
  {
   "cell_type": "code",
   "execution_count": null,
   "metadata": {
    "colab": {
     "base_uri": "https://localhost:8080/",
     "height": 136
    },
    "colab_type": "code",
    "id": "mNkbdVfidcUM",
    "outputId": "ff2977cd-1256-4997-bc59-8ca4d1216aa2"
   },
   "outputs": [],
   "source": [
    "df_tmp = un.copy()\n",
    "df_tmp.index = df_tmp.index.map(match_dict) # rename\n",
    "df_tmp = df_tmp[~df_tmp.index.duplicated(keep=False)] # drop duplicates\n",
    "                                                      # from fuzzy match gone wrong\n",
    "#give the same index order as the geojson\n",
    "df_reindexed = df_tmp.reindex(index = province_names)\n",
    "df_reindexed.head()"
   ]
  },
  {
   "cell_type": "code",
   "execution_count": null,
   "metadata": {
    "colab": {},
    "colab_type": "code",
    "id": "4tfFx_e-dcUM"
   },
   "outputs": [],
   "source": [
    "def make_sources(downsample = 10):\n",
    "    sources = []\n",
    "    geojson_copy = copy.deepcopy(geojson['features'])\n",
    "    \n",
    "    for feature in geojson_copy:\n",
    "        \n",
    "        if downsample > 0:\n",
    "            coords = np.array(feature['geometry']['coordinates'][0][0])\n",
    "            coords = coords[::downsample]\n",
    "            feature['geometry']['coordinates'] = [[coords]]\n",
    "            \n",
    "        sources.append(dict(type = 'FeatureCollection', \n",
    "                            features = [feature])\n",
    "                      )\n",
    "    return sources"
   ]
  },
  {
   "cell_type": "code",
   "execution_count": null,
   "metadata": {
    "colab": {},
    "colab_type": "code",
    "id": "W-PvZk-9dcUN"
   },
   "outputs": [],
   "source": [
    "def scalarmappable(cmap, cmin, cmax):\n",
    "        colormap = cm.get_cmap(cmap)\n",
    "        norm = Normalize(vmin=cmin, vmax=cmax)\n",
    "        return cm.ScalarMappable(norm=norm, cmap=colormap)\n",
    "    \n",
    "def get_scatter_colors(sm, df):\n",
    "    grey = 'rgba(128,128,128,1)'\n",
    "    return ['rgba' + str(sm.to_rgba(m, bytes = True, alpha = 1)) if not np.isnan(m) else grey for m in df]\n",
    "\n",
    "def get_colorscale(sm, df, cmin, cmax):\n",
    "    xrange = np.linspace(0, 1, len(df))\n",
    "    values = np.linspace(cmin, cmax, len(df))\n",
    "\n",
    "    return [[i, 'rgba' + str(sm.to_rgba(v, bytes = True))] for i,v in zip(xrange, values) ]\n",
    " \n",
    "def get_hover_text(df) :\n",
    "    text_value = (df*100).round(2).astype(str) + \" shows \"\n",
    "    with_data = '<b>{}</b> <br> {} Museums and Archaeological-sites 2018'\n",
    "    no_data = '<b>{}</b> <br> no data'\n",
    "    \n",
    "    return [with_data.format(p,v) if v != 'nan%' else no_data.format(p) for p,v in zip(df.index, text_value)]"
   ]
  },
  {
   "cell_type": "code",
   "execution_count": null,
   "metadata": {
    "colab": {},
    "colab_type": "code",
    "id": "hhzMzI6mdcUO"
   },
   "outputs": [],
   "source": [
    "colormap = 'Greens'\n",
    "cmin = df_reindexed.min()\n",
    "cmax = df_reindexed.max()\n",
    "\n",
    "sources = make_sources(downsample=10)\n",
    "lons, lats = get_centers()\n",
    "\n",
    "sm = scalarmappable(colormap, cmin, cmax)\n",
    "scatter_colors = get_scatter_colors(sm, df_reindexed)\n",
    "colorscale = get_colorscale(sm, df_reindexed, cmin, cmax)\n",
    "hover_text = get_hover_text(df_reindexed)\n",
    "\n",
    "tickformat = \".0%\""
   ]
  },
  {
   "cell_type": "code",
   "execution_count": null,
   "metadata": {
    "colab": {},
    "colab_type": "code",
    "id": "1uNmpo_XdcUO"
   },
   "outputs": [],
   "source": [
    "data = dict(type='scattermapbox',\n",
    "             lat=lats,\n",
    "             lon=lons,\n",
    "             mode='markers',\n",
    "             text=hover_text,\n",
    "             marker=dict(size=1,\n",
    "                         color=scatter_colors,\n",
    "                         showscale = True,\n",
    "                         cmin = df_reindexed.min(),\n",
    "                         cmax = df_reindexed.max(),\n",
    "                         colorscale = colorscale,\n",
    "                         colorbar = dict(tickformat = tickformat )\n",
    "                         ),\n",
    "             showlegend=False,\n",
    "             hoverinfo='text'\n",
    "             )"
   ]
  },
  {
   "cell_type": "code",
   "execution_count": null,
   "metadata": {
    "colab": {},
    "colab_type": "code",
    "id": "BV_oUj-jdcUP"
   },
   "outputs": [],
   "source": [
    "layers=([dict(sourcetype = 'geojson',\n",
    "        source =sources[k],\n",
    "        below=\"\",\n",
    "        type = 'line',\n",
    "        line = dict(width = 1),\n",
    "        color = 'black',\n",
    "        ) for k in range(n_provinces)] +\n",
    "\n",
    "        [dict(sourcetype = 'geojson',\n",
    "             source =sources[k],\n",
    "             below=\"water\",\n",
    "             type = 'fill',\n",
    "             color = scatter_colors[k],\n",
    "             opacity=0.8\n",
    "            ) for k in range(n_provinces)]\n",
    "        )"
   ]
  },
  {
   "cell_type": "code",
   "execution_count": null,
   "metadata": {
    "colab": {},
    "colab_type": "code",
    "id": "mUzJWpS1dcUP"
   },
   "outputs": [],
   "source": [
    "data_url = \"http://dati.istat.it\"\n",
    "\n",
    "layout = dict(title=\"Museums and Archaeological-sites (2018)<br> \" + \n",
    "                    \"\"\"using <a href={}>open data</a> by the \"\"\".format(data_url) +\n",
    "                      \"Italian National Institute of Statistics\",\n",
    "      autosize=False,\n",
    "      width=700,\n",
    "      height=800,\n",
    "      hovermode='closest',\n",
    "      hoverdistance = 30,\n",
    "\n",
    "      mapbox=dict(accesstoken=MAPBOX_APIKEY,\n",
    "                  layers=layers,\n",
    "                  bearing=0,\n",
    "                  center=dict(\n",
    "                  lat=41.871941,\n",
    "                  lon=12.567380),\n",
    "                  pitch=0,\n",
    "                  zoom=4.9,\n",
    "                  style = 'light'\n",
    "            )\n",
    "      )"
   ]
  },
  {
   "cell_type": "code",
   "execution_count": null,
   "metadata": {
    "colab": {
     "base_uri": "https://localhost:8080/",
     "height": 817
    },
    "colab_type": "code",
    "id": "o3xC4dkvdcUQ",
    "outputId": "2544493f-a616-41cf-f448-31c6c61b2789"
   },
   "outputs": [],
   "source": [
    "fig = dict(data=[data], layout=layout)\n",
    "iplot(fig)"
   ]
  },
  {
   "cell_type": "code",
   "execution_count": null,
   "metadata": {
    "colab": {},
    "colab_type": "code",
    "id": "geTfFJVRdcUR"
   },
   "outputs": [],
   "source": [
    "#from IPython.display import HTML\n",
    "#HTML('<iframe width=\"900\" height=\"800\" frameborder=\"0\" scrolling=\"no\" src=\"//plot.ly/~vincenzo.pota/24.embed\"></iframe>')"
   ]
  },
  {
   "cell_type": "markdown",
   "metadata": {
    "colab_type": "text",
    "id": "QtwEEfzudcUR"
   },
   "source": [
    "# violence Against Women"
   ]
  },
  {
   "cell_type": "code",
   "execution_count": null,
   "metadata": {
    "colab": {
     "base_uri": "https://localhost:8080/",
     "height": 136
    },
    "colab_type": "code",
    "id": "kI_A_Bq2dcUR",
    "outputId": "0feaab85-3644-4f57-98b3-def0d0678ad3"
   },
   "outputs": [],
   "source": [
    "un = pd.read_csv('/content/drive/My Drive/Colab Notebooks/Choropleth_Italy/AbuseViolence_Against_Women2014_1_6.csv', index_col=0)\n",
    "un = un['Value']/100.\n",
    "un.index.name = 'Region'\n",
    "un.head()"
   ]
  },
  {
   "cell_type": "code",
   "execution_count": null,
   "metadata": {
    "colab": {},
    "colab_type": "code",
    "id": "OLS2EC7rdcUS"
   },
   "outputs": [],
   "source": [
    "with open('/content/drive/My Drive/Colab Notebooks/Choropleth_Italy/regioni.geojson') as f:\n",
    "     geojson = json.load(f)"
   ]
  },
  {
   "cell_type": "code",
   "execution_count": null,
   "metadata": {
    "colab": {
     "base_uri": "https://localhost:8080/",
     "height": 34
    },
    "colab_type": "code",
    "id": "RncpPn8NdcUS",
    "outputId": "f3713059-5c60-4bb7-d20b-ac3ba8ac7636"
   },
   "outputs": [],
   "source": [
    "n_provinces = len(geojson['features'])\n",
    "province_names = [geojson['features'][k]['properties']['NOME_REG'] for k in range(n_provinces)]\n",
    "print(\"there are {} regions \".format(n_provinces))"
   ]
  },
  {
   "cell_type": "code",
   "execution_count": null,
   "metadata": {
    "colab": {},
    "colab_type": "code",
    "id": "CXXLHskOdcUU"
   },
   "outputs": [],
   "source": [
    "def get_centers():\n",
    "    lon, lat =[], []\n",
    "\n",
    "    for k in range(n_provinces):\n",
    "        geometry = geojson['features'][k]['geometry']\n",
    "\n",
    "        if geometry['type'] == 'Polygon':\n",
    "            coords=np.array(geometry['coordinates'][0])\n",
    "        elif geometry['type'] == 'MultiPolygon':\n",
    "            coords=np.array(geometry['coordinates'][0][0])\n",
    "\n",
    "        lon.append(sum(coords[:,0]) / len(coords[:,0]))\n",
    "        lat.append(sum(coords[:,1]) / len(coords[:,1]))\n",
    "            \n",
    "    return lon, lat"
   ]
  },
  {
   "cell_type": "code",
   "execution_count": null,
   "metadata": {
    "colab": {},
    "colab_type": "code",
    "id": "NyGIqaRJdcUU"
   },
   "outputs": [],
   "source": [
    "def match_regions(list1, list2):\n",
    "    \"\"\"\n",
    "    Match the region names of self.metric with the region names of the geojson\n",
    "    using fuzzy matching.\n",
    "\n",
    "    Return a dict with {'old_name': 'new_name'}\n",
    "    \"\"\"\n",
    "    matched = [process.extract(list1[i], list2, limit=1, scorer=fuzz.partial_ratio)[0][0] for i in range(0,len(list1))]\n",
    "\n",
    "    return {key: value for (key, value) in zip(list1, matched)}\n",
    "\n",
    "match_dict = match_regions(un.index, province_names)"
   ]
  },
  {
   "cell_type": "code",
   "execution_count": null,
   "metadata": {
    "colab": {
     "base_uri": "https://localhost:8080/",
     "height": 136
    },
    "colab_type": "code",
    "id": "bexgMnLZdcUV",
    "outputId": "74f5f59f-51a6-4baa-a9ad-98bd098a7ef0"
   },
   "outputs": [],
   "source": [
    "df_tmp = un.copy()\n",
    "df_tmp.index = df_tmp.index.map(match_dict) # rename\n",
    "df_tmp = df_tmp[~df_tmp.index.duplicated(keep=False)] # drop duplicates\n",
    "                                                      # from fuzzy match gone wrong\n",
    "#give the same index order as the geojson\n",
    "df_reindexed = df_tmp.reindex(index = province_names)\n",
    "df_reindexed.head()"
   ]
  },
  {
   "cell_type": "code",
   "execution_count": null,
   "metadata": {
    "colab": {},
    "colab_type": "code",
    "id": "LUmslZTqdcUV"
   },
   "outputs": [],
   "source": [
    "def make_sources(downsample = 10):\n",
    "    sources = []\n",
    "    geojson_copy = copy.deepcopy(geojson['features'])\n",
    "    \n",
    "    for feature in geojson_copy:\n",
    "        \n",
    "        if downsample > 0:\n",
    "            coords = np.array(feature['geometry']['coordinates'][0][0])\n",
    "            coords = coords[::downsample]\n",
    "            feature['geometry']['coordinates'] = [[coords]]\n",
    "            \n",
    "        sources.append(dict(type = 'FeatureCollection', \n",
    "                            features = [feature])\n",
    "                      )\n",
    "    return sources"
   ]
  },
  {
   "cell_type": "code",
   "execution_count": null,
   "metadata": {
    "colab": {},
    "colab_type": "code",
    "id": "grT0GMQodcUW"
   },
   "outputs": [],
   "source": [
    "def scalarmappable(cmap, cmin, cmax):\n",
    "        colormap = cm.get_cmap(cmap)\n",
    "        norm = Normalize(vmin=cmin, vmax=cmax)\n",
    "        return cm.ScalarMappable(norm=norm, cmap=colormap)\n",
    "    \n",
    "def get_scatter_colors(sm, df):\n",
    "    grey = 'rgba(128,128,128,1)'\n",
    "    return ['rgba' + str(sm.to_rgba(m, bytes = True, alpha = 1)) if not np.isnan(m) else grey for m in df]\n",
    "\n",
    "def get_colorscale(sm, df, cmin, cmax):\n",
    "    xrange = np.linspace(0, 1, len(df))\n",
    "    values = np.linspace(cmin, cmax, len(df))\n",
    "\n",
    "    return [[i, 'rgba' + str(sm.to_rgba(v, bytes = True))] for i,v in zip(xrange, values) ]\n",
    " \n",
    "def get_hover_text(df) :\n",
    "    text_value = (df*100).round(2).astype(str) + \" \"\n",
    "    with_data = '<b>{}</b> <br> {} Abuse/Violence Against Women'\n",
    "    no_data = '<b>{}</b> <br> no data'\n",
    "    \n",
    "    return [with_data.format(p,v) if v != 'nan%' else no_data.format(p) for p,v in zip(df.index, text_value)]"
   ]
  },
  {
   "cell_type": "code",
   "execution_count": null,
   "metadata": {
    "colab": {},
    "colab_type": "code",
    "id": "lOIBJ-RjdcUW"
   },
   "outputs": [],
   "source": [
    "colormap = 'RdPu'\n",
    "cmin = df_reindexed.min()\n",
    "cmax = df_reindexed.max()\n",
    "\n",
    "sources = make_sources(downsample=10)\n",
    "lons, lats = get_centers()\n",
    "\n",
    "sm = scalarmappable(colormap, cmin, cmax)\n",
    "scatter_colors = get_scatter_colors(sm, df_reindexed)\n",
    "colorscale = get_colorscale(sm, df_reindexed, cmin, cmax)\n",
    "hover_text = get_hover_text(df_reindexed)\n",
    "\n",
    "tickformat = \".0%\""
   ]
  },
  {
   "cell_type": "code",
   "execution_count": null,
   "metadata": {
    "colab": {},
    "colab_type": "code",
    "id": "dfYupBDcdcUX"
   },
   "outputs": [],
   "source": [
    "data = dict(type='scattermapbox',\n",
    "             lat=lats,\n",
    "             lon=lons,\n",
    "             mode='markers',\n",
    "             text=hover_text,\n",
    "             marker=dict(size=1,\n",
    "                         color=scatter_colors,\n",
    "                         showscale = True,\n",
    "                         cmin = df_reindexed.min(),\n",
    "                         cmax = df_reindexed.max(),\n",
    "                         colorscale = colorscale,\n",
    "                         colorbar = dict(tickformat = tickformat )\n",
    "                         ),\n",
    "             showlegend=False,\n",
    "             hoverinfo='text'\n",
    "             )"
   ]
  },
  {
   "cell_type": "code",
   "execution_count": null,
   "metadata": {
    "colab": {},
    "colab_type": "code",
    "id": "YYYp5QtmdcUY"
   },
   "outputs": [],
   "source": [
    "layers=([dict(sourcetype = 'geojson',\n",
    "        source =sources[k],\n",
    "        below=\"\",\n",
    "        type = 'line',\n",
    "        line = dict(width = 1),\n",
    "        color = 'black',\n",
    "        ) for k in range(n_provinces)] +\n",
    "\n",
    "        [dict(sourcetype = 'geojson',\n",
    "             source =sources[k],\n",
    "             below=\"water\",\n",
    "             type = 'fill',\n",
    "             color = scatter_colors[k],\n",
    "             opacity=0.8\n",
    "            ) for k in range(n_provinces)]\n",
    "        )"
   ]
  },
  {
   "cell_type": "code",
   "execution_count": null,
   "metadata": {
    "colab": {},
    "colab_type": "code",
    "id": "rwYT2KbydcUY"
   },
   "outputs": [],
   "source": [
    "data_url = \"http://dati.istat.it\"\n",
    "\n",
    "layout = dict(title=\"Abuse/Violence Against Women (2014)<br> \" + \n",
    "                    \"\"\"using <a href={}>open data</a> by the \"\"\".format(data_url) +\n",
    "                      \"Italian National Institute of Statistics\",\n",
    "      autosize=False,\n",
    "      width=700,\n",
    "      height=800,\n",
    "      hovermode='closest',\n",
    "      hoverdistance = 30,\n",
    "\n",
    "      mapbox=dict(accesstoken=MAPBOX_APIKEY,\n",
    "                  layers=layers,\n",
    "                  bearing=0,\n",
    "                  center=dict(\n",
    "                  lat=41.871941,\n",
    "                  lon=12.567380),\n",
    "                  pitch=0,\n",
    "                  zoom=4.9,\n",
    "                  style = 'light'\n",
    "            )\n",
    "      )"
   ]
  },
  {
   "cell_type": "code",
   "execution_count": null,
   "metadata": {
    "colab": {
     "base_uri": "https://localhost:8080/",
     "height": 817
    },
    "colab_type": "code",
    "id": "C99i6lbYdcUZ",
    "outputId": "125cca6f-b2c6-4db6-ad8a-1a56d0167136"
   },
   "outputs": [],
   "source": [
    "fig = dict(data=[data], layout=layout)\n",
    "iplot(fig)"
   ]
  },
  {
   "cell_type": "code",
   "execution_count": null,
   "metadata": {
    "colab": {},
    "colab_type": "code",
    "id": "ituVe3VodcUa"
   },
   "outputs": [],
   "source": [
    "#from IPython.display import HTML\n",
    "#HTML('<iframe width=\"900\" height=\"800\" frameborder=\"0\" scrolling=\"no\" src=\"//plot.ly/~vincenzo.pota/24.embed\"></iframe>')"
   ]
  }
 ],
 "metadata": {
  "accelerator": "GPU",
  "colab": {
   "collapsed_sections": [],
   "name": "ChoroplethItaly.ipynb",
   "provenance": []
  },
  "kernelspec": {
   "display_name": "Python 3",
   "language": "python",
   "name": "python3"
  },
  "language_info": {
   "codemirror_mode": {
    "name": "ipython",
    "version": 3
   },
   "file_extension": ".py",
   "mimetype": "text/x-python",
   "name": "python",
   "nbconvert_exporter": "python",
   "pygments_lexer": "ipython3",
   "version": "3.6.10"
  },
  "toc": {
   "base_numbering": 1,
   "nav_menu": {},
   "number_sections": true,
   "sideBar": true,
   "skip_h1_title": false,
   "title_cell": "Table of Contents",
   "title_sidebar": "Contents",
   "toc_cell": false,
   "toc_position": {},
   "toc_section_display": true,
   "toc_window_display": false
  }
 },
 "nbformat": 4,
 "nbformat_minor": 1
}
